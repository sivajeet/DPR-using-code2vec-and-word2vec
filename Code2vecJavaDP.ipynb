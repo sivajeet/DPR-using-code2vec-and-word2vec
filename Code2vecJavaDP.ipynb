{
  "nbformat": 4,
  "nbformat_minor": 0,
  "metadata": {
    "colab": {
      "provenance": []
    },
    "kernelspec": {
      "name": "python3",
      "display_name": "Python 3"
    },
    "language_info": {
      "name": "python"
    }
  },
  "cells": [
    {
      "cell_type": "markdown",
      "source": [
        "To store all the data and files in a common place we are using Google drive for this project."
      ],
      "metadata": {
        "id": "N9bB-uyuP8d0"
      }
    },
    {
      "cell_type": "code",
      "execution_count": 1,
      "metadata": {
        "colab": {
          "base_uri": "https://localhost:8080/"
        },
        "id": "uwEw5ySH3Y4F",
        "outputId": "ca6b3da7-5667-46e0-ed58-190d1512b650"
      },
      "outputs": [
        {
          "output_type": "stream",
          "name": "stdout",
          "text": [
            "Mounted at /content/drive\n"
          ]
        }
      ],
      "source": [
        "from google.colab import drive\n",
        "drive.mount('/content/drive')"
      ]
    },
    {
      "cell_type": "code",
      "source": [
        "cd "
      ],
      "metadata": {
        "colab": {
          "base_uri": "https://localhost:8080/"
        },
        "id": "vkoLpasU3xI0",
        "outputId": "cbfff086-f5c5-47dd-a8fd-7e7a19c9c406"
      },
      "execution_count": null,
      "outputs": [
        {
          "output_type": "stream",
          "name": "stdout",
          "text": [
            "/root\n"
          ]
        }
      ]
    },
    {
      "cell_type": "code",
      "source": [
        "cd /content/drive/MyDrive"
      ],
      "metadata": {
        "colab": {
          "base_uri": "https://localhost:8080/"
        },
        "id": "XOpr8jYN369p",
        "outputId": "9f23073b-a3c8-4e88-c4e7-126e0c1771c1"
      },
      "execution_count": null,
      "outputs": [
        {
          "output_type": "stream",
          "name": "stdout",
          "text": [
            "/content/drive/MyDrive\n"
          ]
        }
      ]
    },
    {
      "cell_type": "code",
      "source": [
        "Code2vec folder has been created in the project root directory to clone the Code2vec model."
      ],
      "metadata": {
        "id": "BIIGso35QY3c"
      },
      "execution_count": null,
      "outputs": []
    },
    {
      "cell_type": "code",
      "source": [
        "cd Code2vecJava"
      ],
      "metadata": {
        "colab": {
          "base_uri": "https://localhost:8080/"
        },
        "id": "GWIMIsMI4CTX",
        "outputId": "652f315b-c03d-4b1c-88e8-754feb16b42e"
      },
      "execution_count": null,
      "outputs": [
        {
          "output_type": "stream",
          "name": "stdout",
          "text": [
            "/content/drive/MyDrive/Code2vecJava\n"
          ]
        }
      ]
    },
    {
      "cell_type": "markdown",
      "source": [
        "Official code2vec repository has been cloned into a folder called Code2vec."
      ],
      "metadata": {
        "id": "_KX6N4-zQJ_p"
      }
    },
    {
      "cell_type": "code",
      "source": [
        "!git clone https://github.com/tech-srl/code2vec.git"
      ],
      "metadata": {
        "colab": {
          "base_uri": "https://localhost:8080/"
        },
        "id": "5Tniz8FL4OiM",
        "outputId": "237c10ca-7450-4d0d-b879-2b6d5b09b91f"
      },
      "execution_count": null,
      "outputs": [
        {
          "output_type": "stream",
          "name": "stdout",
          "text": [
            "fatal: destination path 'code2vec' already exists and is not an empty directory.\n"
          ]
        }
      ]
    },
    {
      "cell_type": "markdown",
      "source": [
        "To store the training data, a train folder has been created inside the code2vec folder(where code2vec has been cloned) to store the training data."
      ],
      "metadata": {
        "id": "RTO_iKr3Q856"
      }
    },
    {
      "cell_type": "code",
      "source": [
        "cd code2vec/train"
      ],
      "metadata": {
        "colab": {
          "base_uri": "https://localhost:8080/"
        },
        "id": "QgcoqyCn4SvX",
        "outputId": "10a4549e-9ac0-440b-e2d5-594df479e078"
      },
      "execution_count": null,
      "outputs": [
        {
          "output_type": "stream",
          "name": "stdout",
          "text": [
            "/content/drive/MyDrive/Code2vecJava/code2vec/train\n"
          ]
        }
      ]
    },
    {
      "cell_type": "markdown",
      "source": [
        "Relevent repositories from Genivi and AndroidAuto has been cloned to the train folder."
      ],
      "metadata": {
        "id": "uaZwD_dlRBoV"
      }
    },
    {
      "cell_type": "code",
      "source": [
        "!git clone https://github.com/GENIVI/persistence-db-configuration-tool.git"
      ],
      "metadata": {
        "colab": {
          "base_uri": "https://localhost:8080/"
        },
        "id": "QmVi2lpv4a9q",
        "outputId": "b8d8f162-7149-4c79-ce68-c967f858ce2d"
      },
      "execution_count": null,
      "outputs": [
        {
          "output_type": "stream",
          "name": "stdout",
          "text": [
            "Cloning into 'persistence-db-configuration-tool'...\n",
            "remote: Enumerating objects: 567, done.\u001b[K\n",
            "remote: Total 567 (delta 0), reused 0 (delta 0), pack-reused 567\u001b[K\n",
            "Receiving objects: 100% (567/567), 2.23 MiB | 4.46 MiB/s, done.\n",
            "Resolving deltas: 100% (270/270), done.\n",
            "Checking out files: 100% (204/204), done.\n"
          ]
        }
      ]
    },
    {
      "cell_type": "code",
      "source": [
        "!git clone https://github.com/GENIVI/rvi_pki_android.git"
      ],
      "metadata": {
        "colab": {
          "base_uri": "https://localhost:8080/"
        },
        "id": "VTnrok6J4e6A",
        "outputId": "5e167e61-e785-4e04-89e3-dbb9923228ba"
      },
      "execution_count": null,
      "outputs": [
        {
          "output_type": "stream",
          "name": "stdout",
          "text": [
            "Cloning into 'rvi_pki_android'...\n",
            "remote: Enumerating objects: 424, done.\u001b[K\n",
            "remote: Total 424 (delta 0), reused 0 (delta 0), pack-reused 424\u001b[K\n",
            "Receiving objects: 100% (424/424), 69.74 KiB | 438.00 KiB/s, done.\n",
            "Resolving deltas: 100% (155/155), done.\n"
          ]
        }
      ]
    },
    {
      "cell_type": "code",
      "source": [
        "!git clone https://github.com/android/car-samples.git"
      ],
      "metadata": {
        "colab": {
          "base_uri": "https://localhost:8080/"
        },
        "id": "jYSh7Zzu4kJf",
        "outputId": "dbf5d9ee-2664-46d3-b364-11864f1bba82"
      },
      "execution_count": null,
      "outputs": [
        {
          "output_type": "stream",
          "name": "stdout",
          "text": [
            "Cloning into 'car-samples'...\n",
            "remote: Enumerating objects: 3111, done.\u001b[K\n",
            "remote: Counting objects: 100% (842/842), done.\u001b[K\n",
            "remote: Compressing objects: 100% (214/214), done.\u001b[K\n",
            "remote: Total 3111 (delta 408), reused 746 (delta 369), pack-reused 2269\u001b[K\n",
            "Receiving objects: 100% (3111/3111), 2.95 MiB | 3.83 MiB/s, done.\n",
            "Resolving deltas: 100% (1250/1250), done.\n",
            "Checking out files: 100% (334/334), done.\n"
          ]
        }
      ]
    },
    {
      "cell_type": "code",
      "source": [
        "!git clone https://github.com/google/android-auto-companion-android.git"
      ],
      "metadata": {
        "colab": {
          "base_uri": "https://localhost:8080/"
        },
        "id": "dNj-Zm6j4mhn",
        "outputId": "1fc0640b-f722-4d77-e1da-a44fac75f3d9"
      },
      "execution_count": null,
      "outputs": [
        {
          "output_type": "stream",
          "name": "stdout",
          "text": [
            "Cloning into 'android-auto-companion-android'...\n",
            "remote: Enumerating objects: 1028, done.\u001b[K\n",
            "remote: Counting objects: 100% (1028/1028), done.\u001b[K\n",
            "remote: Compressing objects: 100% (393/393), done.\u001b[K\n",
            "remote: Total 1028 (delta 400), reused 910 (delta 283), pack-reused 0\u001b[K\n",
            "Receiving objects: 100% (1028/1028), 451.57 KiB | 1.90 MiB/s, done.\n",
            "Resolving deltas: 100% (400/400), done.\n",
            "Checking out files: 100% (258/258), done.\n"
          ]
        }
      ]
    },
    {
      "cell_type": "code",
      "source": [
        "!git clone https://android.googlesource.com/platform/packages/services/Car"
      ],
      "metadata": {
        "colab": {
          "base_uri": "https://localhost:8080/"
        },
        "id": "GqkJftEr4p3K",
        "outputId": "974c82ca-41ff-4b56-f71f-f2b0c286b167"
      },
      "execution_count": null,
      "outputs": [
        {
          "output_type": "stream",
          "name": "stdout",
          "text": [
            "Cloning into 'Car'...\n",
            "remote: Sending approximately 593.39 MiB ...\u001b[K\n",
            "remote: Counting objects: 1225, done\u001b[K\n",
            "remote: Total 230083 (delta 128278), reused 230083 (delta 128278)\u001b[K\n",
            "Receiving objects: 100% (230083/230083), 593.39 MiB | 8.20 MiB/s, done.\n",
            "Resolving deltas: 100% (128278/128278), done.\n",
            "Checking out files: 100% (5454/5454), done.\n"
          ]
        }
      ]
    },
    {
      "cell_type": "code",
      "source": [
        "!git clone https://github.com/Marksss/AndroidAutoSwitcher.git"
      ],
      "metadata": {
        "colab": {
          "base_uri": "https://localhost:8080/"
        },
        "id": "pJxXsNwI4sCh",
        "outputId": "43c3ca4d-9320-4024-c4e3-df7b377236d6"
      },
      "execution_count": null,
      "outputs": [
        {
          "output_type": "stream",
          "name": "stdout",
          "text": [
            "Cloning into 'AndroidAutoSwitcher'...\n",
            "remote: Enumerating objects: 808, done.\u001b[K\n",
            "remote: Counting objects: 100% (4/4), done.\u001b[K\n",
            "remote: Compressing objects: 100% (4/4), done.\u001b[K\n",
            "remote: Total 808 (delta 1), reused 1 (delta 0), pack-reused 804\u001b[K\n",
            "Receiving objects: 100% (808/808), 1.22 MiB | 2.96 MiB/s, done.\n",
            "Resolving deltas: 100% (330/330), done.\n"
          ]
        }
      ]
    },
    {
      "cell_type": "code",
      "source": [
        "!git clone https://github.com/GENIVI/navigation.git"
      ],
      "metadata": {
        "colab": {
          "base_uri": "https://localhost:8080/"
        },
        "id": "NRkvacMA4vll",
        "outputId": "a7bae394-92e9-43c9-cdea-1bc671137ab0"
      },
      "execution_count": null,
      "outputs": [
        {
          "output_type": "stream",
          "name": "stdout",
          "text": [
            "Cloning into 'navigation'...\n",
            "remote: Enumerating objects: 6919, done.\u001b[K\n",
            "remote: Total 6919 (delta 0), reused 0 (delta 0), pack-reused 6919\u001b[K\n",
            "Receiving objects: 100% (6919/6919), 132.61 MiB | 9.90 MiB/s, done.\n",
            "Resolving deltas: 100% (4708/4708), done.\n",
            "Checking out files: 100% (1464/1464), done.\n"
          ]
        }
      ]
    },
    {
      "cell_type": "code",
      "source": [
        "!git clone https://github.com/GENIVI/yamaica-ea.git"
      ],
      "metadata": {
        "colab": {
          "base_uri": "https://localhost:8080/"
        },
        "id": "dJcO1mGt4xzp",
        "outputId": "a5ba6acb-cf55-4c0a-c745-e207cbb1c21f"
      },
      "execution_count": null,
      "outputs": [
        {
          "output_type": "stream",
          "name": "stdout",
          "text": [
            "Cloning into 'yamaica-ea'...\n",
            "remote: Enumerating objects: 2807, done.\u001b[K\n",
            "remote: Total 2807 (delta 0), reused 0 (delta 0), pack-reused 2807\u001b[K\n",
            "Receiving objects: 100% (2807/2807), 1.28 MiB | 1.89 MiB/s, done.\n",
            "Resolving deltas: 100% (1459/1459), done.\n",
            "Checking out files: 100% (434/434), done.\n"
          ]
        }
      ]
    },
    {
      "cell_type": "code",
      "source": [
        "!git clone https://github.com/GENIVI/yamaica.git"
      ],
      "metadata": {
        "colab": {
          "base_uri": "https://localhost:8080/"
        },
        "id": "JPZgYcEy40Jt",
        "outputId": "b6984a77-bcbb-4522-a51a-cd7a0ff4c39c"
      },
      "execution_count": null,
      "outputs": [
        {
          "output_type": "stream",
          "name": "stdout",
          "text": [
            "Cloning into 'yamaica'...\n",
            "remote: Enumerating objects: 2816, done.\u001b[K\n",
            "remote: Total 2816 (delta 0), reused 0 (delta 0), pack-reused 2816\u001b[K\n",
            "Receiving objects: 100% (2816/2816), 2.19 MiB | 2.95 MiB/s, done.\n",
            "Resolving deltas: 100% (1247/1247), done.\n",
            "Checking out files: 100% (370/370), done.\n"
          ]
        }
      ]
    },
    {
      "cell_type": "markdown",
      "source": [
        "To store the test data, a test folder has been created inside the code2vec folder to store the test data and relevent Genivi and AndroidAuto repository has been cloned. The number of repository cloned to test is less than train so train data is more than test."
      ],
      "metadata": {
        "id": "3J0zvp_IRMqP"
      }
    },
    {
      "cell_type": "code",
      "source": [
        "cd ../test/"
      ],
      "metadata": {
        "colab": {
          "base_uri": "https://localhost:8080/"
        },
        "id": "d13xjFAK5DDt",
        "outputId": "94a86c70-dff3-4ecb-9acb-8b26f6e15108"
      },
      "execution_count": null,
      "outputs": [
        {
          "output_type": "stream",
          "name": "stdout",
          "text": [
            "/content/drive/MyDrive/Code2vecJava/code2vec/test\n"
          ]
        }
      ]
    },
    {
      "cell_type": "code",
      "source": [
        "!git clone https://github.com/GENIVI/navigation.git"
      ],
      "metadata": {
        "colab": {
          "base_uri": "https://localhost:8080/"
        },
        "id": "Yx0eHfBb5GCd",
        "outputId": "660abc2d-9455-481d-ab01-12bb4b69d883"
      },
      "execution_count": null,
      "outputs": [
        {
          "output_type": "stream",
          "name": "stdout",
          "text": [
            "Cloning into 'navigation'...\n",
            "remote: Enumerating objects: 6919, done.\u001b[K\n",
            "remote: Total 6919 (delta 0), reused 0 (delta 0), pack-reused 6919\u001b[K\n",
            "Receiving objects: 100% (6919/6919), 132.61 MiB | 13.86 MiB/s, done.\n",
            "Resolving deltas: 100% (4708/4708), done.\n",
            "Checking out files: 100% (1464/1464), done.\n"
          ]
        }
      ]
    },
    {
      "cell_type": "code",
      "source": [
        "!git clone https://github.com/GENIVI/yamaica.git"
      ],
      "metadata": {
        "colab": {
          "base_uri": "https://localhost:8080/"
        },
        "id": "GZmi7eGO52kx",
        "outputId": "f99b01f6-8f64-477d-9616-1336fc235d76"
      },
      "execution_count": null,
      "outputs": [
        {
          "output_type": "stream",
          "name": "stdout",
          "text": [
            "Cloning into 'yamaica'...\n",
            "remote: Enumerating objects: 2816, done.\u001b[K\n",
            "remote: Total 2816 (delta 0), reused 0 (delta 0), pack-reused 2816\u001b[K\n",
            "Receiving objects: 100% (2816/2816), 2.19 MiB | 3.04 MiB/s, done.\n",
            "Resolving deltas: 100% (1247/1247), done.\n",
            "Checking out files: 100% (370/370), done.\n"
          ]
        }
      ]
    },
    {
      "cell_type": "markdown",
      "source": [
        "A similar folder has been created for validation(similar to train and test)"
      ],
      "metadata": {
        "id": "Vf1KWcdDRyD3"
      }
    },
    {
      "cell_type": "code",
      "source": [
        "cd ../validate/"
      ],
      "metadata": {
        "colab": {
          "base_uri": "https://localhost:8080/"
        },
        "id": "_dCWJ5oK5HEh",
        "outputId": "914e10a1-c5df-4956-e5f2-cfc9a00dec61"
      },
      "execution_count": null,
      "outputs": [
        {
          "output_type": "stream",
          "name": "stdout",
          "text": [
            "/content/drive/MyDrive/Code2vecJava/code2vec/validate\n"
          ]
        }
      ]
    },
    {
      "cell_type": "code",
      "source": [
        "!git clone https://android.googlesource.com/platform/packages/services/Car"
      ],
      "metadata": {
        "colab": {
          "base_uri": "https://localhost:8080/"
        },
        "id": "07m3jftK5Jzg",
        "outputId": "a8efa66f-7238-4493-e3b6-426016d942b2"
      },
      "execution_count": null,
      "outputs": [
        {
          "output_type": "stream",
          "name": "stdout",
          "text": [
            "Cloning into 'Car'...\n",
            "remote: Sending approximately 593.39 MiB ...\u001b[K\n",
            "remote: Counting objects: 1225, done\u001b[K\n",
            "remote: Total 230083 (delta 128278), reused 230083 (delta 128278)\u001b[K\n",
            "Receiving objects: 100% (230083/230083), 593.39 MiB | 7.62 MiB/s, done.\n",
            "Resolving deltas: 100% (128278/128278), done.\n",
            "Checking out files: 100% (5454/5454), done.\n"
          ]
        }
      ]
    },
    {
      "cell_type": "code",
      "source": [
        "cd .."
      ],
      "metadata": {
        "colab": {
          "base_uri": "https://localhost:8080/"
        },
        "id": "NRlnyqbw66ou",
        "outputId": "bfda4a55-c211-41ff-984a-b4349ba147e6"
      },
      "execution_count": null,
      "outputs": [
        {
          "output_type": "stream",
          "name": "stdout",
          "text": [
            "/content/drive/MyDrive/Code2vecJava/code2vec\n"
          ]
        }
      ]
    },
    {
      "cell_type": "markdown",
      "source": [
        "The preprocess.sh file in the cloned code2vec model has been modified to direct it to particular train, test and validate folder and has been run with the comand mentioned below."
      ],
      "metadata": {
        "id": "I0Ec9WzsR5BX"
      }
    },
    {
      "cell_type": "code",
      "source": [
        "!source preprocess.sh"
      ],
      "metadata": {
        "colab": {
          "base_uri": "https://localhost:8080/"
        },
        "id": "WJqdACvw68NQ",
        "outputId": "575947ef-d995-4bc6-9d8a-9df12355e105"
      },
      "execution_count": null,
      "outputs": [
        {
          "output_type": "stream",
          "name": "stdout",
          "text": [
            "Extracting paths from validation set...\n",
            "Finished extracting paths from validation set\n",
            "Extracting paths from test set...\n",
            "Finished extracting paths from test set\n",
            "Extracting paths from training set...\n",
            "Finished extracting paths from training set\n",
            "Creating histograms from the training data\n",
            "File: AndroidAutoandGenivi.test.raw.txt\n",
            "Average total contexts: 211.3872\n",
            "Average final (after sampling) contexts: 80.15312\n",
            "Total examples: 6250\n",
            "Empty examples: 0\n",
            "Max number of contexts per word: 48123\n",
            "File: AndroidAutoandGenivi.val.raw.txt\n",
            "Average total contexts: 195.3741534594708\n",
            "Average final (after sampling) contexts: 107.3977518676255\n",
            "Total examples: 14323\n",
            "Empty examples: 0\n",
            "Max number of contexts per word: 11483\n",
            "File: AndroidAutoandGenivi.train.raw.txt\n",
            "Average total contexts: 196.6887091251498\n",
            "Average final (after sampling) contexts: 97.0318866632426\n",
            "Total examples: 23364\n",
            "Empty examples: 0\n",
            "Max number of contexts per word: 48123\n",
            "Dictionaries saved to: data/AndroidAutoandGenivi/AndroidAutoandGenivi.dict.c2v\n"
          ]
        }
      ]
    },
    {
      "cell_type": "markdown",
      "source": [
        "train.sh in Code2vec model is run to start the training process. The training process has been carried out until 40 epochs as performance scores have not increased much after iteration 30."
      ],
      "metadata": {
        "id": "fp0VwmD7SQXG"
      }
    },
    {
      "cell_type": "code",
      "source": [
        "!source train.sh"
      ],
      "metadata": {
        "colab": {
          "base_uri": "https://localhost:8080/"
        },
        "id": "RKSgvQwE9qJj",
        "outputId": "2c3d3692-d9af-4e67-a322-2953fb8dc705"
      },
      "execution_count": null,
      "outputs": [
        {
          "output_type": "stream",
          "name": "stdout",
          "text": [
            "2022-12-03 12:32:05.948009: E tensorflow/stream_executor/cuda/cuda_driver.cc:271] failed call to cuInit: CUDA_ERROR_NO_DEVICE: no CUDA-capable device is detected\n",
            "2022-12-03 12:32:05,950 INFO     \n",
            "2022-12-03 12:32:05,950 INFO     \n",
            "2022-12-03 12:32:05,950 INFO     ---------------------------------------------------------------------\n",
            "2022-12-03 12:32:05,950 INFO     ---------------------------------------------------------------------\n",
            "2022-12-03 12:32:05,950 INFO     ---------------------- Creating code2vec model ----------------------\n",
            "2022-12-03 12:32:05,950 INFO     ---------------------------------------------------------------------\n",
            "2022-12-03 12:32:05,950 INFO     ---------------------------------------------------------------------\n",
            "2022-12-03 12:32:05,950 INFO     Checking number of examples ...\n",
            "2022-12-03 12:32:06,243 INFO         Number of train examples: 23364\n",
            "2022-12-03 12:32:06,438 INFO         Number of test examples: 14323\n",
            "2022-12-03 12:32:06,439 INFO     ---------------------------------------------------------------------\n",
            "2022-12-03 12:32:06,439 INFO     ----------------- Configuration - Hyper Parameters ------------------\n",
            "2022-12-03 12:32:06,439 INFO     CODE_VECTOR_SIZE                          384\n",
            "2022-12-03 12:32:06,439 INFO     CSV_BUFFER_SIZE                           104857600\n",
            "2022-12-03 12:32:06,439 INFO     DEFAULT_EMBEDDINGS_SIZE                   128\n",
            "2022-12-03 12:32:06,439 INFO     DL_FRAMEWORK                              tensorflow\n",
            "2022-12-03 12:32:06,440 INFO     DROPOUT_KEEP_RATE                         0.75\n",
            "2022-12-03 12:32:06,440 INFO     EXPORT_CODE_VECTORS                       False\n",
            "2022-12-03 12:32:06,440 INFO     LOGS_PATH                                 None\n",
            "2022-12-03 12:32:06,440 INFO     MAX_CONTEXTS                              200\n",
            "2022-12-03 12:32:06,440 INFO     MAX_PATH_VOCAB_SIZE                       911417\n",
            "2022-12-03 12:32:06,440 INFO     MAX_TARGET_VOCAB_SIZE                     261245\n",
            "2022-12-03 12:32:06,440 INFO     MAX_TOKEN_VOCAB_SIZE                      1301136\n",
            "2022-12-03 12:32:06,440 INFO     MAX_TO_KEEP                               10\n",
            "2022-12-03 12:32:06,440 INFO     MODEL_LOAD_PATH                           None\n",
            "2022-12-03 12:32:06,440 INFO     MODEL_SAVE_PATH                           models/AndroidAutoandGenivi/saved_model\n",
            "2022-12-03 12:32:06,440 INFO     NUM_BATCHES_TO_LOG_PROGRESS               100\n",
            "2022-12-03 12:32:06,440 INFO     NUM_TEST_EXAMPLES                         14323\n",
            "2022-12-03 12:32:06,440 INFO     NUM_TRAIN_BATCHES_TO_EVALUATE             1800\n",
            "2022-12-03 12:32:06,440 INFO     NUM_TRAIN_EPOCHS                          40\n",
            "2022-12-03 12:32:06,440 INFO     NUM_TRAIN_EXAMPLES                        23364\n",
            "2022-12-03 12:32:06,440 INFO     PATH_EMBEDDINGS_SIZE                      128\n",
            "2022-12-03 12:32:06,440 INFO     PREDICT                                   False\n",
            "2022-12-03 12:32:06,440 INFO     READER_NUM_PARALLEL_BATCHES               6\n",
            "2022-12-03 12:32:06,440 INFO     RELEASE                                   False\n",
            "2022-12-03 12:32:06,440 INFO     SAVE_EVERY_EPOCHS                         1\n",
            "2022-12-03 12:32:06,440 INFO     SAVE_T2V                                  None\n",
            "2022-12-03 12:32:06,440 INFO     SAVE_W2V                                  None\n",
            "2022-12-03 12:32:06,441 INFO     SEPARATE_OOV_AND_PAD                      False\n",
            "2022-12-03 12:32:06,441 INFO     SHUFFLE_BUFFER_SIZE                       10000\n",
            "2022-12-03 12:32:06,441 INFO     TARGET_EMBEDDINGS_SIZE                    384\n",
            "2022-12-03 12:32:06,441 INFO     TEST_BATCH_SIZE                           1024\n",
            "2022-12-03 12:32:06,441 INFO     TEST_DATA_PATH                            data/AndroidAutoandGenivi/AndroidAutoandGenivi.val.c2v\n",
            "2022-12-03 12:32:06,441 INFO     TOKEN_EMBEDDINGS_SIZE                     128\n",
            "2022-12-03 12:32:06,441 INFO     TOP_K_WORDS_CONSIDERED_DURING_PREDICTION  10\n",
            "2022-12-03 12:32:06,441 INFO     TRAIN_BATCH_SIZE                          1024\n",
            "2022-12-03 12:32:06,441 INFO     TRAIN_DATA_PATH_PREFIX                    data/AndroidAutoandGenivi/AndroidAutoandGenivi\n",
            "2022-12-03 12:32:06,441 INFO     USE_TENSORBOARD                           False\n",
            "2022-12-03 12:32:06,441 INFO     VERBOSE_MODE                              1\n",
            "2022-12-03 12:32:06,441 INFO     _Config__logger                           <Logger code2vec (INFO)>\n",
            "2022-12-03 12:32:06,441 INFO     context_vector_size                       384\n",
            "2022-12-03 12:32:06,441 INFO     entire_model_load_path                    None\n",
            "2022-12-03 12:32:06,441 INFO     entire_model_save_path                    models/AndroidAutoandGenivi/saved_model__entire-model\n",
            "2022-12-03 12:32:06,441 INFO     is_loading                                False\n",
            "2022-12-03 12:32:06,441 INFO     is_saving                                 True\n",
            "2022-12-03 12:32:06,441 INFO     is_testing                                True\n",
            "2022-12-03 12:32:06,441 INFO     is_training                               True\n",
            "2022-12-03 12:32:06,441 INFO     model_load_dir                            None\n",
            "2022-12-03 12:32:06,441 INFO     model_weights_load_path                   None\n",
            "2022-12-03 12:32:06,441 INFO     model_weights_save_path                   models/AndroidAutoandGenivi/saved_model__only-weights\n",
            "2022-12-03 12:32:06,442 INFO     test_steps                                14\n",
            "2022-12-03 12:32:06,442 INFO     train_data_path                           data/AndroidAutoandGenivi/AndroidAutoandGenivi.train.c2v\n",
            "2022-12-03 12:32:06,442 INFO     train_steps_per_epoch                     23\n",
            "2022-12-03 12:32:06,442 INFO     word_freq_dict_path                       data/AndroidAutoandGenivi/AndroidAutoandGenivi.dict.c2v\n",
            "2022-12-03 12:32:06,442 INFO     ---------------------------------------------------------------------\n",
            "2022-12-03 12:32:06,442 INFO     Loading word frequencies dictionaries from: data/AndroidAutoandGenivi/AndroidAutoandGenivi.dict.c2v ... \n",
            "2022-12-03 12:32:06,670 INFO     Done loading word frequencies dictionaries.\n",
            "2022-12-03 12:32:06,670 INFO     Word frequencies dictionaries loaded. Now creating vocabularies.\n",
            "2022-12-03 12:32:06,698 INFO     Created token vocab. size: 42483\n",
            "2022-12-03 12:32:07,129 INFO     Created path vocab. size: 361325\n",
            "2022-12-03 12:32:07,135 INFO     Created target vocab. size: 13348\n",
            "2022-12-03 12:32:07,200 INFO     Done creating code2vec model\n",
            "2022-12-03 12:32:07,200 INFO     Starting training\n",
            "2022-12-03 12:32:09,744 INFO     Number of trainable params: 56960896\n",
            "2022-12-03 12:32:09,744 INFO     variable name: model/WORDS_VOCAB:0 -- shape: (42483, 128) -- #params: 5437824\n",
            "2022-12-03 12:32:09,744 INFO     variable name: model/TARGET_WORDS_VOCAB:0 -- shape: (13348, 384) -- #params: 5125632\n",
            "2022-12-03 12:32:09,744 INFO     variable name: model/ATTENTION:0 -- shape: (384, 1) -- #params: 384\n",
            "2022-12-03 12:32:09,744 INFO     variable name: model/PATHS_VOCAB:0 -- shape: (361325, 128) -- #params: 46249600\n",
            "2022-12-03 12:32:09,744 INFO     variable name: model/TRANSFORM:0 -- shape: (384, 384) -- #params: 147456\n",
            "2022-12-03 12:32:13,010 INFO     Initalized variables\n",
            "2022-12-03 12:32:14,257 INFO     Started reader...\n",
            "2022-12-03 12:35:01,814 INFO     Saved after 1 epochs in: models/AndroidAutoandGenivi/saved_model_iter1\n",
            "2022-12-03 12:35:02,502 INFO     Starting evaluation\n",
            "2022-12-03 12:35:32,468 INFO     Done evaluating, epoch reached\n",
            "2022-12-03 12:35:32,470 INFO     Evaluation time: 0H:0M:30S\n",
            "2022-12-03 12:35:32,472 INFO     After 1 epochs -- top10_acc: [0.01535991 0.02373804 0.04866299 0.05871675 0.06374363 0.06870069\n",
            " 0.07330866 0.07617119 0.07868463 0.08245479], precision: 0.071, recall: 0.022053294098414257, F1: 0.033653486341524264\n",
            "2022-12-03 12:38:02,152 INFO     Saved after 2 epochs in: models/AndroidAutoandGenivi/saved_model_iter2\n",
            "2022-12-03 12:38:24,482 INFO     Starting evaluation\n",
            "2022-12-03 12:38:54,142 INFO     Done evaluating, epoch reached\n",
            "2022-12-03 12:38:54,144 INFO     Evaluation time: 0H:0M:51S\n",
            "2022-12-03 12:38:54,145 INFO     After 2 epochs -- top10_acc: [0.01878098 0.03288417 0.04126231 0.05648258 0.0632549  0.06632689\n",
            " 0.06932905 0.07323885 0.07638065 0.0789639 ], precision: 0.10182422849317749, recall: 0.03403740517917866, F1: 0.05102003308215402\n",
            "2022-12-03 12:41:19,978 INFO     Saved after 3 epochs in: models/AndroidAutoandGenivi/saved_model_iter3\n",
            "2022-12-03 12:41:20,108 INFO     Starting evaluation\n",
            "2022-12-03 12:41:58,291 INFO     Done evaluating, epoch reached\n",
            "2022-12-03 12:41:58,294 INFO     Evaluation time: 0H:0M:38S\n",
            "2022-12-03 12:41:58,295 INFO     After 3 epochs -- top10_acc: [0.05641276 0.07184249 0.0797319  0.08622495 0.09195001 0.09823361\n",
            " 0.10270195 0.10556448 0.10835719 0.11031209], precision: 0.13635758946388188, recall: 0.08382949489662392, F1: 0.10382795960332655\n",
            "2022-12-03 12:44:33,581 INFO     Saved after 4 epochs in: models/AndroidAutoandGenivi/saved_model_iter4\n",
            "2022-12-03 12:44:42,018 INFO     Starting evaluation\n",
            "2022-12-03 12:45:12,159 INFO     Done evaluating, epoch reached\n",
            "2022-12-03 12:45:12,162 INFO     Evaluation time: 0H:0M:38S\n",
            "2022-12-03 12:45:12,163 INFO     After 4 epochs -- top10_acc: [0.07163304 0.08741186 0.09523145 0.10333031 0.10884591 0.11226698\n",
            " 0.11596733 0.12120366 0.124904   0.12888361], precision: 0.11424894144858332, recall: 0.10012423578644522, F1: 0.1067212614888705\n",
            "2022-12-03 12:46:02,408 INFO     Average loss at batch 100: 0.008154, \tthroughput: 122 samples/sec\n",
            "2022-12-03 12:47:40,345 INFO     Saved after 5 epochs in: models/AndroidAutoandGenivi/saved_model_iter5\n",
            "2022-12-03 12:47:40,546 INFO     Starting evaluation\n",
            "2022-12-03 12:48:11,943 INFO     Done evaluating, epoch reached\n",
            "2022-12-03 12:48:11,945 INFO     Evaluation time: 0H:0M:31S\n",
            "2022-12-03 12:48:11,947 INFO     After 5 epochs -- top10_acc: [0.08776094 0.10654193 0.11806186 0.12776653 0.13586539 0.14424352\n",
            " 0.14996858 0.15597291 0.16169797 0.16854011], precision: 0.1668692941930635, recall: 0.1235313369333988, F1: 0.14196654411419007\n",
            "2022-12-03 12:50:40,333 INFO     Saved after 6 epochs in: models/AndroidAutoandGenivi/saved_model_iter6\n",
            "2022-12-03 12:51:02,453 INFO     Starting evaluation\n",
            "2022-12-03 12:51:30,433 INFO     Done evaluating, epoch reached\n",
            "2022-12-03 12:51:30,435 INFO     Evaluation time: 0H:0M:50S\n",
            "2022-12-03 12:51:30,436 INFO     After 6 epochs -- top10_acc: [0.1048663  0.13405013 0.14947986 0.16009216 0.16847029 0.17559171\n",
            " 0.18313203 0.19039307 0.19618795 0.20247155], precision: 0.20301162689046245, recall: 0.15210414278696577, F1: 0.1739089734708779\n",
            "2022-12-03 12:54:09,771 INFO     Saved after 7 epochs in: models/AndroidAutoandGenivi/saved_model_iter7\n",
            "2022-12-03 12:54:09,906 INFO     Starting evaluation\n",
            "2022-12-03 12:54:40,498 INFO     Done evaluating, epoch reached\n",
            "2022-12-03 12:54:40,500 INFO     Evaluation time: 0H:0M:30S\n",
            "2022-12-03 12:54:40,503 INFO     After 7 epochs -- top10_acc: [0.13523703 0.16700412 0.18669273 0.20163374 0.21322349 0.22669832\n",
            " 0.23598408 0.24436221 0.25246108 0.25958249], precision: 0.23346963199361723, recall: 0.1916025536094287, F1: 0.2104742638795235\n",
            "2022-12-03 12:57:12,388 INFO     Saved after 8 epochs in: models/AndroidAutoandGenivi/saved_model_iter8\n",
            "2022-12-03 12:57:31,814 INFO     Starting evaluation\n",
            "2022-12-03 12:58:00,172 INFO     Done evaluating, epoch reached\n",
            "2022-12-03 12:58:00,174 INFO     Evaluation time: 0H:0M:47S\n",
            "2022-12-03 12:58:00,175 INFO     After 8 epochs -- top10_acc: [0.16805139 0.20840606 0.23284228 0.25469525 0.27291768 0.28953432\n",
            " 0.30028625 0.31327236 0.32472247 0.33498569], precision: 0.27257776897166636, recall: 0.22460774869793793, F1: 0.24627860972618804\n",
            "2022-12-03 12:59:43,643 INFO     Average loss at batch 200: 0.005886, \tthroughput: 124 samples/sec\n",
            "2022-12-03 13:00:31,159 INFO     Saved after 9 epochs in: models/AndroidAutoandGenivi/saved_model_iter9\n",
            "2022-12-03 13:00:31,298 INFO     Starting evaluation\n",
            "2022-12-03 13:01:02,102 INFO     Done evaluating, epoch reached\n",
            "2022-12-03 13:01:02,104 INFO     Evaluation time: 0H:0M:30S\n",
            "2022-12-03 13:01:02,106 INFO     After 9 epochs -- top10_acc: [0.20177337 0.25560288 0.29400265 0.32262794 0.34545835 0.36402988\n",
            " 0.38106542 0.39705369 0.40955107 0.42351463], precision: 0.3431702511902807, recall: 0.2730612844755793, F1: 0.3041276019169387\n",
            "2022-12-03 13:03:43,033 INFO     Saved after 10 epochs in: models/AndroidAutoandGenivi/saved_model_iter10\n",
            "2022-12-03 13:03:53,219 INFO     Starting evaluation\n",
            "2022-12-03 13:04:22,855 INFO     Done evaluating, epoch reached\n",
            "2022-12-03 13:04:22,857 INFO     Evaluation time: 0H:0M:39S\n",
            "2022-12-03 13:04:22,858 INFO     After 10 epochs -- top10_acc: [0.24520003 0.31466871 0.36144662 0.39447043 0.42246736 0.44634504\n",
            " 0.46526566 0.48181247 0.49661384 0.5102283 ], precision: 0.3846534182751735, recall: 0.33132401841144, F1: 0.35600260485418095\n",
            "WARNING:tensorflow:From /usr/local/lib/python3.8/dist-packages/tensorflow/python/training/saver.py:1066: remove_checkpoint (from tensorflow.python.training.checkpoint_management) is deprecated and will be removed in a future version.\n",
            "Instructions for updating:\n",
            "Use standard file APIs to delete files with this prefix.\n",
            "WARNING:tensorflow:From /usr/local/lib/python3.8/dist-packages/tensorflow/python/training/saver.py:1066: remove_checkpoint (from tensorflow.python.training.checkpoint_management) is deprecated and will be removed in a future version.\n",
            "Instructions for updating:\n",
            "Use standard file APIs to delete files with this prefix.\n",
            "2022-12-03 13:06:54,590 INFO     Saved after 11 epochs in: models/AndroidAutoandGenivi/saved_model_iter11\n",
            "2022-12-03 13:07:15,129 INFO     Starting evaluation\n",
            "2022-12-03 13:07:43,441 INFO     Done evaluating, epoch reached\n",
            "2022-12-03 13:07:43,444 INFO     Evaluation time: 0H:0M:48S\n",
            "2022-12-03 13:07:43,445 INFO     After 11 epochs -- top10_acc: [0.30349787 0.38462613 0.43335893 0.47147944 0.5008029  0.52321441\n",
            " 0.54353138 0.56301054 0.58032535 0.59380018], precision: 0.4441407979061219, recall: 0.37752331097660724, F1: 0.40813150471744\n",
            "2022-12-03 13:10:16,510 INFO     Saved after 12 epochs in: models/AndroidAutoandGenivi/saved_model_iter12\n",
            "2022-12-03 13:10:16,650 INFO     Starting evaluation\n",
            "2022-12-03 13:10:47,186 INFO     Done evaluating, epoch reached\n",
            "2022-12-03 13:10:47,189 INFO     Evaluation time: 0H:0M:30S\n",
            "2022-12-03 13:10:47,190 INFO     After 12 epochs -- top10_acc: [0.37136075 0.45981987 0.51560427 0.55742512 0.58451442 0.60860155\n",
            " 0.63143196 0.64832786 0.6653634  0.6786986 ], precision: 0.5112552460892789, recall: 0.4603003238786927, F1: 0.48444157520981274\n",
            "2022-12-03 13:13:27,672 INFO     Saved after 13 epochs in: models/AndroidAutoandGenivi/saved_model_iter13\n",
            "2022-12-03 13:13:27,817 INFO     Starting evaluation\n",
            "2022-12-03 13:13:58,218 INFO     Done evaluating, epoch reached\n",
            "2022-12-03 13:13:58,220 INFO     Evaluation time: 0H:0M:30S\n",
            "2022-12-03 13:13:58,222 INFO     After 13 epochs -- top10_acc: [0.42400335 0.52363332 0.578929   0.61739859 0.64616351 0.66871465\n",
            " 0.688124   0.70488026 0.72058926 0.73322628], precision: 0.5500873720623373, recall: 0.5047695403897443, F1: 0.5264550038822858\n",
            "2022-12-03 13:14:04,605 INFO     Average loss at batch 300: 0.004106, \tthroughput: 118 samples/sec\n",
            "2022-12-03 13:16:29,365 INFO     Saved after 14 epochs in: models/AndroidAutoandGenivi/saved_model_iter14\n",
            "2022-12-03 13:16:49,727 INFO     Starting evaluation\n",
            "2022-12-03 13:17:18,468 INFO     Done evaluating, epoch reached\n",
            "2022-12-03 13:17:18,470 INFO     Evaluation time: 0H:0M:49S\n",
            "2022-12-03 13:17:18,472 INFO     After 14 epochs -- top10_acc: [0.4827201  0.58730713 0.64232354 0.67737206 0.70641625 0.72840885\n",
            " 0.7427215  0.75696432 0.7694617  0.78188927], precision: 0.6015024366214529, recall: 0.5594279730348845, F1: 0.5797027730444145\n",
            "2022-12-03 13:19:50,748 INFO     Saved after 15 epochs in: models/AndroidAutoandGenivi/saved_model_iter15\n",
            "2022-12-03 13:20:11,635 INFO     Starting evaluation\n",
            "2022-12-03 13:20:39,754 INFO     Done evaluating, epoch reached\n",
            "2022-12-03 13:20:39,757 INFO     Evaluation time: 0H:0M:49S\n",
            "2022-12-03 13:20:39,758 INFO     After 15 epochs -- top10_acc: [0.53068491 0.63792502 0.69056762 0.72401033 0.7490051  0.76841444\n",
            " 0.78391398 0.797319   0.80855966 0.81784542], precision: 0.6398650302458128, recall: 0.5981303829119613, F1: 0.6182942383876608\n",
            "2022-12-03 13:23:21,334 INFO     Saved after 16 epochs in: models/AndroidAutoandGenivi/saved_model_iter16\n",
            "2022-12-03 13:23:33,546 INFO     Starting evaluation\n",
            "2022-12-03 13:24:05,441 INFO     Done evaluating, epoch reached\n",
            "2022-12-03 13:24:05,447 INFO     Evaluation time: 0H:0M:44S\n",
            "2022-12-03 13:24:05,450 INFO     After 16 epochs -- top10_acc: [0.57613628 0.67904769 0.7270125  0.75675487 0.77923619 0.7961321\n",
            " 0.81114292 0.82231376 0.8318788  0.84004748], precision: 0.676036709721278, recall: 0.650201052665991, F1: 0.6628672365811794\n",
            "2022-12-03 13:26:36,894 INFO     Saved after 17 epochs in: models/AndroidAutoandGenivi/saved_model_iter17\n",
            "2022-12-03 13:26:37,057 INFO     Starting evaluation\n",
            "2022-12-03 13:27:09,576 INFO     Done evaluating, epoch reached\n",
            "2022-12-03 13:27:09,578 INFO     Evaluation time: 0H:0M:32S\n",
            "2022-12-03 13:27:09,581 INFO     After 17 epochs -- top10_acc: [0.60497103 0.7073937  0.75158835 0.77958528 0.80039098 0.8154018\n",
            " 0.8267821  0.83718495 0.84640089 0.85373176], precision: 0.6948327655361068, recall: 0.6755482313013967, F1: 0.6850548086866598\n",
            "2022-12-03 13:28:06,906 INFO     Average loss at batch 400: 0.002607, \tthroughput: 121 samples/sec\n",
            "2022-12-03 13:29:40,111 INFO     Saved after 18 epochs in: models/AndroidAutoandGenivi/saved_model_iter18\n",
            "2022-12-03 13:29:58,970 INFO     Starting evaluation\n",
            "2022-12-03 13:30:28,987 INFO     Done evaluating, epoch reached\n",
            "2022-12-03 13:30:28,989 INFO     Evaluation time: 0H:0M:48S\n",
            "2022-12-03 13:30:28,990 INFO     After 18 epochs -- top10_acc: [0.62780144 0.72512742 0.76736717 0.79466592 0.81267891 0.82692173\n",
            " 0.83893039 0.84863506 0.8570132  0.86427424], precision: 0.7027602588254567, recall: 0.701530612244898, F1: 0.7021448971742351\n",
            "2022-12-03 13:33:12,224 INFO     Saved after 19 epochs in: models/AndroidAutoandGenivi/saved_model_iter19\n",
            "2022-12-03 13:33:12,478 INFO     Starting evaluation\n",
            "2022-12-03 13:33:43,618 INFO     Done evaluating, epoch reached\n",
            "2022-12-03 13:33:43,621 INFO     Evaluation time: 0H:0M:31S\n",
            "2022-12-03 13:33:43,622 INFO     After 19 epochs -- top10_acc: [0.64874677 0.74425749 0.78293654 0.80758221 0.82587447 0.83927948\n",
            " 0.85003142 0.85854919 0.86574042 0.87279201], precision: 0.7344506455083378, recall: 0.7147928800471174, F1: 0.7244884422777169\n",
            "2022-12-03 13:36:15,505 INFO     Saved after 20 epochs in: models/AndroidAutoandGenivi/saved_model_iter20\n",
            "2022-12-03 13:36:34,391 INFO     Starting evaluation\n",
            "2022-12-03 13:37:02,503 INFO     Done evaluating, epoch reached\n",
            "2022-12-03 13:37:02,505 INFO     Evaluation time: 0H:0M:47S\n",
            "2022-12-03 13:37:02,507 INFO     After 20 epochs -- top10_acc: [0.66696921 0.75682469 0.7961321  0.82021923 0.83690568 0.84828597\n",
            " 0.85764156 0.86615932 0.87342037 0.87886616], precision: 0.7458777564399709, recall: 0.7361283576236848, F1: 0.7409709887507402\n",
            "2022-12-03 13:39:38,681 INFO     Saved after 21 epochs in: models/AndroidAutoandGenivi/saved_model_iter21\n",
            "2022-12-03 13:39:38,843 INFO     Starting evaluation\n",
            "2022-12-03 13:40:08,111 INFO     Done evaluating, epoch reached\n",
            "2022-12-03 13:40:08,116 INFO     Evaluation time: 0H:0M:29S\n",
            "2022-12-03 13:40:08,119 INFO     After 21 epochs -- top10_acc: [0.67388117 0.76520282 0.8028346  0.82622356 0.84214201 0.85408085\n",
            " 0.8632968  0.87083712 0.87928507 0.88494031], precision: 0.7560138032699009, recall: 0.736965005960254, F1: 0.7463678835738207\n",
            "2022-12-03 13:42:00,584 INFO     Average loss at batch 500: 0.001596, \tthroughput: 122 samples/sec\n",
            "2022-12-03 13:42:55,761 INFO     Saved after 22 epochs in: models/AndroidAutoandGenivi/saved_model_iter22\n",
            "2022-12-03 13:43:00,751 INFO     Starting evaluation\n",
            "2022-12-03 13:43:29,234 INFO     Done evaluating, epoch reached\n",
            "2022-12-03 13:43:29,236 INFO     Evaluation time: 0H:0M:33S\n",
            "2022-12-03 13:43:29,238 INFO     After 22 epochs -- top10_acc: [0.6854011  0.77588494 0.81267891 0.83418278 0.84989178 0.8613419\n",
            " 0.86978985 0.87684144 0.88340431 0.88891992], precision: 0.762050472148192, recall: 0.7554881430015983, F1: 0.7587551187551188\n",
            "2022-12-03 13:46:05,464 INFO     Saved after 23 epochs in: models/AndroidAutoandGenivi/saved_model_iter23\n",
            "2022-12-03 13:46:22,660 INFO     Starting evaluation\n",
            "2022-12-03 13:46:50,956 INFO     Done evaluating, epoch reached\n",
            "2022-12-03 13:46:50,958 INFO     Evaluation time: 0H:0M:45S\n",
            "2022-12-03 13:46:50,959 INFO     After 23 epochs -- top10_acc: [0.6936396  0.78370453 0.81833415 0.8385813  0.85177686 0.86301752\n",
            " 0.87188438 0.87921525 0.88619703 0.89094463], precision: 0.7723516527279968, recall: 0.7598563382581014, F1: 0.7660530452028078\n",
            "2022-12-03 13:49:29,994 INFO     Saved after 24 epochs in: models/AndroidAutoandGenivi/saved_model_iter24\n",
            "2022-12-03 13:49:30,181 INFO     Starting evaluation\n",
            "2022-12-03 13:49:58,702 INFO     Done evaluating, epoch reached\n",
            "2022-12-03 13:49:58,704 INFO     Evaluation time: 0H:0M:28S\n",
            "2022-12-03 13:49:58,706 INFO     After 24 epochs -- top10_acc: [0.703065   0.79166376 0.82489702 0.84479508 0.85875864 0.8699993\n",
            " 0.87767926 0.88487049 0.89024646 0.89485443], precision: 0.7839403698661974, recall: 0.7718698921216084, F1: 0.777858307664432\n",
            "2022-12-03 13:52:33,784 INFO     Saved after 25 epochs in: models/AndroidAutoandGenivi/saved_model_iter25\n",
            "2022-12-03 13:52:52,090 INFO     Starting evaluation\n",
            "2022-12-03 13:53:20,691 INFO     Done evaluating, epoch reached\n",
            "2022-12-03 13:53:20,693 INFO     Evaluation time: 0H:0M:46S\n",
            "2022-12-03 13:53:20,695 INFO     After 25 epochs -- top10_acc: [0.70362354 0.79306011 0.82748028 0.8460518  0.85889828 0.8695804\n",
            " 0.8774698  0.88326468 0.88933883 0.89373735], precision: 0.7775822368421053, recall: 0.7725883679505826, F1: 0.7750772585312272\n",
            "2022-12-03 13:56:00,599 INFO     Saved after 26 epochs in: models/AndroidAutoandGenivi/saved_model_iter26\n",
            "2022-12-03 13:56:00,766 INFO     Starting evaluation\n",
            "2022-12-03 13:56:44,434 INFO     Done evaluating, epoch reached\n",
            "2022-12-03 13:56:44,436 INFO     Evaluation time: 0H:0M:43S\n",
            "2022-12-03 13:56:44,438 INFO     After 26 epochs -- top10_acc: [0.71144313 0.79829645 0.83166934 0.85128814 0.86350625 0.87404873\n",
            " 0.88193814 0.88829156 0.89359771 0.89869441], precision: 0.7833123744508501, recall: 0.7838116093607007, F1: 0.7835619123857445\n",
            "2022-12-03 13:56:57,730 INFO     Average loss at batch 600: 0.001062, \tthroughput: 114 samples/sec\n",
            "2022-12-03 13:59:19,809 INFO     Saved after 27 epochs in: models/AndroidAutoandGenivi/saved_model_iter27\n",
            "2022-12-03 13:59:22,675 INFO     Starting evaluation\n",
            "2022-12-03 13:59:51,402 INFO     Done evaluating, epoch reached\n",
            "2022-12-03 13:59:51,405 INFO     Evaluation time: 0H:0M:31S\n",
            "2022-12-03 13:59:51,407 INFO     After 27 epochs -- top10_acc: [0.7148642  0.7996928  0.83327515 0.85240522 0.86615932 0.8762829\n",
            " 0.88459122 0.89108427 0.89639042 0.90127767], precision: 0.7829418106968994, recall: 0.7828522892471538, F1: 0.782897047412913\n",
            "2022-12-03 14:02:31,240 INFO     Saved after 28 epochs in: models/AndroidAutoandGenivi/saved_model_iter28\n",
            "2022-12-03 14:02:31,416 INFO     Starting evaluation\n",
            "2022-12-03 14:03:12,339 INFO     Done evaluating, epoch reached\n",
            "2022-12-03 14:03:12,343 INFO     Evaluation time: 0H:0M:41S\n",
            "2022-12-03 14:03:12,346 INFO     After 28 epochs -- top10_acc: [0.72121762 0.8040215  0.8362075  0.85442994 0.86783495 0.87753962\n",
            " 0.88507994 0.89171263 0.8970886  0.90302311], precision: 0.7920080116891859, recall: 0.7877016524067664, F1: 0.7898489623838566\n",
            "2022-12-03 14:05:49,464 INFO     Saved after 29 epochs in: models/AndroidAutoandGenivi/saved_model_iter29\n",
            "2022-12-03 14:05:49,644 INFO     Starting evaluation\n",
            "2022-12-03 14:06:18,291 INFO     Done evaluating, epoch reached\n",
            "2022-12-03 14:06:18,294 INFO     Evaluation time: 0H:0M:28S\n",
            "2022-12-03 14:06:18,296 INFO     After 29 epochs -- top10_acc: [0.72533687 0.80702367 0.83927948 0.85764156 0.87125602 0.88054179\n",
            " 0.88822174 0.8939468  0.8994624  0.90379111], precision: 0.7985042735042736, recall: 0.7933793869318831, F1: 0.7959335807262868\n",
            "2022-12-03 14:08:50,702 INFO     Saved after 30 epochs in: models/AndroidAutoandGenivi/saved_model_iter30\n",
            "2022-12-03 14:09:11,553 INFO     Starting evaluation\n",
            "2022-12-03 14:09:42,390 INFO     Done evaluating, epoch reached\n",
            "2022-12-03 14:09:42,392 INFO     Evaluation time: 0H:0M:51S\n",
            "2022-12-03 14:09:42,395 INFO     After 30 epochs -- top10_acc: [0.7289674  0.81309781 0.84318928 0.86120226 0.87446764 0.88389304\n",
            " 0.89185227 0.89750751 0.90225511 0.90637436], precision: 0.7977969333050889, recall: 0.8010078039363251, F1: 0.7993991444339221\n",
            "2022-12-03 14:10:55,214 INFO     Average loss at batch 700: 0.000806, \tthroughput: 122 samples/sec\n",
            "2022-12-03 14:12:24,856 INFO     Saved after 31 epochs in: models/AndroidAutoandGenivi/saved_model_iter31\n",
            "2022-12-03 14:12:25,139 INFO     Starting evaluation\n",
            "2022-12-03 14:12:58,794 INFO     Done evaluating, epoch reached\n",
            "2022-12-03 14:12:58,800 INFO     Evaluation time: 0H:0M:33S\n",
            "2022-12-03 14:12:58,809 INFO     After 31 epochs -- top10_acc: [0.73196956 0.81470362 0.84528381 0.86385534 0.87586399 0.88459122\n",
            " 0.8919919  0.89701878 0.90169657 0.90637436], precision: 0.8047202194228653, recall: 0.8005260922131817, F1: 0.8026176766890812\n",
            "2022-12-03 14:15:39,543 INFO     Saved after 32 epochs in: models/AndroidAutoandGenivi/saved_model_iter32\n",
            "2022-12-03 14:15:47,048 INFO     Starting evaluation\n",
            "2022-12-03 14:16:15,445 INFO     Done evaluating, epoch reached\n",
            "2022-12-03 14:16:15,447 INFO     Evaluation time: 0H:0M:35S\n",
            "2022-12-03 14:16:15,449 INFO     After 32 epochs -- top10_acc: [0.73427355 0.81714725 0.84772743 0.86581024 0.87691126 0.88591775\n",
            " 0.89338826 0.89981149 0.90462892 0.9084689 ], precision: 0.8047438925686725, recall: 0.7970552147239264, F1: 0.80088110071836\n",
            "2022-12-03 14:18:48,374 INFO     Saved after 33 epochs in: models/AndroidAutoandGenivi/saved_model_iter33\n",
            "2022-12-03 14:18:48,623 INFO     Starting evaluation\n",
            "2022-12-03 14:19:21,099 INFO     Done evaluating, epoch reached\n",
            "2022-12-03 14:19:21,102 INFO     Evaluation time: 0H:0M:32S\n",
            "2022-12-03 14:19:21,105 INFO     After 33 epochs -- top10_acc: [0.73748516 0.82175522 0.85107868 0.8680444  0.8801927  0.88878028\n",
            " 0.89666969 0.90169657 0.90686309 0.91077288], precision: 0.8102911373634522, recall: 0.8038805433414519, F1: 0.8070731106917207\n",
            "2022-12-03 14:21:59,729 INFO     Saved after 34 epochs in: models/AndroidAutoandGenivi/saved_model_iter34\n",
            "2022-12-03 14:22:10,532 INFO     Starting evaluation\n",
            "2022-12-03 14:22:38,932 INFO     Done evaluating, epoch reached\n",
            "2022-12-03 14:22:38,935 INFO     Evaluation time: 0H:0M:39S\n",
            "2022-12-03 14:22:38,936 INFO     After 34 epochs -- top10_acc: [0.74069678 0.82196467 0.85338267 0.87034839 0.88249668 0.89171263\n",
            " 0.89876423 0.9045591  0.90867835 0.91244851], precision: 0.8160639373891128, recall: 0.803644617168237, F1: 0.8098066639243109\n",
            "2022-12-03 14:24:47,693 INFO     Average loss at batch 800: 0.000673, \tthroughput: 123 samples/sec\n",
            "2022-12-03 14:25:24,779 INFO     Saved after 35 epochs in: models/AndroidAutoandGenivi/saved_model_iter35\n",
            "2022-12-03 14:25:24,959 INFO     Starting evaluation\n",
            "2022-12-03 14:25:53,370 INFO     Done evaluating, epoch reached\n",
            "2022-12-03 14:25:53,375 INFO     Evaluation time: 0H:0M:28S\n",
            "2022-12-03 14:25:53,377 INFO     After 35 epochs -- top10_acc: [0.74383858 0.82475738 0.85456957 0.87328074 0.88521958 0.89380716\n",
            " 0.90064931 0.90567619 0.91077288 0.91405432], precision: 0.8191154928650197, recall: 0.8123898139079334, F1: 0.8157387904964063\n",
            "2022-12-03 14:28:27,720 INFO     Saved after 36 epochs in: models/AndroidAutoandGenivi/saved_model_iter36\n",
            "2022-12-03 14:28:46,869 INFO     Starting evaluation\n",
            "2022-12-03 14:29:17,158 INFO     Done evaluating, epoch reached\n",
            "2022-12-03 14:29:17,161 INFO     Evaluation time: 0H:0M:49S\n",
            "2022-12-03 14:29:17,162 INFO     After 36 epochs -- top10_acc: [0.74746911 0.82775955 0.85596593 0.87397892 0.88542903 0.89429589\n",
            " 0.90183621 0.90672345 0.91105215 0.91538086], precision: 0.8143313405945459, recall: 0.8131859145254412, F1: 0.8137582244918001\n",
            "2022-12-03 14:31:55,251 INFO     Saved after 37 epochs in: models/AndroidAutoandGenivi/saved_model_iter37\n",
            "2022-12-03 14:31:55,432 INFO     Starting evaluation\n",
            "2022-12-03 14:32:23,844 INFO     Done evaluating, epoch reached\n",
            "2022-12-03 14:32:23,846 INFO     Evaluation time: 0H:0M:28S\n",
            "2022-12-03 14:32:23,851 INFO     After 37 epochs -- top10_acc: [0.75075054 0.83201843 0.85980591 0.87774907 0.88759338 0.8959017\n",
            " 0.9026042  0.90860853 0.91244851 0.91552049], precision: 0.8236819074982249, recall: 0.8154414529285796, F1: 0.819540966369297\n",
            "2022-12-03 14:35:08,800 INFO     Saved after 38 epochs in: models/AndroidAutoandGenivi/saved_model_iter38\n",
            "2022-12-03 14:35:17,343 INFO     Starting evaluation\n",
            "2022-12-03 14:35:44,998 INFO     Done evaluating, epoch reached\n",
            "2022-12-03 14:35:45,000 INFO     Evaluation time: 0H:0M:36S\n",
            "2022-12-03 14:35:45,002 INFO     After 38 epochs -- top10_acc: [0.75284507 0.83369406 0.86217971 0.87977379 0.89094463 0.90002095\n",
            " 0.90609509 0.9108427  0.91496195 0.91845284], precision: 0.8229992255598214, recall: 0.8172625378385012, F1: 0.8201208498899873\n",
            "2022-12-03 14:38:06,859 INFO     Saved after 39 epochs in: models/AndroidAutoandGenivi/saved_model_iter39\n",
            "2022-12-03 14:38:39,254 INFO     Starting evaluation\n",
            "2022-12-03 14:39:06,811 INFO     Done evaluating, epoch reached\n",
            "2022-12-03 14:39:06,813 INFO     Evaluation time: 0H:0M:59S\n",
            "2022-12-03 14:39:06,814 INFO     After 39 epochs -- top10_acc: [0.75598687 0.83571877 0.86455352 0.8806116  0.89066536 0.89855477\n",
            " 0.90483837 0.91021434 0.91391468 0.91782448], precision: 0.828744665776943, recall: 0.8220671395417253, F1: 0.8253923973777271\n",
            "2022-12-03 14:39:24,641 INFO     Average loss at batch 900: 0.000582, \tthroughput: 116 samples/sec\n",
            "2022-12-03 14:40:40,584 INFO     Done training\n",
            "2022-12-03 14:40:44,191 INFO     Model saved in file: models/AndroidAutoandGenivi/saved_model\n",
            "2022-12-03 14:40:44,192 INFO     Training time: 2H:8M:36S\n",
            "\n"
          ]
        }
      ]
    },
    {
      "cell_type": "code",
      "source": [
        "cd code2vec"
      ],
      "metadata": {
        "colab": {
          "base_uri": "https://localhost:8080/"
        },
        "id": "XN6ROnEfGfqW",
        "outputId": "73bf4d25-ce5d-40ab-ee1f-f87b4cfa7dce"
      },
      "execution_count": null,
      "outputs": [
        {
          "output_type": "stream",
          "name": "stdout",
          "text": [
            "/content/drive/MyDrive/Code2vecJava/code2vec\n"
          ]
        }
      ]
    },
    {
      "cell_type": "markdown",
      "source": [
        "Model saved at iteration 32 has been used for the final model."
      ],
      "metadata": {
        "id": "9dRNAgXhSu7O"
      }
    },
    {
      "cell_type": "code",
      "source": [
        "!python3 code2vec.py --load models/AndroidAutoandGenivi/saved_model_iter32 --release"
      ],
      "metadata": {
        "colab": {
          "base_uri": "https://localhost:8080/"
        },
        "id": "249jNG1Se-y8",
        "outputId": "9bf9a542-46d9-472e-d2aa-b42146e3b1b7"
      },
      "execution_count": null,
      "outputs": [
        {
          "output_type": "stream",
          "name": "stdout",
          "text": [
            "2023-01-26 12:42:50.496295: E tensorflow/stream_executor/cuda/cuda_driver.cc:271] failed call to cuInit: CUDA_ERROR_NO_DEVICE: no CUDA-capable device is detected\n",
            "2023-01-26 12:42:50,499 INFO     \n",
            "2023-01-26 12:42:50,500 INFO     \n",
            "2023-01-26 12:42:50,500 INFO     ---------------------------------------------------------------------\n",
            "2023-01-26 12:42:50,500 INFO     ---------------------------------------------------------------------\n",
            "2023-01-26 12:42:50,500 INFO     ---------------------- Creating code2vec model ----------------------\n",
            "2023-01-26 12:42:50,500 INFO     ---------------------------------------------------------------------\n",
            "2023-01-26 12:42:50,500 INFO     ---------------------------------------------------------------------\n",
            "2023-01-26 12:42:50,500 INFO     ---------------------------------------------------------------------\n",
            "2023-01-26 12:42:50,500 INFO     ----------------- Configuration - Hyper Parameters ------------------\n",
            "2023-01-26 12:42:50,500 INFO     CODE_VECTOR_SIZE                          384\n",
            "2023-01-26 12:42:50,500 INFO     CSV_BUFFER_SIZE                           104857600\n",
            "2023-01-26 12:42:50,500 INFO     DEFAULT_EMBEDDINGS_SIZE                   128\n",
            "2023-01-26 12:42:50,500 INFO     DL_FRAMEWORK                              tensorflow\n",
            "2023-01-26 12:42:50,500 INFO     DROPOUT_KEEP_RATE                         0.75\n",
            "2023-01-26 12:42:50,500 INFO     EXPORT_CODE_VECTORS                       False\n",
            "2023-01-26 12:42:50,500 INFO     LOGS_PATH                                 None\n",
            "2023-01-26 12:42:50,500 INFO     MAX_CONTEXTS                              200\n",
            "2023-01-26 12:42:50,500 INFO     MAX_PATH_VOCAB_SIZE                       911417\n",
            "2023-01-26 12:42:50,500 INFO     MAX_TARGET_VOCAB_SIZE                     261245\n",
            "2023-01-26 12:42:50,500 INFO     MAX_TOKEN_VOCAB_SIZE                      1301136\n",
            "2023-01-26 12:42:50,500 INFO     MAX_TO_KEEP                               10\n",
            "2023-01-26 12:42:50,501 INFO     MODEL_LOAD_PATH                           models/AndroidAutoandGenivi/saved_model_iter32\n",
            "2023-01-26 12:42:50,501 INFO     MODEL_SAVE_PATH                           None\n",
            "2023-01-26 12:42:50,501 INFO     NUM_BATCHES_TO_LOG_PROGRESS               100\n",
            "2023-01-26 12:42:50,501 INFO     NUM_TEST_EXAMPLES                         0\n",
            "2023-01-26 12:42:50,501 INFO     NUM_TRAIN_BATCHES_TO_EVALUATE             1800\n",
            "2023-01-26 12:42:50,501 INFO     NUM_TRAIN_EPOCHS                          40\n",
            "2023-01-26 12:42:50,501 INFO     NUM_TRAIN_EXAMPLES                        0\n",
            "2023-01-26 12:42:50,501 INFO     PATH_EMBEDDINGS_SIZE                      128\n",
            "2023-01-26 12:42:50,501 INFO     PREDICT                                   False\n",
            "2023-01-26 12:42:50,501 INFO     READER_NUM_PARALLEL_BATCHES               6\n",
            "2023-01-26 12:42:50,501 INFO     RELEASE                                   True\n",
            "2023-01-26 12:42:50,501 INFO     SAVE_EVERY_EPOCHS                         1\n",
            "2023-01-26 12:42:50,501 INFO     SAVE_T2V                                  None\n",
            "2023-01-26 12:42:50,501 INFO     SAVE_W2V                                  None\n",
            "2023-01-26 12:42:50,501 INFO     SEPARATE_OOV_AND_PAD                      False\n",
            "2023-01-26 12:42:50,501 INFO     SHUFFLE_BUFFER_SIZE                       10000\n",
            "2023-01-26 12:42:50,501 INFO     TARGET_EMBEDDINGS_SIZE                    384\n",
            "2023-01-26 12:42:50,501 INFO     TEST_BATCH_SIZE                           1024\n",
            "2023-01-26 12:42:50,501 INFO     TEST_DATA_PATH                            \n",
            "2023-01-26 12:42:50,501 INFO     TOKEN_EMBEDDINGS_SIZE                     128\n",
            "2023-01-26 12:42:50,501 INFO     TOP_K_WORDS_CONSIDERED_DURING_PREDICTION  10\n",
            "2023-01-26 12:42:50,501 INFO     TRAIN_BATCH_SIZE                          1024\n",
            "2023-01-26 12:42:50,501 INFO     TRAIN_DATA_PATH_PREFIX                    None\n",
            "2023-01-26 12:42:50,501 INFO     USE_TENSORBOARD                           False\n",
            "2023-01-26 12:42:50,501 INFO     VERBOSE_MODE                              1\n",
            "2023-01-26 12:42:50,501 INFO     _Config__logger                           <Logger code2vec (INFO)>\n",
            "2023-01-26 12:42:50,501 INFO     context_vector_size                       384\n",
            "2023-01-26 12:42:50,501 INFO     entire_model_load_path                    models/AndroidAutoandGenivi/saved_model_iter32__entire-model\n",
            "2023-01-26 12:42:50,501 INFO     entire_model_save_path                    None\n",
            "2023-01-26 12:42:50,501 INFO     is_loading                                True\n",
            "2023-01-26 12:42:50,501 INFO     is_saving                                 False\n",
            "2023-01-26 12:42:50,501 INFO     is_testing                                False\n",
            "2023-01-26 12:42:50,501 INFO     is_training                               False\n",
            "2023-01-26 12:42:50,501 INFO     model_load_dir                            models/AndroidAutoandGenivi\n",
            "2023-01-26 12:42:50,502 INFO     model_weights_load_path                   models/AndroidAutoandGenivi/saved_model_iter32__only-weights\n",
            "2023-01-26 12:42:50,502 INFO     model_weights_save_path                   None\n",
            "2023-01-26 12:42:50,502 INFO     test_steps                                0\n",
            "2023-01-26 12:42:50,502 INFO     train_data_path                           None\n",
            "2023-01-26 12:42:50,502 INFO     train_steps_per_epoch                     0\n",
            "2023-01-26 12:42:50,502 INFO     word_freq_dict_path                       None\n",
            "2023-01-26 12:42:50,502 INFO     ---------------------------------------------------------------------\n",
            "2023-01-26 12:42:50,846 INFO     Loading model vocabularies from: `models/AndroidAutoandGenivi/dictionaries.bin` ... \n",
            "2023-01-26 12:42:51,922 INFO     Done loading model vocabularies.\n",
            "2023-01-26 12:42:51,976 INFO     Done creating code2vec model\n",
            "2023-01-26 12:42:56,429 INFO     Initalized variables\n",
            "2023-01-26 12:42:56,429 INFO     Loading model weights from: models/AndroidAutoandGenivi/saved_model_iter32\n",
            "2023-01-26 12:42:56.685605: W tensorflow/core/framework/op_kernel.cc:1745] OP_REQUIRES failed at save_restore_v2_ops.cc:227 : NOT_FOUND: models/AndroidAutoandGenivi/saved_model_iter32.data-00000-of-00001; No such file or directory\n",
            "Traceback (most recent call last):\n",
            "  File \"/usr/local/lib/python3.8/dist-packages/tensorflow/python/client/session.py\", line 1377, in _do_call\n",
            "    return fn(*args)\n",
            "  File \"/usr/local/lib/python3.8/dist-packages/tensorflow/python/client/session.py\", line 1360, in _run_fn\n",
            "    return self._call_tf_sessionrun(options, feed_dict, fetch_list,\n",
            "  File \"/usr/local/lib/python3.8/dist-packages/tensorflow/python/client/session.py\", line 1453, in _call_tf_sessionrun\n",
            "    return tf_session.TF_SessionRun_wrapper(self._session, options, feed_dict,\n",
            "tensorflow.python.framework.errors_impl.NotFoundError: models/AndroidAutoandGenivi/saved_model_iter32.data-00000-of-00001; No such file or directory\n",
            "\t [[{{node save/RestoreV2}}]]\n",
            "\n",
            "During handling of the above exception, another exception occurred:\n",
            "\n",
            "Traceback (most recent call last):\n",
            "  File \"/usr/local/lib/python3.8/dist-packages/tensorflow/python/training/saver.py\", line 1417, in restore\n",
            "    sess.run(self.saver_def.restore_op_name,\n",
            "  File \"/usr/local/lib/python3.8/dist-packages/tensorflow/python/client/session.py\", line 967, in run\n",
            "    result = self._run(None, fetches, feed_dict, options_ptr,\n",
            "  File \"/usr/local/lib/python3.8/dist-packages/tensorflow/python/client/session.py\", line 1190, in _run\n",
            "    results = self._do_run(handle, final_targets, final_fetches,\n",
            "  File \"/usr/local/lib/python3.8/dist-packages/tensorflow/python/client/session.py\", line 1370, in _do_run\n",
            "    return self._do_call(_run_fn, feeds, fetches, targets, options,\n",
            "  File \"/usr/local/lib/python3.8/dist-packages/tensorflow/python/client/session.py\", line 1396, in _do_call\n",
            "    raise type(e)(node_def, op, message)  # pylint: disable=no-value-for-parameter\n",
            "tensorflow.python.framework.errors_impl.NotFoundError: Graph execution error:\n",
            "\n",
            "Detected at node 'save/RestoreV2' defined at (most recent call last):\n",
            "    File \"code2vec.py\", line 31, in <module>\n",
            "      eval_results = model.evaluate()\n",
            "    File \"/content/drive/MyDrive/Code2vecJava/code2vec/tensorflow_model.py\", line 127, in evaluate\n",
            "      self.saver = tf.compat.v1.train.Saver()\n",
            "Node: 'save/RestoreV2'\n",
            "models/AndroidAutoandGenivi/saved_model_iter32.data-00000-of-00001; No such file or directory\n",
            "\t [[{{node save/RestoreV2}}]]\n",
            "\n",
            "Original stack trace for 'save/RestoreV2':\n",
            "  File \"code2vec.py\", line 31, in <module>\n",
            "    eval_results = model.evaluate()\n",
            "  File \"/content/drive/MyDrive/Code2vecJava/code2vec/tensorflow_model.py\", line 127, in evaluate\n",
            "    self.saver = tf.compat.v1.train.Saver()\n",
            "  File \"/usr/local/lib/python3.8/dist-packages/tensorflow/python/training/saver.py\", line 933, in __init__\n",
            "    self.build()\n",
            "  File \"/usr/local/lib/python3.8/dist-packages/tensorflow/python/training/saver.py\", line 945, in build\n",
            "    self._build(self._filename, build_save=True, build_restore=True)\n",
            "  File \"/usr/local/lib/python3.8/dist-packages/tensorflow/python/training/saver.py\", line 973, in _build\n",
            "    self.saver_def = self._builder._build_internal(  # pylint: disable=protected-access\n",
            "  File \"/usr/local/lib/python3.8/dist-packages/tensorflow/python/training/saver.py\", line 543, in _build_internal\n",
            "    restore_op = self._AddRestoreOps(filename_tensor, saveables,\n",
            "  File \"/usr/local/lib/python3.8/dist-packages/tensorflow/python/training/saver.py\", line 363, in _AddRestoreOps\n",
            "    all_tensors = self.bulk_restore(filename_tensor, saveables, preferred_shard,\n",
            "  File \"/usr/local/lib/python3.8/dist-packages/tensorflow/python/training/saver.py\", line 611, in bulk_restore\n",
            "    return io_ops.restore_v2(filename_tensor, names, slices, dtypes)\n",
            "  File \"/usr/local/lib/python3.8/dist-packages/tensorflow/python/ops/gen_io_ops.py\", line 1501, in restore_v2\n",
            "    _, _, _op, _outputs = _op_def_library._apply_op_helper(\n",
            "  File \"/usr/local/lib/python3.8/dist-packages/tensorflow/python/framework/op_def_library.py\", line 797, in _apply_op_helper\n",
            "    op = g._create_op_internal(op_type_name, inputs, dtypes=None,\n",
            "  File \"/usr/local/lib/python3.8/dist-packages/tensorflow/python/framework/ops.py\", line 3754, in _create_op_internal\n",
            "    ret = Operation(\n",
            "  File \"/usr/local/lib/python3.8/dist-packages/tensorflow/python/framework/ops.py\", line 2133, in __init__\n",
            "    self._traceback = tf_stack.extract_stack_for_node(self._c_op)\n",
            "\n",
            "\n",
            "During handling of the above exception, another exception occurred:\n",
            "\n",
            "Traceback (most recent call last):\n",
            "  File \"/usr/local/lib/python3.8/dist-packages/tensorflow/python/training/py_checkpoint_reader.py\", line 66, in get_tensor\n",
            "    return CheckpointReader.CheckpointReader_GetTensor(\n",
            "RuntimeError: Key _CHECKPOINTABLE_OBJECT_GRAPH not found in checkpoint\n",
            "\n",
            "During handling of the above exception, another exception occurred:\n",
            "\n",
            "Traceback (most recent call last):\n",
            "  File \"/usr/local/lib/python3.8/dist-packages/tensorflow/python/training/saver.py\", line 1428, in restore\n",
            "    names_to_keys = object_graph_key_mapping(save_path)\n",
            "  File \"/usr/local/lib/python3.8/dist-packages/tensorflow/python/training/saver.py\", line 1749, in object_graph_key_mapping\n",
            "    object_graph_string = reader.get_tensor(trackable.OBJECT_GRAPH_PROTO_KEY)\n",
            "  File \"/usr/local/lib/python3.8/dist-packages/tensorflow/python/training/py_checkpoint_reader.py\", line 71, in get_tensor\n",
            "    error_translator(e)\n",
            "  File \"/usr/local/lib/python3.8/dist-packages/tensorflow/python/training/py_checkpoint_reader.py\", line 31, in error_translator\n",
            "    raise errors_impl.NotFoundError(None, None, error_message)\n",
            "tensorflow.python.framework.errors_impl.NotFoundError: Key _CHECKPOINTABLE_OBJECT_GRAPH not found in checkpoint\n",
            "\n",
            "During handling of the above exception, another exception occurred:\n",
            "\n",
            "Traceback (most recent call last):\n",
            "  File \"code2vec.py\", line 31, in <module>\n",
            "    eval_results = model.evaluate()\n",
            "  File \"/content/drive/MyDrive/Code2vecJava/code2vec/tensorflow_model.py\", line 131, in evaluate\n",
            "    self._load_inner_model(self.sess)\n",
            "  File \"/content/drive/MyDrive/Code2vecJava/code2vec/tensorflow_model.py\", line 376, in _load_inner_model\n",
            "    self.saver.restore(sess, self.config.MODEL_LOAD_PATH)\n",
            "  File \"/usr/local/lib/python3.8/dist-packages/tensorflow/python/training/saver.py\", line 1433, in restore\n",
            "    raise _wrap_restore_error_with_msg(\n",
            "tensorflow.python.framework.errors_impl.NotFoundError: Restoring from checkpoint failed. This is most likely due to a Variable name or other graph key that is missing from the checkpoint. Please ensure that you have not altered the graph expected based on the checkpoint. Original error:\n",
            "\n",
            "Graph execution error:\n",
            "\n",
            "Detected at node 'save/RestoreV2' defined at (most recent call last):\n",
            "    File \"code2vec.py\", line 31, in <module>\n",
            "      eval_results = model.evaluate()\n",
            "    File \"/content/drive/MyDrive/Code2vecJava/code2vec/tensorflow_model.py\", line 127, in evaluate\n",
            "      self.saver = tf.compat.v1.train.Saver()\n",
            "Node: 'save/RestoreV2'\n",
            "models/AndroidAutoandGenivi/saved_model_iter32.data-00000-of-00001; No such file or directory\n",
            "\t [[{{node save/RestoreV2}}]]\n",
            "\n",
            "Original stack trace for 'save/RestoreV2':\n",
            "  File \"code2vec.py\", line 31, in <module>\n",
            "    eval_results = model.evaluate()\n",
            "  File \"/content/drive/MyDrive/Code2vecJava/code2vec/tensorflow_model.py\", line 127, in evaluate\n",
            "    self.saver = tf.compat.v1.train.Saver()\n",
            "  File \"/usr/local/lib/python3.8/dist-packages/tensorflow/python/training/saver.py\", line 933, in __init__\n",
            "    self.build()\n",
            "  File \"/usr/local/lib/python3.8/dist-packages/tensorflow/python/training/saver.py\", line 945, in build\n",
            "    self._build(self._filename, build_save=True, build_restore=True)\n",
            "  File \"/usr/local/lib/python3.8/dist-packages/tensorflow/python/training/saver.py\", line 973, in _build\n",
            "    self.saver_def = self._builder._build_internal(  # pylint: disable=protected-access\n",
            "  File \"/usr/local/lib/python3.8/dist-packages/tensorflow/python/training/saver.py\", line 543, in _build_internal\n",
            "    restore_op = self._AddRestoreOps(filename_tensor, saveables,\n",
            "  File \"/usr/local/lib/python3.8/dist-packages/tensorflow/python/training/saver.py\", line 363, in _AddRestoreOps\n",
            "    all_tensors = self.bulk_restore(filename_tensor, saveables, preferred_shard,\n",
            "  File \"/usr/local/lib/python3.8/dist-packages/tensorflow/python/training/saver.py\", line 611, in bulk_restore\n",
            "    return io_ops.restore_v2(filename_tensor, names, slices, dtypes)\n",
            "  File \"/usr/local/lib/python3.8/dist-packages/tensorflow/python/ops/gen_io_ops.py\", line 1501, in restore_v2\n",
            "    _, _, _op, _outputs = _op_def_library._apply_op_helper(\n",
            "  File \"/usr/local/lib/python3.8/dist-packages/tensorflow/python/framework/op_def_library.py\", line 797, in _apply_op_helper\n",
            "    op = g._create_op_internal(op_type_name, inputs, dtypes=None,\n",
            "  File \"/usr/local/lib/python3.8/dist-packages/tensorflow/python/framework/ops.py\", line 3754, in _create_op_internal\n",
            "    ret = Operation(\n",
            "  File \"/usr/local/lib/python3.8/dist-packages/tensorflow/python/framework/ops.py\", line 2133, in __init__\n",
            "    self._traceback = tf_stack.extract_stack_for_node(self._c_op)\n",
            "\n"
          ]
        }
      ]
    },
    {
      "cell_type": "code",
      "source": [
        "!python3 code2vec.py --load models/AndroidAutoandGenivi/saved_model_iter32.release --test data/AndroidAutoandGenivi/AndroidAutoandGenivi.test.c2v"
      ],
      "metadata": {
        "colab": {
          "base_uri": "https://localhost:8080/"
        },
        "id": "Uy1kdpmVfKuA",
        "outputId": "ab6e5d15-daee-483f-c6eb-a7a97e1cd0c5"
      },
      "execution_count": null,
      "outputs": [
        {
          "output_type": "stream",
          "name": "stdout",
          "text": [
            "2023-01-26 12:45:36.784125: E tensorflow/stream_executor/cuda/cuda_driver.cc:271] failed call to cuInit: CUDA_ERROR_NO_DEVICE: no CUDA-capable device is detected\n",
            "2023-01-26 12:45:36,785 INFO     \n",
            "2023-01-26 12:45:36,785 INFO     \n",
            "2023-01-26 12:45:36,785 INFO     ---------------------------------------------------------------------\n",
            "2023-01-26 12:45:36,785 INFO     ---------------------------------------------------------------------\n",
            "2023-01-26 12:45:36,785 INFO     ---------------------- Creating code2vec model ----------------------\n",
            "2023-01-26 12:45:36,785 INFO     ---------------------------------------------------------------------\n",
            "2023-01-26 12:45:36,785 INFO     ---------------------------------------------------------------------\n",
            "2023-01-26 12:45:36,785 INFO     Checking number of examples ...\n",
            "2023-01-26 12:45:37,341 INFO         Number of test examples: 6250\n",
            "2023-01-26 12:45:37,341 INFO     ---------------------------------------------------------------------\n",
            "2023-01-26 12:45:37,341 INFO     ----------------- Configuration - Hyper Parameters ------------------\n",
            "2023-01-26 12:45:37,341 INFO     CODE_VECTOR_SIZE                          384\n",
            "2023-01-26 12:45:37,341 INFO     CSV_BUFFER_SIZE                           104857600\n",
            "2023-01-26 12:45:37,341 INFO     DEFAULT_EMBEDDINGS_SIZE                   128\n",
            "2023-01-26 12:45:37,341 INFO     DL_FRAMEWORK                              tensorflow\n",
            "2023-01-26 12:45:37,341 INFO     DROPOUT_KEEP_RATE                         0.75\n",
            "2023-01-26 12:45:37,341 INFO     EXPORT_CODE_VECTORS                       False\n",
            "2023-01-26 12:45:37,341 INFO     LOGS_PATH                                 None\n",
            "2023-01-26 12:45:37,341 INFO     MAX_CONTEXTS                              200\n",
            "2023-01-26 12:45:37,341 INFO     MAX_PATH_VOCAB_SIZE                       911417\n",
            "2023-01-26 12:45:37,341 INFO     MAX_TARGET_VOCAB_SIZE                     261245\n",
            "2023-01-26 12:45:37,341 INFO     MAX_TOKEN_VOCAB_SIZE                      1301136\n",
            "2023-01-26 12:45:37,341 INFO     MAX_TO_KEEP                               10\n",
            "2023-01-26 12:45:37,341 INFO     MODEL_LOAD_PATH                           models/AndroidAutoandGenivi/saved_model_iter32.release\n",
            "2023-01-26 12:45:37,341 INFO     MODEL_SAVE_PATH                           None\n",
            "2023-01-26 12:45:37,341 INFO     NUM_BATCHES_TO_LOG_PROGRESS               100\n",
            "2023-01-26 12:45:37,341 INFO     NUM_TEST_EXAMPLES                         6250\n",
            "2023-01-26 12:45:37,341 INFO     NUM_TRAIN_BATCHES_TO_EVALUATE             1800\n",
            "2023-01-26 12:45:37,341 INFO     NUM_TRAIN_EPOCHS                          40\n",
            "2023-01-26 12:45:37,342 INFO     NUM_TRAIN_EXAMPLES                        0\n",
            "2023-01-26 12:45:37,342 INFO     PATH_EMBEDDINGS_SIZE                      128\n",
            "2023-01-26 12:45:37,342 INFO     PREDICT                                   False\n",
            "2023-01-26 12:45:37,342 INFO     READER_NUM_PARALLEL_BATCHES               6\n",
            "2023-01-26 12:45:37,342 INFO     RELEASE                                   False\n",
            "2023-01-26 12:45:37,342 INFO     SAVE_EVERY_EPOCHS                         1\n",
            "2023-01-26 12:45:37,342 INFO     SAVE_T2V                                  None\n",
            "2023-01-26 12:45:37,342 INFO     SAVE_W2V                                  None\n",
            "2023-01-26 12:45:37,342 INFO     SEPARATE_OOV_AND_PAD                      False\n",
            "2023-01-26 12:45:37,342 INFO     SHUFFLE_BUFFER_SIZE                       10000\n",
            "2023-01-26 12:45:37,342 INFO     TARGET_EMBEDDINGS_SIZE                    384\n",
            "2023-01-26 12:45:37,342 INFO     TEST_BATCH_SIZE                           1024\n",
            "2023-01-26 12:45:37,342 INFO     TEST_DATA_PATH                            data/AndroidAutoandGenivi/AndroidAutoandGenivi.test.c2v\n",
            "2023-01-26 12:45:37,342 INFO     TOKEN_EMBEDDINGS_SIZE                     128\n",
            "2023-01-26 12:45:37,342 INFO     TOP_K_WORDS_CONSIDERED_DURING_PREDICTION  10\n",
            "2023-01-26 12:45:37,342 INFO     TRAIN_BATCH_SIZE                          1024\n",
            "2023-01-26 12:45:37,342 INFO     TRAIN_DATA_PATH_PREFIX                    None\n",
            "2023-01-26 12:45:37,342 INFO     USE_TENSORBOARD                           False\n",
            "2023-01-26 12:45:37,342 INFO     VERBOSE_MODE                              1\n",
            "2023-01-26 12:45:37,342 INFO     _Config__logger                           <Logger code2vec (INFO)>\n",
            "2023-01-26 12:45:37,342 INFO     context_vector_size                       384\n",
            "2023-01-26 12:45:37,342 INFO     entire_model_load_path                    models/AndroidAutoandGenivi/saved_model_iter32.release__entire-model\n",
            "2023-01-26 12:45:37,342 INFO     entire_model_save_path                    None\n",
            "2023-01-26 12:45:37,342 INFO     is_loading                                True\n",
            "2023-01-26 12:45:37,342 INFO     is_saving                                 False\n",
            "2023-01-26 12:45:37,342 INFO     is_testing                                True\n",
            "2023-01-26 12:45:37,342 INFO     is_training                               False\n",
            "2023-01-26 12:45:37,342 INFO     model_load_dir                            models/AndroidAutoandGenivi\n",
            "2023-01-26 12:45:37,342 INFO     model_weights_load_path                   models/AndroidAutoandGenivi/saved_model_iter32.release__only-weights\n",
            "2023-01-26 12:45:37,342 INFO     model_weights_save_path                   None\n",
            "2023-01-26 12:45:37,342 INFO     test_steps                                7\n",
            "2023-01-26 12:45:37,342 INFO     train_data_path                           None\n",
            "2023-01-26 12:45:37,342 INFO     train_steps_per_epoch                     0\n",
            "2023-01-26 12:45:37,342 INFO     word_freq_dict_path                       None\n",
            "2023-01-26 12:45:37,342 INFO     ---------------------------------------------------------------------\n",
            "2023-01-26 12:45:37,343 INFO     Loading model vocabularies from: `models/AndroidAutoandGenivi/dictionaries.bin` ... \n",
            "2023-01-26 12:45:37,728 INFO     Done loading model vocabularies.\n",
            "2023-01-26 12:45:37,783 INFO     Done creating code2vec model\n",
            "2023-01-26 12:45:41,356 INFO     Initalized variables\n",
            "2023-01-26 12:45:41,356 INFO     Loading model weights from: models/AndroidAutoandGenivi/saved_model_iter32.release\n",
            "2023-01-26 12:45:44,250 INFO     Done loading model weights\n",
            "2023-01-26 12:45:44,727 INFO     Starting evaluation\n",
            "2023-01-26 12:45:57,531 INFO     Done evaluating, epoch reached\n",
            "2023-01-26 12:45:57,533 INFO     Evaluation time: 0H:0M:19S\n",
            "2023-01-26 12:45:57,535 INFO     top10_acc: [0.84048 0.88352 0.89552 0.90432 0.91072 0.91504 0.91904 0.92176 0.92384\n",
            " 0.92528], precision: 0.8794950673597115, recall: 0.8892583257360434, F1: 0.8843497506733154\n"
          ]
        }
      ]
    },
    {
      "cell_type": "code",
      "source": [
        "!source train.sh"
      ],
      "metadata": {
        "colab": {
          "base_uri": "https://localhost:8080/"
        },
        "id": "ZQirOs6rkRy4",
        "outputId": "4cda0090-59ed-4e81-f98c-9b3d89ed86da"
      },
      "execution_count": null,
      "outputs": [
        {
          "output_type": "stream",
          "name": "stdout",
          "text": [
            "2022-12-03 15:19:48.235872: E tensorflow/stream_executor/cuda/cuda_driver.cc:271] failed call to cuInit: CUDA_ERROR_NO_DEVICE: no CUDA-capable device is detected\n",
            "2022-12-03 15:19:48,237 INFO     \n",
            "2022-12-03 15:19:48,237 INFO     \n",
            "2022-12-03 15:19:48,237 INFO     ---------------------------------------------------------------------\n",
            "2022-12-03 15:19:48,237 INFO     ---------------------------------------------------------------------\n",
            "2022-12-03 15:19:48,237 INFO     ---------------------- Creating code2vec model ----------------------\n",
            "2022-12-03 15:19:48,237 INFO     ---------------------------------------------------------------------\n",
            "2022-12-03 15:19:48,237 INFO     ---------------------------------------------------------------------\n",
            "2022-12-03 15:19:48,237 INFO     Checking number of examples ...\n",
            "2022-12-03 15:19:48,239 INFO         Number of train examples: 23364\n",
            "2022-12-03 15:19:48,240 INFO         Number of test examples: 14323\n",
            "2022-12-03 15:19:48,240 INFO     ---------------------------------------------------------------------\n",
            "2022-12-03 15:19:48,240 INFO     ----------------- Configuration - Hyper Parameters ------------------\n",
            "2022-12-03 15:19:48,240 INFO     CODE_VECTOR_SIZE                          384\n",
            "2022-12-03 15:19:48,240 INFO     CSV_BUFFER_SIZE                           104857600\n",
            "2022-12-03 15:19:48,240 INFO     DEFAULT_EMBEDDINGS_SIZE                   128\n",
            "2022-12-03 15:19:48,240 INFO     DL_FRAMEWORK                              tensorflow\n",
            "2022-12-03 15:19:48,241 INFO     DROPOUT_KEEP_RATE                         0.75\n",
            "2022-12-03 15:19:48,241 INFO     EXPORT_CODE_VECTORS                       False\n",
            "2022-12-03 15:19:48,241 INFO     LOGS_PATH                                 None\n",
            "2022-12-03 15:19:48,241 INFO     MAX_CONTEXTS                              200\n",
            "2022-12-03 15:19:48,241 INFO     MAX_PATH_VOCAB_SIZE                       911417\n",
            "2022-12-03 15:19:48,241 INFO     MAX_TARGET_VOCAB_SIZE                     261245\n",
            "2022-12-03 15:19:48,241 INFO     MAX_TOKEN_VOCAB_SIZE                      1301136\n",
            "2022-12-03 15:19:48,241 INFO     MAX_TO_KEEP                               10\n",
            "2022-12-03 15:19:48,241 INFO     MODEL_LOAD_PATH                           None\n",
            "2022-12-03 15:19:48,241 INFO     MODEL_SAVE_PATH                           models/withscores/saved_model\n",
            "2022-12-03 15:19:48,241 INFO     NUM_BATCHES_TO_LOG_PROGRESS               100\n",
            "2022-12-03 15:19:48,241 INFO     NUM_TEST_EXAMPLES                         14323\n",
            "2022-12-03 15:19:48,241 INFO     NUM_TRAIN_BATCHES_TO_EVALUATE             1800\n",
            "2022-12-03 15:19:48,241 INFO     NUM_TRAIN_EPOCHS                          10\n",
            "2022-12-03 15:19:48,241 INFO     NUM_TRAIN_EXAMPLES                        23364\n",
            "2022-12-03 15:19:48,241 INFO     PATH_EMBEDDINGS_SIZE                      128\n",
            "2022-12-03 15:19:48,241 INFO     PREDICT                                   False\n",
            "2022-12-03 15:19:48,241 INFO     READER_NUM_PARALLEL_BATCHES               6\n",
            "2022-12-03 15:19:48,241 INFO     RELEASE                                   False\n",
            "2022-12-03 15:19:48,241 INFO     SAVE_EVERY_EPOCHS                         1\n",
            "2022-12-03 15:19:48,242 INFO     SAVE_T2V                                  None\n",
            "2022-12-03 15:19:48,242 INFO     SAVE_W2V                                  None\n",
            "2022-12-03 15:19:48,242 INFO     SEPARATE_OOV_AND_PAD                      False\n",
            "2022-12-03 15:19:48,242 INFO     SHUFFLE_BUFFER_SIZE                       10000\n",
            "2022-12-03 15:19:48,242 INFO     TARGET_EMBEDDINGS_SIZE                    384\n",
            "2022-12-03 15:19:48,242 INFO     TEST_BATCH_SIZE                           1024\n",
            "2022-12-03 15:19:48,242 INFO     TEST_DATA_PATH                            data/AndroidAutoandGenivi/AndroidAutoandGenivi.val.c2v\n",
            "2022-12-03 15:19:48,242 INFO     TOKEN_EMBEDDINGS_SIZE                     128\n",
            "2022-12-03 15:19:48,242 INFO     TOP_K_WORDS_CONSIDERED_DURING_PREDICTION  10\n",
            "2022-12-03 15:19:48,242 INFO     TRAIN_BATCH_SIZE                          1024\n",
            "2022-12-03 15:19:48,242 INFO     TRAIN_DATA_PATH_PREFIX                    data/AndroidAutoandGenivi/AndroidAutoandGenivi\n",
            "2022-12-03 15:19:48,242 INFO     USE_TENSORBOARD                           False\n",
            "2022-12-03 15:19:48,242 INFO     VERBOSE_MODE                              1\n",
            "2022-12-03 15:19:48,242 INFO     _Config__logger                           <Logger code2vec (INFO)>\n",
            "2022-12-03 15:19:48,242 INFO     context_vector_size                       384\n",
            "2022-12-03 15:19:48,242 INFO     entire_model_load_path                    None\n",
            "2022-12-03 15:19:48,242 INFO     entire_model_save_path                    models/withscores/saved_model__entire-model\n",
            "2022-12-03 15:19:48,242 INFO     is_loading                                False\n",
            "2022-12-03 15:19:48,242 INFO     is_saving                                 True\n",
            "2022-12-03 15:19:48,242 INFO     is_testing                                True\n",
            "2022-12-03 15:19:48,242 INFO     is_training                               True\n",
            "2022-12-03 15:19:48,243 INFO     model_load_dir                            None\n",
            "2022-12-03 15:19:48,243 INFO     model_weights_load_path                   None\n",
            "2022-12-03 15:19:48,243 INFO     model_weights_save_path                   models/withscores/saved_model__only-weights\n",
            "2022-12-03 15:19:48,243 INFO     test_steps                                14\n",
            "2022-12-03 15:19:48,243 INFO     train_data_path                           data/AndroidAutoandGenivi/AndroidAutoandGenivi.train.c2v\n",
            "2022-12-03 15:19:48,243 INFO     train_steps_per_epoch                     23\n",
            "2022-12-03 15:19:48,243 INFO     word_freq_dict_path                       data/AndroidAutoandGenivi/AndroidAutoandGenivi.dict.c2v\n",
            "2022-12-03 15:19:48,243 INFO     ---------------------------------------------------------------------\n",
            "2022-12-03 15:19:48,243 INFO     Loading word frequencies dictionaries from: data/AndroidAutoandGenivi/AndroidAutoandGenivi.dict.c2v ... \n",
            "2022-12-03 15:19:48,511 INFO     Done loading word frequencies dictionaries.\n",
            "2022-12-03 15:19:48,511 INFO     Word frequencies dictionaries loaded. Now creating vocabularies.\n",
            "2022-12-03 15:19:48,542 INFO     Created token vocab. size: 42483\n",
            "2022-12-03 15:19:48,961 INFO     Created path vocab. size: 361325\n",
            "2022-12-03 15:19:48,971 INFO     Created target vocab. size: 13348\n",
            "2022-12-03 15:19:49,029 INFO     Done creating code2vec model\n",
            "2022-12-03 15:19:49,029 INFO     Starting training\n",
            "2022-12-03 15:19:51,459 INFO     Number of trainable params: 56960896\n",
            "2022-12-03 15:19:51,459 INFO     variable name: model/WORDS_VOCAB:0 -- shape: (42483, 128) -- #params: 5437824\n",
            "2022-12-03 15:19:51,459 INFO     variable name: model/TARGET_WORDS_VOCAB:0 -- shape: (13348, 384) -- #params: 5125632\n",
            "2022-12-03 15:19:51,459 INFO     variable name: model/ATTENTION:0 -- shape: (384, 1) -- #params: 384\n",
            "2022-12-03 15:19:51,459 INFO     variable name: model/PATHS_VOCAB:0 -- shape: (361325, 128) -- #params: 46249600\n",
            "2022-12-03 15:19:51,459 INFO     variable name: model/TRANSFORM:0 -- shape: (384, 384) -- #params: 147456\n",
            "2022-12-03 15:19:54,666 INFO     Initalized variables\n",
            "2022-12-03 15:19:55,870 INFO     Started reader...\n",
            "2022-12-03 15:22:47,273 INFO     Saved after 1 epochs in: models/withscores/saved_model_iter1\n",
            "2022-12-03 15:22:47,957 INFO     Starting evaluation\n",
            "2022-12-03 15:23:17,551 INFO     Done evaluating, epoch reached\n",
            "2022-12-03 15:23:17,554 INFO     Evaluation time: 0H:0M:30S\n",
            "2022-12-03 15:23:17,557 INFO     After 1 epochs -- top10_acc: [0.01445228 0.01591845 0.01794317 0.02597221 0.0337918  0.04559101\n",
            " 0.05780912 0.06576834 0.06856106 0.07233122], precision: 0.050471867160434836, recall: 0.01381350944876741, F1: 0.02169058192365942\n",
            "2022-12-03 15:25:57,060 INFO     Saved after 2 epochs in: models/withscores/saved_model_iter2\n",
            "2022-12-03 15:25:57,304 INFO     Starting evaluation\n",
            "2022-12-03 15:26:29,307 INFO     Done evaluating, epoch reached\n",
            "2022-12-03 15:26:29,310 INFO     Evaluation time: 0H:0M:32S\n",
            "2022-12-03 15:26:29,312 INFO     After 2 epochs -- top10_acc: [0.01626754 0.02813656 0.04105285 0.06150946 0.06667598 0.06807233\n",
            " 0.07086504 0.07240103 0.07435593 0.07561265], precision: 0.06804417527609548, recall: 0.021858548867017623, F1: 0.033087916847119966\n",
            "2022-12-03 15:28:58,811 INFO     Saved after 3 epochs in: models/withscores/saved_model_iter3\n",
            "2022-12-03 15:29:19,215 INFO     Starting evaluation\n",
            "2022-12-03 15:29:47,046 INFO     Done evaluating, epoch reached\n",
            "2022-12-03 15:29:47,052 INFO     Evaluation time: 0H:0M:48S\n",
            "2022-12-03 15:29:47,053 INFO     After 3 epochs -- top10_acc: [0.05557495 0.06904978 0.0746352  0.08189625 0.08664386 0.08964602\n",
            " 0.0922991  0.09460309 0.09690707 0.0985827 ], precision: 0.10892472354431579, recall: 0.07516708335375917, F1: 0.08895076768379935\n",
            "2022-12-03 15:32:18,764 INFO     Saved after 4 epochs in: models/withscores/saved_model_iter4\n",
            "2022-12-03 15:32:18,894 INFO     Starting evaluation\n",
            "2022-12-03 15:32:47,162 INFO     Done evaluating, epoch reached\n",
            "2022-12-03 15:32:47,164 INFO     Evaluation time: 0H:0M:28S\n",
            "2022-12-03 15:32:47,166 INFO     After 4 epochs -- top10_acc: [0.07372757 0.09160092 0.09795434 0.10374921 0.11163862 0.11652587\n",
            " 0.12001676 0.12476437 0.1280458  0.13111778], precision: 0.07026748347182629, recall: 0.07547477116518453, F1: 0.07277810060779294\n",
            "2022-12-03 15:33:40,216 INFO     Average loss at batch 100: 0.008218, \tthroughput: 123 samples/sec\n",
            "2022-12-03 15:35:39,925 INFO     Saved after 5 epochs in: models/withscores/saved_model_iter5\n",
            "2022-12-03 15:35:40,109 INFO     Starting evaluation\n",
            "2022-12-03 15:36:10,342 INFO     Done evaluating, epoch reached\n",
            "2022-12-03 15:36:10,346 INFO     Evaluation time: 0H:0M:30S\n",
            "2022-12-03 15:36:10,347 INFO     After 5 epochs -- top10_acc: [0.09537108 0.11464079 0.12532291 0.13439922 0.1386581  0.14368498\n",
            " 0.1476646  0.1512253  0.15541437 0.16211687], precision: 0.1674914199058185, recall: 0.13721067085131425, F1: 0.15084642202494342\n",
            "2022-12-03 15:38:41,829 INFO     Saved after 6 epochs in: models/withscores/saved_model_iter6\n",
            "2022-12-03 15:38:41,963 INFO     Starting evaluation\n",
            "2022-12-03 15:39:10,278 INFO     Done evaluating, epoch reached\n",
            "2022-12-03 15:39:10,281 INFO     Evaluation time: 0H:0M:28S\n",
            "2022-12-03 15:39:10,285 INFO     After 6 epochs -- top10_acc: [0.11268589 0.13844865 0.15611255 0.16826084 0.17922223 0.18760036\n",
            " 0.19500105 0.20086574 0.20791734 0.21413112], precision: 0.19230459307010475, recall: 0.15613091051831013, F1: 0.17234002220597394\n",
            "2022-12-03 15:41:43,154 INFO     Saved after 7 epochs in: models/withscores/saved_model_iter7\n",
            "2022-12-03 15:41:43,287 INFO     Starting evaluation\n",
            "2022-12-03 15:42:11,550 INFO     Done evaluating, epoch reached\n",
            "2022-12-03 15:42:11,552 INFO     Evaluation time: 0H:0M:28S\n",
            "2022-12-03 15:42:11,555 INFO     After 7 epochs -- top10_acc: [0.13963555 0.17098373 0.19458214 0.20931369 0.22216016 0.23472736\n",
            " 0.24680584 0.25595197 0.26523773 0.27403477], precision: 0.25267595065215953, recall: 0.18776547765477655, F1: 0.21543759290969647\n",
            "2022-12-03 15:44:53,112 INFO     Saved after 8 epochs in: models/withscores/saved_model_iter8\n",
            "2022-12-03 15:45:05,196 INFO     Starting evaluation\n",
            "2022-12-03 15:45:33,086 INFO     Done evaluating, epoch reached\n",
            "2022-12-03 15:45:33,088 INFO     Evaluation time: 0H:0M:39S\n",
            "2022-12-03 15:45:33,089 INFO     After 8 epochs -- top10_acc: [0.1708441  0.21622565 0.24540948 0.26928716 0.2882776  0.30272988\n",
            " 0.3181596  0.33023808 0.34224674 0.35278922], precision: 0.25891421283203014, recall: 0.229525120440468, F1: 0.24333550488599348\n",
            "2022-12-03 15:47:08,684 INFO     Average loss at batch 200: 0.005980, \tthroughput: 126 samples/sec\n",
            "2022-12-03 15:47:54,694 INFO     Saved after 9 epochs in: models/withscores/saved_model_iter9\n",
            "2022-12-03 15:47:54,829 INFO     Starting evaluation\n",
            "2022-12-03 15:48:22,509 INFO     Done evaluating, epoch reached\n",
            "2022-12-03 15:48:22,511 INFO     Evaluation time: 0H:0M:27S\n",
            "2022-12-03 15:48:22,512 INFO     After 9 epochs -- top10_acc: [0.2109195  0.26754172 0.30566222 0.33414787 0.35928227 0.38022761\n",
            " 0.4006144  0.41569504 0.42986804 0.44082944], precision: 0.3245835339431873, recall: 0.2758835180304791, F1: 0.29825865364196225\n",
            "2022-12-03 15:50:30,586 INFO     Done training\n",
            "2022-12-03 15:50:33,671 INFO     Model saved in file: models/withscores/saved_model\n",
            "2022-12-03 15:50:33,671 INFO     Training time: 0H:30M:44S\n",
            "\n"
          ]
        }
      ]
    },
    {
      "cell_type": "code",
      "source": [
        "cd .."
      ],
      "metadata": {
        "colab": {
          "base_uri": "https://localhost:8080/"
        },
        "id": "xvlSqq42sFoe",
        "outputId": "78b22249-2c76-4393-b72b-7f7cda56d3d5"
      },
      "execution_count": 4,
      "outputs": [
        {
          "output_type": "stream",
          "name": "stdout",
          "text": [
            "/\n"
          ]
        }
      ]
    },
    {
      "cell_type": "code",
      "source": [
        "cd content/drive/MyDrive/Code2vecJava/code2vec"
      ],
      "metadata": {
        "colab": {
          "base_uri": "https://localhost:8080/"
        },
        "id": "RRxBDcz3sjqU",
        "outputId": "ccfbb025-40f5-47af-950a-8292d2aaba00"
      },
      "execution_count": 5,
      "outputs": [
        {
          "output_type": "stream",
          "name": "stdout",
          "text": [
            "/content/drive/MyDrive/Code2vecJava/code2vec\n"
          ]
        }
      ]
    },
    {
      "cell_type": "markdown",
      "source": [
        "This below command is being used to extract the code vectors once the model is relerased. To get the code vectors, the code has to be stored in a file named 'Input.java' and once you modify the file, you can press any button, you can keep on modifying the Input.java file and get embeddings. If you want to quite , write 'quit' or 'q'.\n",
        "\n",
        "The Design Pattern examples used in this project have been stored in a folder named 'DPexamples'. If you want to extract the vectors of these examples, copy each example into Input.java and extract embeddings."
      ],
      "metadata": {
        "id": "cLhdpC0lWeHf"
      }
    },
    {
      "cell_type": "code",
      "source": [
        "!python3 code2vec.py --load models/AndroidAutoandGenivi/saved_model_iter32.release --predict --export_code_vectors"
      ],
      "metadata": {
        "colab": {
          "base_uri": "https://localhost:8080/"
        },
        "id": "nvGvKuUesvby",
        "outputId": "b5e3e635-eda5-4343-9d83-b9591c5ca23b"
      },
      "execution_count": 6,
      "outputs": [
        {
          "output_type": "stream",
          "name": "stdout",
          "text": [
            "2023-04-17 08:31:35.197203: I tensorflow/core/platform/cpu_feature_guard.cc:182] This TensorFlow binary is optimized to use available CPU instructions in performance-critical operations.\n",
            "To enable the following instructions: AVX2 FMA, in other operations, rebuild TensorFlow with the appropriate compiler flags.\n",
            "2023-04-17 08:31:36.646972: W tensorflow/compiler/tf2tensorrt/utils/py_utils.cc:38] TF-TRT Warning: Could not find TensorRT\n",
            "2023-04-17 08:31:40,175 INFO     \n",
            "2023-04-17 08:31:40,175 INFO     \n",
            "2023-04-17 08:31:40,175 INFO     ---------------------------------------------------------------------\n",
            "2023-04-17 08:31:40,175 INFO     ---------------------------------------------------------------------\n",
            "2023-04-17 08:31:40,175 INFO     ---------------------- Creating code2vec model ----------------------\n",
            "2023-04-17 08:31:40,175 INFO     ---------------------------------------------------------------------\n",
            "2023-04-17 08:31:40,175 INFO     ---------------------------------------------------------------------\n",
            "2023-04-17 08:31:40,175 INFO     Checking number of examples ...\n",
            "2023-04-17 08:31:40,175 INFO     ---------------------------------------------------------------------\n",
            "2023-04-17 08:31:40,175 INFO     ----------------- Configuration - Hyper Parameters ------------------\n",
            "2023-04-17 08:31:40,176 INFO     CODE_VECTOR_SIZE                          384\n",
            "2023-04-17 08:31:40,176 INFO     CSV_BUFFER_SIZE                           104857600\n",
            "2023-04-17 08:31:40,176 INFO     DEFAULT_EMBEDDINGS_SIZE                   128\n",
            "2023-04-17 08:31:40,176 INFO     DL_FRAMEWORK                              tensorflow\n",
            "2023-04-17 08:31:40,176 INFO     DROPOUT_KEEP_RATE                         0.75\n",
            "2023-04-17 08:31:40,176 INFO     EXPORT_CODE_VECTORS                       True\n",
            "2023-04-17 08:31:40,176 INFO     LOGS_PATH                                 None\n",
            "2023-04-17 08:31:40,176 INFO     MAX_CONTEXTS                              200\n",
            "2023-04-17 08:31:40,176 INFO     MAX_PATH_VOCAB_SIZE                       911417\n",
            "2023-04-17 08:31:40,176 INFO     MAX_TARGET_VOCAB_SIZE                     261245\n",
            "2023-04-17 08:31:40,176 INFO     MAX_TOKEN_VOCAB_SIZE                      1301136\n",
            "2023-04-17 08:31:40,176 INFO     MAX_TO_KEEP                               10\n",
            "2023-04-17 08:31:40,176 INFO     MODEL_LOAD_PATH                           models/AndroidAutoandGenivi/saved_model_iter32.release\n",
            "2023-04-17 08:31:40,176 INFO     MODEL_SAVE_PATH                           None\n",
            "2023-04-17 08:31:40,176 INFO     NUM_BATCHES_TO_LOG_PROGRESS               100\n",
            "2023-04-17 08:31:40,176 INFO     NUM_TEST_EXAMPLES                         0\n",
            "2023-04-17 08:31:40,176 INFO     NUM_TRAIN_BATCHES_TO_EVALUATE             1800\n",
            "2023-04-17 08:31:40,176 INFO     NUM_TRAIN_EPOCHS                          40\n",
            "2023-04-17 08:31:40,176 INFO     NUM_TRAIN_EXAMPLES                        0\n",
            "2023-04-17 08:31:40,176 INFO     PATH_EMBEDDINGS_SIZE                      128\n",
            "2023-04-17 08:31:40,176 INFO     PREDICT                                   True\n",
            "2023-04-17 08:31:40,176 INFO     READER_NUM_PARALLEL_BATCHES               6\n",
            "2023-04-17 08:31:40,176 INFO     RELEASE                                   False\n",
            "2023-04-17 08:31:40,176 INFO     SAVE_EVERY_EPOCHS                         1\n",
            "2023-04-17 08:31:40,176 INFO     SAVE_T2V                                  None\n",
            "2023-04-17 08:31:40,176 INFO     SAVE_W2V                                  None\n",
            "2023-04-17 08:31:40,177 INFO     SEPARATE_OOV_AND_PAD                      False\n",
            "2023-04-17 08:31:40,177 INFO     SHUFFLE_BUFFER_SIZE                       10000\n",
            "2023-04-17 08:31:40,177 INFO     TARGET_EMBEDDINGS_SIZE                    384\n",
            "2023-04-17 08:31:40,177 INFO     TEST_BATCH_SIZE                           1024\n",
            "2023-04-17 08:31:40,177 INFO     TEST_DATA_PATH                            \n",
            "2023-04-17 08:31:40,177 INFO     TOKEN_EMBEDDINGS_SIZE                     128\n",
            "2023-04-17 08:31:40,177 INFO     TOP_K_WORDS_CONSIDERED_DURING_PREDICTION  10\n",
            "2023-04-17 08:31:40,177 INFO     TRAIN_BATCH_SIZE                          1024\n",
            "2023-04-17 08:31:40,177 INFO     TRAIN_DATA_PATH_PREFIX                    None\n",
            "2023-04-17 08:31:40,177 INFO     USE_TENSORBOARD                           False\n",
            "2023-04-17 08:31:40,177 INFO     VERBOSE_MODE                              1\n",
            "2023-04-17 08:31:40,177 INFO     _Config__logger                           <Logger code2vec (INFO)>\n",
            "2023-04-17 08:31:40,177 INFO     context_vector_size                       384\n",
            "2023-04-17 08:31:40,177 INFO     entire_model_load_path                    models/AndroidAutoandGenivi/saved_model_iter32.release__entire-model\n",
            "2023-04-17 08:31:40,177 INFO     entire_model_save_path                    None\n",
            "2023-04-17 08:31:40,177 INFO     is_loading                                True\n",
            "2023-04-17 08:31:40,177 INFO     is_saving                                 False\n",
            "2023-04-17 08:31:40,177 INFO     is_testing                                False\n",
            "2023-04-17 08:31:40,177 INFO     is_training                               False\n",
            "2023-04-17 08:31:40,177 INFO     model_load_dir                            models/AndroidAutoandGenivi\n",
            "2023-04-17 08:31:40,177 INFO     model_weights_load_path                   models/AndroidAutoandGenivi/saved_model_iter32.release__only-weights\n",
            "2023-04-17 08:31:40,177 INFO     model_weights_save_path                   None\n",
            "2023-04-17 08:31:40,177 INFO     test_steps                                0\n",
            "2023-04-17 08:31:40,177 INFO     train_data_path                           None\n",
            "2023-04-17 08:31:40,177 INFO     train_steps_per_epoch                     0\n",
            "2023-04-17 08:31:40,177 INFO     word_freq_dict_path                       None\n",
            "2023-04-17 08:31:40,177 INFO     ---------------------------------------------------------------------\n",
            "2023-04-17 08:31:40,470 INFO     Loading model vocabularies from: `models/AndroidAutoandGenivi/dictionaries.bin` ... \n",
            "2023-04-17 08:31:42,152 INFO     Done loading model vocabularies.\n",
            "2023-04-17 08:31:42,211 INFO     Done creating code2vec model\n",
            "2023-04-17 08:31:45.037020: I tensorflow/compiler/mlir/mlir_graph_optimization_pass.cc:353] MLIR V1 optimization pass is not enabled\n",
            "2023-04-17 08:31:49,349 INFO     Initalized variables\n",
            "2023-04-17 08:31:49,363 INFO     Loading model weights from: models/AndroidAutoandGenivi/saved_model_iter32.release\n",
            "2023-04-17 08:31:52,385 INFO     Done loading model weights\n",
            "Starting interactive prediction...\n",
            "Modify the file: \"Input.java\" and press any key when ready, or \"q\" / \"quit\" / \"exit\" to exit\n",
            "\n",
            "Exception in thread \"main\" com.github.javaparser.ParseProblemException: Lexical error at line 4, column 1.  Encountered: \"#\" (35), after : \"\"\n",
            "\n",
            "\tat com.github.javaparser.JavaParser.simplifiedParse(JavaParser.java:242)\n",
            "\tat com.github.javaparser.JavaParser.parse(JavaParser.java:210)\n",
            "\tat JavaExtractor.FeatureExtractor.parseFileWithRetries(FeatureExtractor.java:70)\n",
            "\tat JavaExtractor.FeatureExtractor.extractFeatures(FeatureExtractor.java:40)\n",
            "\tat JavaExtractor.ExtractFeaturesTask.extractSingleFile(ExtractFeaturesTask.java:64)\n",
            "\tat JavaExtractor.ExtractFeaturesTask.processFile(ExtractFeaturesTask.java:39)\n",
            "\tat JavaExtractor.App.main(App.java:33)\n",
            "\n",
            "Modify the file: \"Input.java\" and press any key when ready, or \"q\" / \"quit\" / \"exit\" to exit\n",
            "\n",
            "Exception in thread \"main\" com.github.javaparser.ParseProblemException: Lexical error at line 33, column 11.  Encountered: \"\\r\" (13), after : \"\\\"\"\n",
            "\n",
            "\tat com.github.javaparser.JavaParser.simplifiedParse(JavaParser.java:242)\n",
            "\tat com.github.javaparser.JavaParser.parse(JavaParser.java:210)\n",
            "\tat JavaExtractor.FeatureExtractor.parseFileWithRetries(FeatureExtractor.java:70)\n",
            "\tat JavaExtractor.FeatureExtractor.extractFeatures(FeatureExtractor.java:40)\n",
            "\tat JavaExtractor.ExtractFeaturesTask.extractSingleFile(ExtractFeaturesTask.java:64)\n",
            "\tat JavaExtractor.ExtractFeaturesTask.processFile(ExtractFeaturesTask.java:39)\n",
            "\tat JavaExtractor.App.main(App.java:33)\n",
            "\n",
            "Modify the file: \"Input.java\" and press any key when ready, or \"q\" / \"quit\" / \"exit\" to exit\n",
            "\n",
            "Original name:\tclone\n",
            "\t(0.511124) predicted: ['clone']\n",
            "\t(0.159473) predicted: ['get', 'value']\n",
            "\t(0.089736) predicted: ['create', 'wealthy', 'family']\n",
            "\t(0.059516) predicted: ['get', 'client']\n",
            "\t(0.046133) predicted: ['get', 'adapter']\n",
            "\t(0.031236) predicted: ['get', 'data']\n",
            "\t(0.027821) predicted: ['get', 'new']\n",
            "\t(0.026165) predicted: ['evaluate']\n",
            "\t(0.024795) predicted: ['get', 'application', 'content']\n",
            "\t(0.024001) predicted: ['get', 'sub', 'cause']\n",
            "Attention:\n",
            "0.830924\tcontext: object,(ClassOrInterfaceType0)^(MethodDeclaration)_(BlockStmt)_(ReturnStmt)_(NameExpr0),clone\n",
            "0.053509\tcontext: clone,(NameExpr2)^(MethodCallExpr1)^(AssignExpr:assign)^(ExpressionStmt)^(BlockStmt)^(TryStmt)^(BlockStmt)_(ReturnStmt)_(NameExpr0),clone\n",
            "0.042947\tcontext: object,(ClassOrInterfaceType0)^(MethodDeclaration)_(BlockStmt)_(TryStmt)_(BlockStmt)_(ExpressionStmt)_(AssignExpr:assign0)_(NameExpr0),clone\n",
            "0.029219\tcontext: object,(ClassOrInterfaceType0)^(MethodDeclaration)_(BlockStmt)_(TryStmt)_(BlockStmt)_(ExpressionStmt)_(AssignExpr:assign0)_(MethodCallExpr1)_(NameExpr2),clone\n",
            "0.019743\tcontext: clone,(NameExpr0)^(AssignExpr:assign)^(ExpressionStmt)^(BlockStmt)^(TryStmt)^(BlockStmt)_(ReturnStmt)_(NameExpr0),clone\n",
            "0.014806\tcontext: super,(SuperExpr0)^(MethodCallExpr1)^(AssignExpr:assign)^(ExpressionStmt)^(BlockStmt)^(TryStmt)^(BlockStmt)_(ReturnStmt)_(NameExpr0),clone\n",
            "0.004742\tcontext: super,(SuperExpr0)^(MethodCallExpr1)_(NameExpr2),clone\n",
            "0.002369\tcontext: METHOD_NAME,(NameExpr1)^(MethodDeclaration)_(BlockStmt)_(TryStmt)_(BlockStmt)_(ExpressionStmt)_(AssignExpr:assign0)_(MethodCallExpr1)_(NameExpr2),clone\n",
            "0.000506\tcontext: object,(ClassOrInterfaceType0)^(MethodDeclaration)_(BlockStmt)_(TryStmt)_(CatchClause)_(BlockStmt)_(ExpressionStmt)_(MethodCallExpr0)_(NameExpr0),e\n",
            "0.000303\tcontext: object,(ClassOrInterfaceType0)^(VariableDeclarationExpr)^(ExpressionStmt)^(BlockStmt)_(TryStmt)_(BlockStmt)_(ExpressionStmt)_(AssignExpr:assign0)_(NameExpr0),clone\n",
            "Code vector:\n",
            "-0.055493876 0.70399326 -0.42940035 0.46368173 -0.02092116 0.66715795 0.24105336 -0.112597056 0.14214039 -0.4827394 -0.9452171 -0.1587594 -0.4374289 -0.6815769 -0.9477302 -0.011613252 0.66576195 0.7833159 -0.4978643 -0.24843302 0.3558954 -0.9624868 -0.9447761 0.33734778 -0.014477741 -0.28711194 -0.10995002 0.9690252 0.21438856 0.8373522 -0.264062 -0.9398235 -0.4427573 0.46299252 0.1047423 0.8854749 -0.5348164 -0.81934625 0.41277364 0.7659632 -0.7854528 -0.74434704 0.014999959 -0.8967634 0.8400699 -0.74754393 -0.2415784 -0.51196635 0.86158633 0.77299434 -0.43512982 -0.9095954 0.98343337 -0.5846561 -0.21328968 -0.6467149 0.9517765 -0.15307017 0.3925455 0.8261148 -0.17787038 0.20562479 0.026985556 -0.7399653 -0.27944073 -0.91235745 0.42014536 0.1626443 -0.791194 0.5516004 0.98638576 -0.40971482 -0.08778132 -0.87047344 0.90978855 0.60324967 0.96455365 0.6519451 -0.8949124 -0.20247966 -0.99342245 -0.7962809 0.86043346 0.72864944 0.02571199 -0.77415353 0.9536249 0.25652865 0.46912238 0.30518377 -0.9389201 -0.6666866 0.01071417 0.8907488 0.36103734 -0.019724373 0.42254996 -0.014622487 -0.58876115 -0.163325 0.8856988 -0.66473866 -0.8905043 0.7429704 0.6623066 -0.6552983 0.6987942 -0.30331331 -0.6411659 0.658605 -0.99274474 -0.44500935 0.7796965 -0.790001 -0.84945095 0.95725167 -0.28518945 0.9089588 -0.84286946 0.50083786 -0.94465816 -0.84446687 0.9212321 0.7963263 0.9273566 0.68286 -0.6873982 0.9357016 0.053281877 -0.46323225 0.88404906 -0.972032 -0.4738327 0.8455487 0.8334865 -0.69652015 -0.15421014 0.61650646 0.7201281 0.7114902 0.05538002 0.49056813 0.7311465 -0.26825514 -0.93602526 0.1765607 -0.52070826 -0.92114073 0.64580905 0.24420798 -0.9518486 0.57958287 0.56022394 0.65045524 -0.45225105 -0.6884502 -0.36500168 0.6206085 0.8588801 0.7901525 -0.6823074 0.74567413 -0.96845347 -0.875526 0.8071426 -0.93164986 -0.86293566 -0.85998565 -0.98673135 -0.33536565 -0.90937316 0.68330747 0.31427467 -0.9928371 0.90721905 -0.059443094 0.5753433 0.12705259 -0.665754 -0.80894077 -0.050204877 0.20786753 0.89170617 -0.947588 -0.8116245 0.39806318 -0.6981618 0.34365 -0.3369605 0.76632935 0.22165634 -0.21487482 0.0044895243 0.16342622 0.95656365 -0.98269355 -0.8723774 -0.08892469 -0.9005061 0.20547135 -0.8429517 0.4750335 0.84498894 -0.58389276 0.7840958 -0.038107254 -0.71158427 -0.806069 0.67835516 -0.9071347 0.9030379 -0.7189587 0.9773259 0.73936236 -0.7846555 -0.95604146 -0.91639805 -0.93127793 -0.6399847 0.9512615 -0.80705464 0.837163 -0.866868 -0.43395883 -0.53647953 0.42701545 0.46932888 -0.29330832 0.37763518 -0.890712 0.3147269 0.9949299 -0.3675617 0.5272015 0.92995155 0.6139003 -0.67986035 0.784702 0.9372111 -0.9423367 0.42599383 0.52336335 0.8608142 0.77858275 -0.68712604 0.5892331 0.7791362 0.3316633 0.61993456 0.6787746 0.72636837 -0.82906425 0.6351403 0.2863722 -0.7960122 0.0024163965 -0.5537295 -0.4149859 0.7151729 0.8098011 -0.74115026 -0.9662454 0.628439 -0.8423563 0.8625998 0.026974002 0.7925534 -0.873957 0.092158824 -0.34809384 -0.45673865 0.26216543 0.9648587 -0.94444907 0.9598235 -0.7726324 -0.98142093 -0.6413482 -0.9220755 0.90669864 0.020988278 0.8819243 -0.95590484 -0.41700986 0.69323707 -0.007097088 -0.4680498 0.036840074 0.8166567 0.3761902 0.9543501 -0.72359025 0.7128629 -0.7464416 -0.9519213 -0.6756725 -0.71130234 -0.8949686 0.8067966 -0.9205841 0.7009867 -0.4262574 -0.8243807 0.48731172 0.75870824 0.30897027 0.4984192 -0.16917762 0.7391598 0.40004066 -0.7913281 -0.83841944 0.7240342 0.9507754 -0.39817542 0.96444863 -0.7668671 -0.7610531 -0.5383013 -0.91030586 -0.18083605 -0.92668474 -0.14149861 0.98021454 0.9818077 -0.73373914 0.943802 -0.8084568 0.39497048 -0.48158917 -0.046242356 -0.024408057 -0.9626312 -0.16434647 0.9427513 -0.6911373 0.086502515 -0.22087139 -0.58530766 -0.15602273 -0.7932868 0.75003785 -0.52125514 0.4896338 0.6759922 -0.94043434 -0.62193984 -0.537236 0.13586898 -0.05419556 -0.013931505 0.51267904 -0.090267695 -0.5934092 0.6484245 -0.8131101 -0.43162397 -0.5461354 -0.19473816 0.92934465 0.19592299 0.34948277 0.6622688 -0.8045251 -0.97182935 0.34524545 -0.8201716 0.84032696 0.23946983 0.99433815 0.88007534 -0.58250535 -0.93136966 -0.5025641 -0.5568531 0.026483005 -0.9414225 -0.8925168 0.30836138 0.46289593 -0.73511827 -0.88624704 -0.31446815 0.34503\n",
            "Original name:\tadd|color\n",
            "\t(0.136084) predicted: ['remove', 'areas', 'update', 'listener', 'reply']\n",
            "\t(0.133628) predicted: ['add', 'areas', 'update', 'listener', 'reply']\n",
            "\t(0.122677) predicted: ['add', 'icon', 'set', 'definitions', 'reply']\n",
            "\t(0.119826) predicted: ['set', 'applicability', 'reply']\n",
            "\t(0.109384) predicted: ['remove', 'feed', 'information', 'listener', 'reply']\n",
            "\t(0.094860) predicted: ['remove', 'update', 'listener', 'reply']\n",
            "\t(0.072741) predicted: ['test', 'ambient', 'air', 'temperature']\n",
            "\t(0.072716) predicted: ['set', 'language', 'reply']\n",
            "\t(0.072207) predicted: ['remove', 'traffic', 'incidents', 'status', 'listener', 'reply']\n",
            "\t(0.065877) predicted: ['add', 'feed', 'information', 'listener', 'reply']\n",
            "Attention:\n",
            "0.757271\tcontext: void,(VoidType1)^(MethodDeclaration)_(BlockStmt)_(ExpressionStmt)_(MethodCallExpr0)_(StringLiteralExpr2),bluecoloradded\n",
            "0.232115\tcontext: METHOD_NAME,(NameExpr2)^(MethodDeclaration)_(BlockStmt)_(ExpressionStmt)_(MethodCallExpr0)_(FieldAccessExpr0)_(NameExpr2),out\n",
            "0.004341\tcontext: void,(VoidType1)^(MethodDeclaration)_(BlockStmt)_(ExpressionStmt)_(MethodCallExpr0)_(FieldAccessExpr0)_(NameExpr0),system\n",
            "0.004062\tcontext: void,(VoidType1)^(MethodDeclaration)_(BlockStmt)_(ExpressionStmt)_(MethodCallExpr0)_(NameExpr3),println\n",
            "0.002108\tcontext: void,(VoidType1)^(MethodDeclaration)_(BlockStmt)_(ExpressionStmt)_(MethodCallExpr0)_(FieldAccessExpr0)_(NameExpr2),out\n",
            "0.000064\tcontext: METHOD_NAME,(NameExpr2)^(MethodDeclaration)_(BlockStmt)_(ExpressionStmt)_(MethodCallExpr0)_(FieldAccessExpr0)_(NameExpr0),system\n",
            "0.000015\tcontext: out,(NameExpr2)^(FieldAccessExpr0)^(MethodCallExpr)_(StringLiteralExpr2),bluecoloradded\n",
            "0.000010\tcontext: override,(NameExpr0)^(MarkerAnnotationExpr)^(MethodDeclaration)_(VoidType1),void\n",
            "0.000008\tcontext: override,(NameExpr0)^(MarkerAnnotationExpr)^(MethodDeclaration)_(NameExpr2),METHOD_NAME\n",
            "0.000003\tcontext: METHOD_NAME,(NameExpr2)^(MethodDeclaration)_(BlockStmt)_(ExpressionStmt)_(MethodCallExpr0)_(NameExpr3),println\n",
            "Code vector:\n",
            "-0.93695855 0.56118995 -0.53981483 -0.72882134 -0.12975465 -0.8066963 0.3770433 0.7298667 -0.7111366 -0.043703526 -0.77436316 -0.29978827 0.7541843 -0.81667256 -0.77294433 0.53353596 0.9635731 0.04254245 -0.7313521 0.2774255 -0.037117545 -0.5851021 -0.08209881 0.19309026 0.31494772 -0.24319015 -0.4148305 -0.2427065 -0.034828067 -0.5866756 -0.92392415 -0.55275726 -0.44028363 0.08120171 0.35815108 -0.52195233 -0.8036808 0.3190019 -0.5502716 -0.5163139 0.3816859 0.3389443 -0.053168464 -0.81143403 0.68418735 -0.44766286 0.016484277 -0.4665216 0.536462 0.3875447 -0.36746737 -0.095252685 -0.29422304 0.8028096 -0.20388661 -0.15294021 0.03644432 -0.30008516 0.95744675 0.18971431 -0.44135115 -0.20717472 -0.8317821 0.40556183 0.6668644 -0.70789903 0.0029400524 0.42512628 0.06650071 0.28754577 0.35824051 0.22742963 0.03660263 0.32599345 0.59013736 0.051294595 -0.22226797 0.18427543 -0.588387 -0.2572434 -0.6670458 0.95530087 0.3722776 0.3723333 0.63598394 -0.7916561 0.38877058 -0.9072149 -0.5588694 0.8548267 0.027003512 0.34721544 -0.5071592 0.20569183 0.3374791 -0.40317303 0.7162683 0.28928348 0.2527635 0.80053395 0.035118107 -0.0063675474 -0.66790205 0.71920407 0.90715706 -0.84482014 -0.5365867 -0.07080173 -0.22178617 0.4894783 0.617271 -0.9217822 0.40178663 -0.09034641 -0.2629726 0.7759585 0.74825317 0.35965973 0.2624071 -0.8139704 0.29877505 0.57050186 0.6824467 0.8908822 0.012031435 -0.27933115 -0.46949935 0.58344346 0.8865325 -0.89327866 0.29729608 -0.9682758 0.26360574 0.6515947 0.27343604 -0.732076 0.4435354 -0.98227614 0.34412366 0.53685534 -0.52282375 -0.5547244 -0.40294373 -0.5706991 -0.6912714 0.71213585 -0.6479127 -0.053982556 0.33237866 -0.5595515 -0.38898978 0.41004154 0.47294962 0.76503575 0.39460015 -0.1370372 -0.4431361 0.7181573 0.122062616 0.18952405 0.6766906 0.80869156 -0.30522174 0.37935695 -0.2541549 -0.058336068 -0.8526232 -0.82516104 0.49393284 -0.7088714 -0.39017534 -0.019097961 0.5601035 -0.65828186 -0.5148304 -0.5396017 -0.9490345 0.7179006 0.03459971 -0.8948557 0.28134474 0.8190206 0.19991438 0.4414844 0.84516776 -0.025991779 -0.09710973 0.26756012 0.9141817 -0.18307623 -0.40659022 0.8590749 0.56534487 -0.6509785 0.0006618574 -0.093223855 0.59867543 0.5362975 0.31528893 -0.16611864 0.051120706 -0.054207876 -0.7375149 -0.7321757 -0.45323557 0.71497935 -0.58850384 -0.5903183 -0.47441486 -0.19546025 -0.04583372 0.24418196 -0.6133921 0.5625903 0.4518035 -0.2005358 -0.81792825 0.7335578 -0.8148229 0.76622397 -0.7802583 -0.78941387 0.08482668 -0.20277487 -0.4397709 -0.3946844 0.6350288 0.6127062 0.68408364 -0.2506221 0.78087527 0.6039033 0.05021509 0.7511367 0.5457185 -0.29627806 0.40471613 -0.5072812 -0.2497601 0.15523396 -0.016278073 0.6339989 -0.082424924 0.6231702 -0.6886087 -0.42263484 -0.46609074 -0.8081686 -0.37980437 0.18054475 -0.58780986 0.26837817 0.84625727 -0.13108689 -0.76263845 -0.41271842 -0.7001043 0.44700933 -0.7519881 -0.1353941 -0.5909316 -0.6519815 -0.109975025 -0.05421845 0.5358969 0.47994858 0.25025845 -0.058228217 0.75571084 0.6477664 0.43564916 0.62561405 0.48297206 -0.48736802 0.38291574 -0.33589143 -0.50508904 -0.6575496 -0.57349205 0.87688017 -0.26576966 0.50551754 -0.8702238 0.01317114 0.38079402 0.6568023 0.1607208 0.23008831 0.876651 0.6079454 0.76098174 0.027361596 0.8882126 0.26985434 -0.21544553 0.13691525 -0.5032999 -0.83048546 -0.7698048 0.39013347 0.7068405 0.16104066 0.5125288 -0.9096769 0.4882463 0.42614815 -0.122178726 -0.7210329 -0.358014 -0.70034873 0.08427208 0.70300215 -0.60795206 0.0521099 -0.3008107 0.2782348 0.121274814 -0.24761459 -0.7646465 0.120914064 -0.43396565 -0.48357168 -0.9051912 0.8325313 0.5548296 -0.1500259 -0.47726297 -0.019473398 -0.8504093 -0.45894897 0.6702556 0.31221518 -0.113916025 0.5975843 -0.29456928 0.23835368 0.5965415 -0.47926497 0.19690125 0.14874463 -0.8281662 0.7739641 -0.22855648 0.30956525 -0.10805757 -0.41042942 -0.26161072 -0.5158145 0.57741094 -0.44820106 -0.5093662 -0.050415244 0.23380667 0.094359994 0.8028729 0.24052568 -0.33046523 0.2797751 -0.320511 0.7087536 0.6582754 0.7897728 0.23034 0.61416584 -0.46386328 0.93611705 -0.40795937 -0.26450393 -0.14066736 -0.046366155 0.6401551 -0.09255379 -0.27346796 0.11962318 -0.30874407 0.07083099 -0.45795342 0.69825196 0.33526367 -0.17717433 -0.08701471 -0.33803955 -0.15805782 0.8754493\n",
            "Original name:\tadd|color\n",
            "\t(0.136084) predicted: ['remove', 'areas', 'update', 'listener', 'reply']\n",
            "\t(0.133628) predicted: ['add', 'areas', 'update', 'listener', 'reply']\n",
            "\t(0.122677) predicted: ['add', 'icon', 'set', 'definitions', 'reply']\n",
            "\t(0.119826) predicted: ['set', 'applicability', 'reply']\n",
            "\t(0.109384) predicted: ['remove', 'feed', 'information', 'listener', 'reply']\n",
            "\t(0.094860) predicted: ['remove', 'update', 'listener', 'reply']\n",
            "\t(0.072741) predicted: ['test', 'ambient', 'air', 'temperature']\n",
            "\t(0.072716) predicted: ['set', 'language', 'reply']\n",
            "\t(0.072207) predicted: ['remove', 'traffic', 'incidents', 'status', 'listener', 'reply']\n",
            "\t(0.065877) predicted: ['add', 'feed', 'information', 'listener', 'reply']\n",
            "Attention:\n",
            "0.757271\tcontext: void,(VoidType1)^(MethodDeclaration)_(BlockStmt)_(ExpressionStmt)_(MethodCallExpr0)_(StringLiteralExpr2),blackcoloradded\n",
            "0.232115\tcontext: METHOD_NAME,(NameExpr2)^(MethodDeclaration)_(BlockStmt)_(ExpressionStmt)_(MethodCallExpr0)_(FieldAccessExpr0)_(NameExpr2),out\n",
            "0.004341\tcontext: void,(VoidType1)^(MethodDeclaration)_(BlockStmt)_(ExpressionStmt)_(MethodCallExpr0)_(FieldAccessExpr0)_(NameExpr0),system\n",
            "0.004062\tcontext: void,(VoidType1)^(MethodDeclaration)_(BlockStmt)_(ExpressionStmt)_(MethodCallExpr0)_(NameExpr3),println\n",
            "0.002108\tcontext: void,(VoidType1)^(MethodDeclaration)_(BlockStmt)_(ExpressionStmt)_(MethodCallExpr0)_(FieldAccessExpr0)_(NameExpr2),out\n",
            "0.000064\tcontext: METHOD_NAME,(NameExpr2)^(MethodDeclaration)_(BlockStmt)_(ExpressionStmt)_(MethodCallExpr0)_(FieldAccessExpr0)_(NameExpr0),system\n",
            "0.000015\tcontext: out,(NameExpr2)^(FieldAccessExpr0)^(MethodCallExpr)_(StringLiteralExpr2),blackcoloradded\n",
            "0.000010\tcontext: override,(NameExpr0)^(MarkerAnnotationExpr)^(MethodDeclaration)_(VoidType1),void\n",
            "0.000008\tcontext: override,(NameExpr0)^(MarkerAnnotationExpr)^(MethodDeclaration)_(NameExpr2),METHOD_NAME\n",
            "0.000003\tcontext: METHOD_NAME,(NameExpr2)^(MethodDeclaration)_(BlockStmt)_(ExpressionStmt)_(MethodCallExpr0)_(NameExpr3),println\n",
            "Code vector:\n",
            "-0.93695855 0.56118995 -0.53981483 -0.72882134 -0.12975465 -0.8066963 0.3770433 0.7298667 -0.7111366 -0.043703526 -0.77436316 -0.29978827 0.7541843 -0.81667256 -0.77294433 0.53353596 0.9635731 0.04254245 -0.7313521 0.2774255 -0.037117545 -0.5851021 -0.08209881 0.19309026 0.31494772 -0.24319015 -0.4148305 -0.2427065 -0.034828067 -0.5866756 -0.92392415 -0.55275726 -0.44028363 0.08120171 0.35815108 -0.52195233 -0.8036808 0.3190019 -0.5502716 -0.5163139 0.3816859 0.3389443 -0.053168464 -0.81143403 0.68418735 -0.44766286 0.016484277 -0.4665216 0.536462 0.3875447 -0.36746737 -0.095252685 -0.29422304 0.8028096 -0.20388661 -0.15294021 0.03644432 -0.30008516 0.95744675 0.18971431 -0.44135115 -0.20717472 -0.8317821 0.40556183 0.6668644 -0.70789903 0.0029400524 0.42512628 0.06650071 0.28754577 0.35824051 0.22742963 0.03660263 0.32599345 0.59013736 0.051294595 -0.22226797 0.18427543 -0.588387 -0.2572434 -0.6670458 0.95530087 0.3722776 0.3723333 0.63598394 -0.7916561 0.38877058 -0.9072149 -0.5588694 0.8548267 0.027003512 0.34721544 -0.5071592 0.20569183 0.3374791 -0.40317303 0.7162683 0.28928348 0.2527635 0.80053395 0.035118107 -0.0063675474 -0.66790205 0.71920407 0.90715706 -0.84482014 -0.5365867 -0.07080173 -0.22178617 0.4894783 0.617271 -0.9217822 0.40178663 -0.09034641 -0.2629726 0.7759585 0.74825317 0.35965973 0.2624071 -0.8139704 0.29877505 0.57050186 0.6824467 0.8908822 0.012031435 -0.27933115 -0.46949935 0.58344346 0.8865325 -0.89327866 0.29729608 -0.9682758 0.26360574 0.6515947 0.27343604 -0.732076 0.4435354 -0.98227614 0.34412366 0.53685534 -0.52282375 -0.5547244 -0.40294373 -0.5706991 -0.6912714 0.71213585 -0.6479127 -0.053982556 0.33237866 -0.5595515 -0.38898978 0.41004154 0.47294962 0.76503575 0.39460015 -0.1370372 -0.4431361 0.7181573 0.122062616 0.18952405 0.6766906 0.80869156 -0.30522174 0.37935695 -0.2541549 -0.058336068 -0.8526232 -0.82516104 0.49393284 -0.7088714 -0.39017534 -0.019097961 0.5601035 -0.65828186 -0.5148304 -0.5396017 -0.9490345 0.7179006 0.03459971 -0.8948557 0.28134474 0.8190206 0.19991438 0.4414844 0.84516776 -0.025991779 -0.09710973 0.26756012 0.9141817 -0.18307623 -0.40659022 0.8590749 0.56534487 -0.6509785 0.0006618574 -0.093223855 0.59867543 0.5362975 0.31528893 -0.16611864 0.051120706 -0.054207876 -0.7375149 -0.7321757 -0.45323557 0.71497935 -0.58850384 -0.5903183 -0.47441486 -0.19546025 -0.04583372 0.24418196 -0.6133921 0.5625903 0.4518035 -0.2005358 -0.81792825 0.7335578 -0.8148229 0.76622397 -0.7802583 -0.78941387 0.08482668 -0.20277487 -0.4397709 -0.3946844 0.6350288 0.6127062 0.68408364 -0.2506221 0.78087527 0.6039033 0.05021509 0.7511367 0.5457185 -0.29627806 0.40471613 -0.5072812 -0.2497601 0.15523396 -0.016278073 0.6339989 -0.082424924 0.6231702 -0.6886087 -0.42263484 -0.46609074 -0.8081686 -0.37980437 0.18054475 -0.58780986 0.26837817 0.84625727 -0.13108689 -0.76263845 -0.41271842 -0.7001043 0.44700933 -0.7519881 -0.1353941 -0.5909316 -0.6519815 -0.109975025 -0.05421845 0.5358969 0.47994858 0.25025845 -0.058228217 0.75571084 0.6477664 0.43564916 0.62561405 0.48297206 -0.48736802 0.38291574 -0.33589143 -0.50508904 -0.6575496 -0.57349205 0.87688017 -0.26576966 0.50551754 -0.8702238 0.01317114 0.38079402 0.6568023 0.1607208 0.23008831 0.876651 0.6079454 0.76098174 0.027361596 0.8882126 0.26985434 -0.21544553 0.13691525 -0.5032999 -0.83048546 -0.7698048 0.39013347 0.7068405 0.16104066 0.5125288 -0.9096769 0.4882463 0.42614815 -0.122178726 -0.7210329 -0.358014 -0.70034873 0.08427208 0.70300215 -0.60795206 0.0521099 -0.3008107 0.2782348 0.121274814 -0.24761459 -0.7646465 0.120914064 -0.43396565 -0.48357168 -0.9051912 0.8325313 0.5548296 -0.1500259 -0.47726297 -0.019473398 -0.8504093 -0.45894897 0.6702556 0.31221518 -0.113916025 0.5975843 -0.29456928 0.23835368 0.5965415 -0.47926497 0.19690125 0.14874463 -0.8281662 0.7739641 -0.22855648 0.30956525 -0.10805757 -0.41042942 -0.26161072 -0.5158145 0.57741094 -0.44820106 -0.5093662 -0.050415244 0.23380667 0.094359994 0.8028729 0.24052568 -0.33046523 0.2797751 -0.320511 0.7087536 0.6582754 0.7897728 0.23034 0.61416584 -0.46386328 0.93611705 -0.40795937 -0.26450393 -0.14066736 -0.046366155 0.6401551 -0.09255379 -0.27346796 0.11962318 -0.30874407 0.07083099 -0.45795342 0.69825196 0.33526367 -0.17717433 -0.08701471 -0.33803955 -0.15805782 0.8754493\n",
            "Original name:\tget|color\n",
            "\t(0.150255) predicted: ['execute', 'command']\n",
            "\t(0.144665) predicted: ['state', 'to', 'string']\n",
            "\t(0.141408) predicted: ['define', 'power', 'policy']\n",
            "\t(0.119018) predicted: ['introspect']\n",
            "\t(0.118201) predicted: ['print']\n",
            "\t(0.096335) predicted: ['add', 'metrics', 'config']\n",
            "\t(0.070704) predicted: ['perform', 'resource', 'overuse', 'kill']\n",
            "\t(0.069092) predicted: ['parse', 'class']\n",
            "\t(0.046347) predicted: ['update']\n",
            "\t(0.043976) predicted: ['query']\n",
            "Attention:\n",
            "0.995410\tcontext: string,(ClassOrInterfaceType1)^(Parameter)^(MethodDeclaration)_(BlockStmt)_(ReturnStmt)_(CastExpr)_(MethodCallExpr1)_(NameExpr2),clone\n",
            "0.002251\tcontext: string,(ClassOrInterfaceType1)^(Parameter)^(MethodDeclaration)_(BlockStmt)_(ReturnStmt)_(CastExpr)_(MethodCallExpr1)_(MethodCallExpr0)_(NameExpr0),colormap\n",
            "0.002251\tcontext: string,(ClassOrInterfaceType1)^(Parameter)^(MethodDeclaration)_(BlockStmt)_(ReturnStmt)_(CastExpr)_(MethodCallExpr1)_(MethodCallExpr0)_(NameExpr2),colorname\n",
            "0.000079\tcontext: colorname,(VariableDeclaratorId0)^(Parameter)^(MethodDeclaration)_(BlockStmt)_(ReturnStmt)_(CastExpr)_(MethodCallExpr1)_(NameExpr2),clone\n",
            "0.000006\tcontext: METHOD_NAME,(NameExpr1)^(MethodDeclaration)_(BlockStmt)_(ReturnStmt)_(CastExpr)_(MethodCallExpr1)_(NameExpr2),clone\n",
            "0.000001\tcontext: colormap,(NameExpr0)^(MethodCallExpr0)^(MethodCallExpr)_(NameExpr2),clone\n",
            "0.000001\tcontext: color,(ClassOrInterfaceType0)^(CastExpr)_(MethodCallExpr1)_(NameExpr2),clone\n",
            "0.000001\tcontext: color,(ClassOrInterfaceType0)^(CastExpr)_(MethodCallExpr1)_(MethodCallExpr0)_(NameExpr0),colormap\n",
            "0.000000\tcontext: string,(ClassOrInterfaceType1)^(Parameter)^(MethodDeclaration)_(BlockStmt)_(ReturnStmt)_(CastExpr)_(ClassOrInterfaceType0),color\n",
            "0.000000\tcontext: colorname,(VariableDeclaratorId0)^(Parameter)^(MethodDeclaration)_(BlockStmt)_(ReturnStmt)_(CastExpr)_(MethodCallExpr1)_(MethodCallExpr0)_(NameExpr0),colormap\n",
            "Code vector:\n",
            "-0.47227758 0.7284841 -0.79290456 0.8793476 -0.9740563 0.8746789 -0.9130678 0.6963637 0.2846541 -0.73663384 0.038183387 0.9701683 -0.88248926 -0.3703705 -0.6728286 -0.46328506 -0.9840507 -0.36778903 0.60712254 -0.6728533 -0.7320218 -0.8351816 -0.27070126 -0.3747131 -0.6764088 -0.46411574 0.40681466 0.812257 0.19072512 0.9447987 0.3528076 -0.87664217 0.96884227 0.8648988 -0.93915385 0.56995976 0.9743942 -0.3006543 0.36561775 0.8712876 -0.7277109 0.36755094 0.9544209 0.8498144 -0.90790796 0.46095723 0.52771 -0.7241797 -0.03771343 0.20540708 0.7573349 -0.6459713 0.9104725 -0.9631068 -0.7130053 -0.8519316 0.32118982 0.7938941 -0.95928806 -0.007584188 0.9355403 0.3471806 0.85778743 0.31680915 -0.15985376 -0.96013457 -0.2954002 0.46415997 -0.25638986 0.8241278 -0.5395792 0.3082045 0.099410996 -0.44944072 0.23325889 0.41192308 0.96371883 0.8139342 -0.88720804 -0.9253802 -0.9681579 -0.83566153 -0.012671228 -0.08662849 -0.74574816 -0.741568 0.85886467 0.6312911 -0.86488485 0.51407105 -0.18819141 -0.14805426 0.08579832 0.7970968 -0.9689432 -0.8177392 0.12304029 -0.4609423 -0.5909228 0.34141797 0.612574 -0.09470513 -0.6085114 0.4114983 -0.96570855 0.5853842 0.7583152 -0.53644496 -0.3514053 -0.89172596 -0.7932358 0.058223482 0.6993457 0.46659645 -0.5275302 -0.68143755 -0.17818584 0.7566029 -0.7017722 -0.03257556 -0.19826898 -0.41282347 0.82724583 0.54162824 0.21017845 0.013974653 -0.35212442 0.9847699 -0.6128329 0.18655285 0.4413181 0.88022155 -0.8871342 0.43478417 -0.12073238 -0.7703425 -0.10632932 0.22110045 0.85985136 0.9334204 -0.5032457 0.60721 -0.87530684 -0.1985221 -0.98616374 -0.6886644 0.97731674 -0.5770537 -0.92149866 0.7467545 -0.9634505 0.88753855 0.99738276 0.44561666 -0.982056 -0.47088477 -0.65908897 0.4595809 0.9429255 -0.87842864 -0.68078154 0.22167897 -0.783095 -0.45187914 -0.5637329 -0.4075471 -0.7248592 0.6625182 -0.99445635 0.11765708 -0.5903423 -0.02932524 -0.29484087 -0.9638495 0.834028 0.5680635 0.9989185 -0.5490205 0.58031887 -0.3248633 0.19836074 -0.80980045 0.035051905 -0.88545936 -0.5983023 -0.13447425 -0.5297196 0.05796226 -0.946268 0.7153525 -0.3162603 -0.93806773 -0.41357434 0.7865025 0.7903581 -0.89065737 -0.9695424 -0.24470271 0.65851086 -0.932947 -0.88879997 -0.0011150651 0.5827297 0.17997721 0.9105727 -0.2028141 -0.68563694 -0.0937645 0.3379843 -0.99066573 0.6467722 -0.95459217 0.50185263 0.33517006 -0.8537452 -0.98149586 0.2954141 -0.77514 0.94712085 0.18997577 -0.7379926 0.74518585 -0.16865899 -0.86645937 -0.18999706 0.19669233 -0.79461956 0.71528864 0.38687575 -0.63380355 -0.17179768 0.87617993 0.016028542 -0.1740065 0.7302904 0.18047157 -0.43982705 -0.40263322 0.50526214 -0.52349335 -0.013413536 0.6328995 0.48713985 -0.15707356 0.29808417 0.42117953 0.19871885 -0.53382945 0.7557263 0.8380455 0.10292119 -0.54090154 0.18575679 0.64271027 -0.44792584 -0.71042615 0.668932 -0.20186602 0.9344577 0.82092714 -0.81844956 -0.03775955 0.59701943 -0.4595425 -0.46904537 0.5446187 -0.39620036 0.010229569 0.88851607 -0.4130591 -0.52434325 0.70834553 0.9537915 -0.9438448 0.95605755 -0.15008058 -0.829043 0.801875 0.53336376 -0.6955037 -0.6695625 -0.31333822 -0.57692766 -0.88284856 -0.5663104 0.44601747 0.29081523 0.72355896 0.5445025 0.917819 0.50947315 -0.9598851 -0.3215385 -0.07557448 -0.8727279 -0.56945056 0.3824579 0.28288698 0.9502471 -0.94563574 0.046576865 -0.03299228 -0.31047893 0.9761359 -0.42706907 -0.64043385 0.9445225 0.673293 0.093507074 0.20975912 -0.57463324 -0.23568892 0.9776491 -0.86484456 -0.87125474 0.35047215 -0.51980597 -0.94866264 -0.56267524 -0.5940184 -0.09261514 0.62215114 -0.095716424 0.85462844 0.95765066 -0.32662514 -0.83294016 -0.5602827 0.62974 0.80503935 -0.9552397 -0.7378256 -0.9526182 0.11099719 -0.89751416 -0.8970904 0.06796212 0.6728745 -0.9514938 -0.63283294 -0.47457847 -0.698127 -0.4224724 0.9741994 0.1103221 0.59307545 -0.18828149 0.14438106 -0.6898523 -0.6827566 -0.38698477 0.8614735 -0.45543116 0.6045021 0.3959178 -0.81653225 -0.35991365 -0.78367966 0.22592558 0.55686176 -0.37258524 -0.21134311 0.90374535 -0.715987 -0.5844543 -0.14637695 0.6528689 -0.2470556 0.8858736 0.9984093 0.025634613 0.32947326 0.8412459 -0.2973226 0.37445515 -0.6682533 -0.970299 -0.76229525 -0.12550874 0.00020274485 -0.23605861 -0.998326 -0.062472604 -0.79974383\n",
            "Original name:\tmain\n",
            "\t(0.766581) predicted: ['show', 'usage', 'info', 'dialog', 'and', 'exit']\n",
            "\t(0.031693) predicted: ['show', 'bug', 'report', 'finished', 'notification']\n",
            "\t(0.028813) predicted: ['get', 'return', 'type']\n",
            "\t(0.027428) predicted: ['get', 'applicability', 'texts']\n",
            "\t(0.026172) predicted: ['get', 'cause', 'texts']\n",
            "\t(0.025987) predicted: ['cache', 'package', 'component', 'type']\n",
            "\t(0.025941) predicted: ['is', 'requested', 'language', 'country']\n",
            "\t(0.023063) predicted: ['delete', 'user', 'package']\n",
            "\t(0.022310) predicted: ['get', 'package', 'uid', 'as', 'user']\n",
            "\t(0.022013) predicted: ['inject', 'application', 'infos']\n",
            "Attention:\n",
            "0.421876\tcontext: string,(ClassOrInterfaceType1)^(Parameter)^(MethodDeclaration)_(BlockStmt)_(ExpressionStmt)_(MethodCallExpr0)_(MethodCallExpr0)_(StringLiteralExpr2),black\n",
            "0.078104\tcontext: string,(ClassOrInterfaceType1)^(Parameter)^(MethodDeclaration)_(BlockStmt)_(ExpressionStmt)_(MethodCallExpr0)_(MethodCallExpr0)_(StringLiteralExpr2),blue\n",
            "0.000005\tcontext: string,(ClassOrInterfaceType1)^(Parameter)^(MethodDeclaration)_(BlockStmt)_(ExpressionStmt)_(MethodCallExpr0)_(MethodCallExpr0)_(NameExpr0),colorstore\n",
            "0.000004\tcontext: string,(ClassOrInterfaceType1)^(Parameter)^(MethodDeclaration)_(BlockStmt)_(ExpressionStmt)_(MethodCallExpr0)_(NameExpr2),addcolor\n",
            "0.000000\tcontext: string,(ClassOrInterfaceType1)^(Parameter)^(MethodDeclaration)_(BlockStmt)_(ExpressionStmt)_(MethodCallExpr0)_(MethodCallExpr0)_(NameExpr3),getcolor\n",
            "0.000000\tcontext: colorstore,(NameExpr0)^(MethodCallExpr0)^(MethodCallExpr)^(ExpressionStmt)^(BlockStmt)_(ExpressionStmt)_(MethodCallExpr0)_(MethodCallExpr0)_(NameExpr0),colorstore\n",
            "0.000000\tcontext: string,(ClassOrInterfaceType1)^(Parameter)_(ArrayBracketPair2),[]\n",
            "0.000000\tcontext: args,(VariableDeclaratorId0)^(Parameter)^(MethodDeclaration)_(BlockStmt)_(ExpressionStmt)_(MethodCallExpr0)_(NameExpr2),addcolor\n",
            "0.000000\tcontext: black,(StringLiteralExpr2)^(MethodCallExpr0)^(MethodCallExpr)^(ExpressionStmt)^(BlockStmt)_(ExpressionStmt)_(MethodCallExpr0)_(MethodCallExpr0)_(NameExpr0),colorstore\n",
            "0.000000\tcontext: black,(StringLiteralExpr2)^(MethodCallExpr0)^(MethodCallExpr)^(ExpressionStmt)^(BlockStmt)_(ExpressionStmt)_(MethodCallExpr0)_(NameExpr2),addcolor\n",
            "Code vector:\n",
            "-0.20134978 -0.085397825 0.5855325 -0.38949075 -0.3433196 -0.58488894 -0.94798344 0.5465131 0.7818598 -0.1599878 -0.5924602 0.9387683 0.15115461 -0.73958945 -0.6401524 -0.65042144 0.4981314 -0.054829635 -0.92570704 0.82274806 -0.9113827 -0.47009376 -0.05845679 0.14099373 0.5592456 -0.43725127 0.28064263 -0.26496804 -0.15080497 0.5392242 0.4642913 0.30047008 0.8737747 -0.5052188 -0.9664662 -0.7850469 -0.20719875 -0.6422368 0.1119317 0.93233895 -0.39090326 -0.5691129 0.9309812 0.36993518 -0.7336596 -0.41949373 -0.020891069 -0.70168597 0.08253229 -0.29821798 0.9847072 0.58519626 -0.35049826 -0.9376925 0.85025924 0.6860311 0.37455565 0.8483917 -0.8391362 0.012133786 -0.6309875 0.22751094 -0.011272083 0.095768414 -0.840337 -0.6927555 -0.8998442 -0.35739365 -0.49032414 0.73316026 -0.84882754 0.69951344 0.6686285 0.021888198 -0.65214074 -0.71712303 -0.46258244 -0.91224045 -0.91538197 -0.76555204 0.28970337 -0.57072806 0.780743 -0.9700134 0.73396164 0.7566338 -0.8573392 0.35806963 -0.51701623 -0.0056433976 0.39321727 -0.48932502 0.55728483 0.11500242 -0.8867711 -0.82773703 0.8417496 0.55359143 -0.014390219 0.8786009 -0.34785843 0.25218865 0.93970543 -0.1059737 -0.87493324 0.62796223 0.68612593 -0.37112305 -0.2551959 0.2825454 0.82736856 0.13577923 0.682642 0.8786419 0.8207418 -0.61439323 -0.88430727 -0.12994796 -0.938762 0.90204513 0.39133877 -0.53438514 -0.42193666 0.1571368 -0.98161316 0.9664375 0.6795859 0.9870491 -0.30499145 -0.035618495 0.79457694 0.951544 -0.9001701 -0.28271317 -0.69421315 -0.21206635 -0.112514764 0.28196442 0.5303879 0.88725275 0.6053705 0.9514431 -0.36295813 -0.49715695 -0.5427806 0.05647349 0.98105866 -0.85843474 -0.67884725 0.897195 -0.9649836 -0.19239382 0.92504025 0.462543 -0.90679073 -0.35730195 0.20331168 -0.19239265 0.16987887 0.50254977 0.6555325 -0.64455646 0.83924544 -0.8177236 0.40733856 -0.77576584 -0.07132893 0.12575412 -0.9079664 -0.272813 -0.5985974 -0.5787415 -0.7755942 -0.7987701 0.26444927 -0.38350436 0.891625 0.2522325 -0.23473437 0.78350174 -0.8460946 -0.9641909 0.25287387 -0.475661 -0.4240406 -0.078201376 0.95712346 -0.6616135 -0.751636 -0.6819638 -0.6665953 -0.6435986 -0.5618343 -0.651919 -0.5520478 0.31909636 -0.98409253 0.25437152 0.21312438 -0.62217194 -0.9703543 0.52439094 -0.40764093 -0.2392113 -0.3415599 0.79106134 0.3071627 0.7173117 0.63629013 -0.4518856 0.7524302 -0.6831945 -0.1999219 0.05961229 -0.9657747 -0.98060715 0.26243487 0.5034901 0.67343915 -0.2858904 -0.7118216 0.94783133 -0.46313053 -0.7842707 -0.7448677 0.53808844 0.52544427 0.9244991 0.34134442 0.46169326 -0.7771374 0.087364905 0.6984958 -0.33291683 -0.15147918 0.74728084 0.44385117 0.63091874 0.23243986 -0.24345434 0.6643074 -0.28832018 -0.41883463 0.59781086 0.0069837854 0.51640725 0.63266295 0.062089317 -0.5823759 0.4968725 -0.35508132 0.00787211 -0.29549044 0.12405167 -0.33667922 0.80993843 0.032966875 0.4746937 0.78107184 -0.5294731 -0.0110306 0.754555 0.36488098 -0.44573835 0.26093528 -0.5826807 0.6648857 -0.6020502 -0.25900063 -0.25765917 -0.19692534 0.92269886 -0.79960644 -0.37047017 0.796837 0.8349615 0.80301625 0.60086346 -0.63993514 -0.47265163 -0.8867177 0.0061934954 0.03200824 -0.95718026 0.119613975 -0.2865556 0.5264466 0.18110253 0.5219469 0.71009386 0.51014745 -0.060414594 0.7168433 0.53759044 -0.26987028 -0.33600837 -0.8101737 -0.7189097 0.53016233 -0.9561266 0.8466602 -0.9396959 -0.22430146 -0.46766534 -0.014905758 -0.35793048 -0.7672974 -0.0053249374 0.33410498 -0.14586553 0.4536116 0.4590287 0.84360206 -0.98828185 -0.7905752 -0.5230921 0.47825614 -0.9441118 0.33236498 -0.18416329 0.6633525 -0.009456601 -0.31767866 -0.006705173 0.78478456 -0.13492957 -0.7530605 -0.17182271 0.15349193 -0.24948691 -0.7626969 -0.648502 -0.5359155 -0.32873783 -0.9546691 -0.9215104 0.10312557 -0.11529832 -0.7345163 -0.03197349 0.8450466 0.25321555 -0.28153983 0.9358567 -0.38196826 -0.16808888 0.09391133 0.68999565 -0.5733065 -0.5666095 0.033769596 -0.66306823 -0.6906875 0.96698296 -0.6244376 0.35693172 -0.23021594 0.31152576 0.65014756 0.4070902 0.30795872 -0.5244085 0.98774683 -0.23177847 -0.3448171 -0.1398396 0.84993994 -0.5491238 0.998465 0.9641801 -0.76038814 -0.59266424 0.036485948 -0.49802595 -0.28668573 0.10109794 0.17703341 0.039438415 -0.061341736 -0.52922475 -0.77392924 -0.9987946 0.30438742 -0.67006165\n",
            "Modify the file: \"Input.java\" and press any key when ready, or \"q\" / \"quit\" / \"exit\" to exit\n",
            "q\n",
            "Exiting...\n"
          ]
        }
      ]
    },
    {
      "cell_type": "code",
      "source": [
        "cd ..\n"
      ],
      "metadata": {
        "colab": {
          "base_uri": "https://localhost:8080/"
        },
        "id": "YNdkPaoOgeFb",
        "outputId": "ad96d20b-b401-4c1f-d02a-224d4db3ac55"
      },
      "execution_count": null,
      "outputs": [
        {
          "output_type": "stream",
          "name": "stdout",
          "text": [
            "/content/drive/MyDrive\n"
          ]
        }
      ]
    },
    {
      "cell_type": "code",
      "source": [
        "cd"
      ],
      "metadata": {
        "colab": {
          "base_uri": "https://localhost:8080/"
        },
        "id": "6oaEZxvSHlPP",
        "outputId": "ed777da6-9553-4a7c-bfb4-595dbaab1efd"
      },
      "execution_count": null,
      "outputs": [
        {
          "output_type": "stream",
          "name": "stdout",
          "text": [
            "/root\n"
          ]
        }
      ]
    },
    {
      "cell_type": "code",
      "source": [
        "cd /content/drive/MyDrive/Code2vecJava/code2vec"
      ],
      "metadata": {
        "colab": {
          "base_uri": "https://localhost:8080/"
        },
        "id": "UVR0XH5jHrUI",
        "outputId": "157698cf-fa52-4edc-af4d-6bb572ec531c"
      },
      "execution_count": null,
      "outputs": [
        {
          "output_type": "stream",
          "name": "stdout",
          "text": [
            "/content/drive/MyDrive/Code2vecJava/code2vec\n"
          ]
        }
      ]
    },
    {
      "cell_type": "code",
      "source": [
        "cd drive/MyDrive/Code2vecJava/code2vec"
      ],
      "metadata": {
        "colab": {
          "base_uri": "https://localhost:8080/"
        },
        "id": "nEO4TmmrgiEM",
        "outputId": "8bedcd2e-8edd-472f-84c4-57152b9f67e8"
      },
      "execution_count": null,
      "outputs": [
        {
          "output_type": "stream",
          "name": "stdout",
          "text": [
            "/content/drive/MyDrive/Code2vecJava/code2vec\n"
          ]
        }
      ]
    },
    {
      "cell_type": "markdown",
      "source": [
        "All the embeddings have been stored into a csv fil named 'Codevectors4.csv'"
      ],
      "metadata": {
        "id": "FQFADN3UXDUO"
      }
    },
    {
      "cell_type": "code",
      "source": [
        "import pandas as pd\n",
        "\n",
        "df = pd.read_csv('Codevectors4.csv')\n",
        "df"
      ],
      "metadata": {
        "colab": {
          "base_uri": "https://localhost:8080/",
          "height": 989
        },
        "id": "xG1iSjRlkcHm",
        "outputId": "578ac868-3188-4d92-c903-264ff4d0c12a"
      },
      "execution_count": null,
      "outputs": [
        {
          "output_type": "execute_result",
          "data": {
            "text/plain": [
              "    Singleton     Programs         1         2         3         4         5  \\\n",
              "0           1   Singleton6 -0.050709  0.050879  0.291085 -0.159630 -0.153596   \n",
              "1           1   Singleton7 -0.653539 -0.381079  0.389121 -0.814792  0.634771   \n",
              "2           1   Singleton8 -0.651373 -0.379931  0.389796 -0.812790  0.634708   \n",
              "3           1   Singleton9 -0.651373 -0.379931  0.389796 -0.812790  0.634708   \n",
              "4           0   Prototype1 -0.252053  0.327772  0.822327  0.821852  0.736177   \n",
              "5           0   Prototype2 -0.201350 -0.085398  0.585533 -0.389491 -0.343320   \n",
              "6           0   Prototype3 -0.251750  0.327776  0.821689  0.821897  0.734797   \n",
              "7           1  Singleton10 -0.653539 -0.381079  0.389121 -0.814792  0.634771   \n",
              "8           0   Prototype4 -0.398226  0.379015  0.159361  0.686407 -0.538837   \n",
              "9           0   Prototype5 -0.252053  0.327772  0.822327  0.821852  0.736177   \n",
              "10          0   Prototype6  0.153923 -0.744620  0.581552 -0.163897  0.490704   \n",
              "11          0   Prototype7 -0.956246  0.332527 -0.938604 -0.987814  0.860042   \n",
              "12          0   Prototype8 -0.649727  0.914674 -0.950078  0.992561 -0.972617   \n",
              "13          0   Prototype9 -0.566049 -0.760796 -0.037693 -0.988999  0.560423   \n",
              "14          0  Prototype10  0.625474 -0.252770 -0.147482  0.630100  0.284709   \n",
              "15          1   Singleton1 -0.319941  0.281228 -0.044690  0.685934 -0.528511   \n",
              "16          1   Singleton2 -0.706132 -0.590105  0.944595 -0.399991  0.253033   \n",
              "17          1   Singleton3 -0.955321  0.333174 -0.936010 -0.987373  0.859827   \n",
              "18          1   Singleton4 -0.651373 -0.379931  0.389796 -0.812790  0.634708   \n",
              "19          1   Singleton5  0.762851  0.827451 -0.928271  0.179665  0.042566   \n",
              "20          2     Builder1 -0.357403 -0.803106 -0.061838 -0.490964  0.211970   \n",
              "21          2     Builder2 -0.357403 -0.803106 -0.061838 -0.490964  0.211970   \n",
              "22          2     Builder3 -0.247349 -0.768843  0.829535 -0.879139 -0.155249   \n",
              "23          2     Builder4 -0.367197 -0.087052 -0.985007  0.354694  0.018197   \n",
              "24          2     Builder5 -0.357403 -0.803106 -0.061838 -0.490964  0.211970   \n",
              "25          2     Builder6 -0.357403 -0.803106 -0.061838 -0.490964  0.211970   \n",
              "26          2     Builder7 -0.919672  0.943099 -0.949504  0.935381 -0.986392   \n",
              "\n",
              "           6         7         8  ...       375       376       377       378  \\\n",
              "0   0.359917 -0.327378 -0.879505  ... -0.083432 -0.679331  0.018438 -0.866616   \n",
              "1   0.159735 -0.903464 -0.907102  ... -0.137643 -0.578046 -0.031149 -0.986119   \n",
              "2   0.159942 -0.902610 -0.906585  ... -0.136949 -0.577184 -0.031347 -0.985985   \n",
              "3   0.159942 -0.902610 -0.906585  ... -0.136949 -0.577184 -0.031347 -0.985985   \n",
              "4   0.430117 -0.486058  0.958911  ...  0.597000  0.747900 -0.513605 -0.286984   \n",
              "5  -0.584889 -0.947983  0.546513  ... -0.286686  0.101098  0.177033  0.039438   \n",
              "6   0.430493 -0.486412  0.958546  ...  0.596911  0.746557 -0.513767 -0.287459   \n",
              "7   0.159735 -0.903464 -0.907102  ... -0.137643 -0.578046 -0.031149 -0.986119   \n",
              "8   0.671899 -0.671421  0.562165  ...  0.342067 -0.431523 -0.617743 -0.510123   \n",
              "9   0.430117 -0.486058  0.958911  ...  0.597000  0.747900 -0.513605 -0.286984   \n",
              "10  0.474336  0.529237 -0.334212  ...  0.590382 -0.342684  0.199187 -0.695751   \n",
              "11 -0.911554  0.333011  0.930675  ...  0.219802  0.448866  0.660258  0.786449   \n",
              "12 -0.854097 -0.867929  0.967338  ...  0.787517 -0.978054 -0.968140  0.120219   \n",
              "13 -0.003142 -0.961752 -0.908764  ... -0.614049 -0.799267 -0.074474 -0.970084   \n",
              "14  0.265555 -0.788872 -0.049969  ... -0.230378  0.285560 -0.392617  0.552917   \n",
              "15  0.723372 -0.861314  0.240098  ...  0.632662 -0.613115 -0.310610 -0.351623   \n",
              "16 -0.108811 -0.959691 -0.537423  ... -0.128099  0.723234 -0.398153 -0.892138   \n",
              "17 -0.910322  0.333821  0.928628  ...  0.220022  0.449938  0.659717  0.784587   \n",
              "18  0.159942 -0.902610 -0.906585  ... -0.136949 -0.577184 -0.031347 -0.985985   \n",
              "19  0.297119 -0.208889 -0.755366  ...  0.306808 -0.088061  0.365087 -0.673839   \n",
              "20 -0.400165 -0.800115 -0.826143  ... -0.361461 -0.057401  0.491733 -0.546297   \n",
              "21 -0.400165 -0.800115 -0.826143  ... -0.361461 -0.057401  0.491733 -0.546297   \n",
              "22 -0.127082  0.437997 -0.313149  ... -0.795951  0.215179  0.231953 -0.574112   \n",
              "23  0.954974 -0.950941  0.952997  ...  0.475692 -0.991690 -0.867774  0.435887   \n",
              "24 -0.400165 -0.800115 -0.826143  ... -0.361461 -0.057401  0.491733 -0.546297   \n",
              "25 -0.400165 -0.800115 -0.826143  ... -0.361461 -0.057401  0.491733 -0.546297   \n",
              "26 -0.872009 -0.991701  0.981991  ...  0.748481 -0.953955 -0.978047 -0.565366   \n",
              "\n",
              "         379       380       381       382       383       384  \n",
              "0   0.044899  0.423789 -0.243738  0.099717  0.705174 -0.123312  \n",
              "1   0.331775  0.644725 -0.913389  0.149793  0.853599 -0.426557  \n",
              "2   0.331528  0.644108 -0.912466  0.151326  0.852380 -0.427615  \n",
              "3   0.331528  0.644108 -0.912466  0.151326  0.852380 -0.427615  \n",
              "4  -0.639227 -0.840368 -0.339603 -0.947841 -0.131283 -0.480295  \n",
              "5  -0.061342 -0.529225 -0.773929 -0.998795  0.304387 -0.670062  \n",
              "6  -0.638999 -0.839826 -0.339548 -0.947885 -0.131313 -0.480490  \n",
              "7   0.331775  0.644725 -0.913389  0.149793  0.853599 -0.426557  \n",
              "8  -0.077502 -0.444452 -0.169741 -0.790815 -0.356074 -0.497216  \n",
              "9  -0.639227 -0.840368 -0.339603 -0.947841 -0.131283 -0.480295  \n",
              "10 -0.731760 -0.141626 -0.103023  0.009404 -0.225880  0.133680  \n",
              "11  0.894673  0.967960 -0.483490 -0.193331 -0.879345  0.907726  \n",
              "12  0.941491 -0.355105 -0.858503 -0.988538 -0.899443 -0.602483  \n",
              "13  0.597304  0.860665 -0.903489 -0.562580 -0.197983 -0.558860  \n",
              "14 -0.656213  0.651859  0.638950 -0.883032 -0.955031 -0.979972  \n",
              "15 -0.133867  0.030802 -0.198604 -0.855769 -0.045055 -0.704205  \n",
              "16 -0.884893 -0.555576 -0.441521 -0.416622  0.639219 -0.995490  \n",
              "17  0.889740  0.966117 -0.480231 -0.192466 -0.876239  0.907594  \n",
              "18  0.331528  0.644108 -0.912466  0.151326  0.852380 -0.427615  \n",
              "19  0.326261  0.662694 -0.635498 -0.455372  0.050711 -0.484391  \n",
              "20  0.048640  0.355590 -0.559976 -0.535091  0.222065  0.645734  \n",
              "21  0.048640  0.355590 -0.559976 -0.535091  0.222065  0.645734  \n",
              "22 -0.939844 -0.621740 -0.697692 -0.939358  0.835598  0.890137  \n",
              "23  0.678527 -0.365653 -0.255835 -0.992506 -0.946215 -0.028751  \n",
              "24  0.048640  0.355590 -0.559976 -0.535091  0.222065  0.645734  \n",
              "25  0.048640  0.355590 -0.559976 -0.535091  0.222065  0.645734  \n",
              "26  0.958142 -0.266608 -0.923312 -0.973925 -0.940564 -0.967568  \n",
              "\n",
              "[27 rows x 386 columns]"
            ],
            "text/html": [
              "\n",
              "  <div id=\"df-59db3eb1-dfd3-4d64-bb5b-527a8528450e\">\n",
              "    <div class=\"colab-df-container\">\n",
              "      <div>\n",
              "<style scoped>\n",
              "    .dataframe tbody tr th:only-of-type {\n",
              "        vertical-align: middle;\n",
              "    }\n",
              "\n",
              "    .dataframe tbody tr th {\n",
              "        vertical-align: top;\n",
              "    }\n",
              "\n",
              "    .dataframe thead th {\n",
              "        text-align: right;\n",
              "    }\n",
              "</style>\n",
              "<table border=\"1\" class=\"dataframe\">\n",
              "  <thead>\n",
              "    <tr style=\"text-align: right;\">\n",
              "      <th></th>\n",
              "      <th>Singleton</th>\n",
              "      <th>Programs</th>\n",
              "      <th>1</th>\n",
              "      <th>2</th>\n",
              "      <th>3</th>\n",
              "      <th>4</th>\n",
              "      <th>5</th>\n",
              "      <th>6</th>\n",
              "      <th>7</th>\n",
              "      <th>8</th>\n",
              "      <th>...</th>\n",
              "      <th>375</th>\n",
              "      <th>376</th>\n",
              "      <th>377</th>\n",
              "      <th>378</th>\n",
              "      <th>379</th>\n",
              "      <th>380</th>\n",
              "      <th>381</th>\n",
              "      <th>382</th>\n",
              "      <th>383</th>\n",
              "      <th>384</th>\n",
              "    </tr>\n",
              "  </thead>\n",
              "  <tbody>\n",
              "    <tr>\n",
              "      <th>0</th>\n",
              "      <td>1</td>\n",
              "      <td>Singleton6</td>\n",
              "      <td>-0.050709</td>\n",
              "      <td>0.050879</td>\n",
              "      <td>0.291085</td>\n",
              "      <td>-0.159630</td>\n",
              "      <td>-0.153596</td>\n",
              "      <td>0.359917</td>\n",
              "      <td>-0.327378</td>\n",
              "      <td>-0.879505</td>\n",
              "      <td>...</td>\n",
              "      <td>-0.083432</td>\n",
              "      <td>-0.679331</td>\n",
              "      <td>0.018438</td>\n",
              "      <td>-0.866616</td>\n",
              "      <td>0.044899</td>\n",
              "      <td>0.423789</td>\n",
              "      <td>-0.243738</td>\n",
              "      <td>0.099717</td>\n",
              "      <td>0.705174</td>\n",
              "      <td>-0.123312</td>\n",
              "    </tr>\n",
              "    <tr>\n",
              "      <th>1</th>\n",
              "      <td>1</td>\n",
              "      <td>Singleton7</td>\n",
              "      <td>-0.653539</td>\n",
              "      <td>-0.381079</td>\n",
              "      <td>0.389121</td>\n",
              "      <td>-0.814792</td>\n",
              "      <td>0.634771</td>\n",
              "      <td>0.159735</td>\n",
              "      <td>-0.903464</td>\n",
              "      <td>-0.907102</td>\n",
              "      <td>...</td>\n",
              "      <td>-0.137643</td>\n",
              "      <td>-0.578046</td>\n",
              "      <td>-0.031149</td>\n",
              "      <td>-0.986119</td>\n",
              "      <td>0.331775</td>\n",
              "      <td>0.644725</td>\n",
              "      <td>-0.913389</td>\n",
              "      <td>0.149793</td>\n",
              "      <td>0.853599</td>\n",
              "      <td>-0.426557</td>\n",
              "    </tr>\n",
              "    <tr>\n",
              "      <th>2</th>\n",
              "      <td>1</td>\n",
              "      <td>Singleton8</td>\n",
              "      <td>-0.651373</td>\n",
              "      <td>-0.379931</td>\n",
              "      <td>0.389796</td>\n",
              "      <td>-0.812790</td>\n",
              "      <td>0.634708</td>\n",
              "      <td>0.159942</td>\n",
              "      <td>-0.902610</td>\n",
              "      <td>-0.906585</td>\n",
              "      <td>...</td>\n",
              "      <td>-0.136949</td>\n",
              "      <td>-0.577184</td>\n",
              "      <td>-0.031347</td>\n",
              "      <td>-0.985985</td>\n",
              "      <td>0.331528</td>\n",
              "      <td>0.644108</td>\n",
              "      <td>-0.912466</td>\n",
              "      <td>0.151326</td>\n",
              "      <td>0.852380</td>\n",
              "      <td>-0.427615</td>\n",
              "    </tr>\n",
              "    <tr>\n",
              "      <th>3</th>\n",
              "      <td>1</td>\n",
              "      <td>Singleton9</td>\n",
              "      <td>-0.651373</td>\n",
              "      <td>-0.379931</td>\n",
              "      <td>0.389796</td>\n",
              "      <td>-0.812790</td>\n",
              "      <td>0.634708</td>\n",
              "      <td>0.159942</td>\n",
              "      <td>-0.902610</td>\n",
              "      <td>-0.906585</td>\n",
              "      <td>...</td>\n",
              "      <td>-0.136949</td>\n",
              "      <td>-0.577184</td>\n",
              "      <td>-0.031347</td>\n",
              "      <td>-0.985985</td>\n",
              "      <td>0.331528</td>\n",
              "      <td>0.644108</td>\n",
              "      <td>-0.912466</td>\n",
              "      <td>0.151326</td>\n",
              "      <td>0.852380</td>\n",
              "      <td>-0.427615</td>\n",
              "    </tr>\n",
              "    <tr>\n",
              "      <th>4</th>\n",
              "      <td>0</td>\n",
              "      <td>Prototype1</td>\n",
              "      <td>-0.252053</td>\n",
              "      <td>0.327772</td>\n",
              "      <td>0.822327</td>\n",
              "      <td>0.821852</td>\n",
              "      <td>0.736177</td>\n",
              "      <td>0.430117</td>\n",
              "      <td>-0.486058</td>\n",
              "      <td>0.958911</td>\n",
              "      <td>...</td>\n",
              "      <td>0.597000</td>\n",
              "      <td>0.747900</td>\n",
              "      <td>-0.513605</td>\n",
              "      <td>-0.286984</td>\n",
              "      <td>-0.639227</td>\n",
              "      <td>-0.840368</td>\n",
              "      <td>-0.339603</td>\n",
              "      <td>-0.947841</td>\n",
              "      <td>-0.131283</td>\n",
              "      <td>-0.480295</td>\n",
              "    </tr>\n",
              "    <tr>\n",
              "      <th>5</th>\n",
              "      <td>0</td>\n",
              "      <td>Prototype2</td>\n",
              "      <td>-0.201350</td>\n",
              "      <td>-0.085398</td>\n",
              "      <td>0.585533</td>\n",
              "      <td>-0.389491</td>\n",
              "      <td>-0.343320</td>\n",
              "      <td>-0.584889</td>\n",
              "      <td>-0.947983</td>\n",
              "      <td>0.546513</td>\n",
              "      <td>...</td>\n",
              "      <td>-0.286686</td>\n",
              "      <td>0.101098</td>\n",
              "      <td>0.177033</td>\n",
              "      <td>0.039438</td>\n",
              "      <td>-0.061342</td>\n",
              "      <td>-0.529225</td>\n",
              "      <td>-0.773929</td>\n",
              "      <td>-0.998795</td>\n",
              "      <td>0.304387</td>\n",
              "      <td>-0.670062</td>\n",
              "    </tr>\n",
              "    <tr>\n",
              "      <th>6</th>\n",
              "      <td>0</td>\n",
              "      <td>Prototype3</td>\n",
              "      <td>-0.251750</td>\n",
              "      <td>0.327776</td>\n",
              "      <td>0.821689</td>\n",
              "      <td>0.821897</td>\n",
              "      <td>0.734797</td>\n",
              "      <td>0.430493</td>\n",
              "      <td>-0.486412</td>\n",
              "      <td>0.958546</td>\n",
              "      <td>...</td>\n",
              "      <td>0.596911</td>\n",
              "      <td>0.746557</td>\n",
              "      <td>-0.513767</td>\n",
              "      <td>-0.287459</td>\n",
              "      <td>-0.638999</td>\n",
              "      <td>-0.839826</td>\n",
              "      <td>-0.339548</td>\n",
              "      <td>-0.947885</td>\n",
              "      <td>-0.131313</td>\n",
              "      <td>-0.480490</td>\n",
              "    </tr>\n",
              "    <tr>\n",
              "      <th>7</th>\n",
              "      <td>1</td>\n",
              "      <td>Singleton10</td>\n",
              "      <td>-0.653539</td>\n",
              "      <td>-0.381079</td>\n",
              "      <td>0.389121</td>\n",
              "      <td>-0.814792</td>\n",
              "      <td>0.634771</td>\n",
              "      <td>0.159735</td>\n",
              "      <td>-0.903464</td>\n",
              "      <td>-0.907102</td>\n",
              "      <td>...</td>\n",
              "      <td>-0.137643</td>\n",
              "      <td>-0.578046</td>\n",
              "      <td>-0.031149</td>\n",
              "      <td>-0.986119</td>\n",
              "      <td>0.331775</td>\n",
              "      <td>0.644725</td>\n",
              "      <td>-0.913389</td>\n",
              "      <td>0.149793</td>\n",
              "      <td>0.853599</td>\n",
              "      <td>-0.426557</td>\n",
              "    </tr>\n",
              "    <tr>\n",
              "      <th>8</th>\n",
              "      <td>0</td>\n",
              "      <td>Prototype4</td>\n",
              "      <td>-0.398226</td>\n",
              "      <td>0.379015</td>\n",
              "      <td>0.159361</td>\n",
              "      <td>0.686407</td>\n",
              "      <td>-0.538837</td>\n",
              "      <td>0.671899</td>\n",
              "      <td>-0.671421</td>\n",
              "      <td>0.562165</td>\n",
              "      <td>...</td>\n",
              "      <td>0.342067</td>\n",
              "      <td>-0.431523</td>\n",
              "      <td>-0.617743</td>\n",
              "      <td>-0.510123</td>\n",
              "      <td>-0.077502</td>\n",
              "      <td>-0.444452</td>\n",
              "      <td>-0.169741</td>\n",
              "      <td>-0.790815</td>\n",
              "      <td>-0.356074</td>\n",
              "      <td>-0.497216</td>\n",
              "    </tr>\n",
              "    <tr>\n",
              "      <th>9</th>\n",
              "      <td>0</td>\n",
              "      <td>Prototype5</td>\n",
              "      <td>-0.252053</td>\n",
              "      <td>0.327772</td>\n",
              "      <td>0.822327</td>\n",
              "      <td>0.821852</td>\n",
              "      <td>0.736177</td>\n",
              "      <td>0.430117</td>\n",
              "      <td>-0.486058</td>\n",
              "      <td>0.958911</td>\n",
              "      <td>...</td>\n",
              "      <td>0.597000</td>\n",
              "      <td>0.747900</td>\n",
              "      <td>-0.513605</td>\n",
              "      <td>-0.286984</td>\n",
              "      <td>-0.639227</td>\n",
              "      <td>-0.840368</td>\n",
              "      <td>-0.339603</td>\n",
              "      <td>-0.947841</td>\n",
              "      <td>-0.131283</td>\n",
              "      <td>-0.480295</td>\n",
              "    </tr>\n",
              "    <tr>\n",
              "      <th>10</th>\n",
              "      <td>0</td>\n",
              "      <td>Prototype6</td>\n",
              "      <td>0.153923</td>\n",
              "      <td>-0.744620</td>\n",
              "      <td>0.581552</td>\n",
              "      <td>-0.163897</td>\n",
              "      <td>0.490704</td>\n",
              "      <td>0.474336</td>\n",
              "      <td>0.529237</td>\n",
              "      <td>-0.334212</td>\n",
              "      <td>...</td>\n",
              "      <td>0.590382</td>\n",
              "      <td>-0.342684</td>\n",
              "      <td>0.199187</td>\n",
              "      <td>-0.695751</td>\n",
              "      <td>-0.731760</td>\n",
              "      <td>-0.141626</td>\n",
              "      <td>-0.103023</td>\n",
              "      <td>0.009404</td>\n",
              "      <td>-0.225880</td>\n",
              "      <td>0.133680</td>\n",
              "    </tr>\n",
              "    <tr>\n",
              "      <th>11</th>\n",
              "      <td>0</td>\n",
              "      <td>Prototype7</td>\n",
              "      <td>-0.956246</td>\n",
              "      <td>0.332527</td>\n",
              "      <td>-0.938604</td>\n",
              "      <td>-0.987814</td>\n",
              "      <td>0.860042</td>\n",
              "      <td>-0.911554</td>\n",
              "      <td>0.333011</td>\n",
              "      <td>0.930675</td>\n",
              "      <td>...</td>\n",
              "      <td>0.219802</td>\n",
              "      <td>0.448866</td>\n",
              "      <td>0.660258</td>\n",
              "      <td>0.786449</td>\n",
              "      <td>0.894673</td>\n",
              "      <td>0.967960</td>\n",
              "      <td>-0.483490</td>\n",
              "      <td>-0.193331</td>\n",
              "      <td>-0.879345</td>\n",
              "      <td>0.907726</td>\n",
              "    </tr>\n",
              "    <tr>\n",
              "      <th>12</th>\n",
              "      <td>0</td>\n",
              "      <td>Prototype8</td>\n",
              "      <td>-0.649727</td>\n",
              "      <td>0.914674</td>\n",
              "      <td>-0.950078</td>\n",
              "      <td>0.992561</td>\n",
              "      <td>-0.972617</td>\n",
              "      <td>-0.854097</td>\n",
              "      <td>-0.867929</td>\n",
              "      <td>0.967338</td>\n",
              "      <td>...</td>\n",
              "      <td>0.787517</td>\n",
              "      <td>-0.978054</td>\n",
              "      <td>-0.968140</td>\n",
              "      <td>0.120219</td>\n",
              "      <td>0.941491</td>\n",
              "      <td>-0.355105</td>\n",
              "      <td>-0.858503</td>\n",
              "      <td>-0.988538</td>\n",
              "      <td>-0.899443</td>\n",
              "      <td>-0.602483</td>\n",
              "    </tr>\n",
              "    <tr>\n",
              "      <th>13</th>\n",
              "      <td>0</td>\n",
              "      <td>Prototype9</td>\n",
              "      <td>-0.566049</td>\n",
              "      <td>-0.760796</td>\n",
              "      <td>-0.037693</td>\n",
              "      <td>-0.988999</td>\n",
              "      <td>0.560423</td>\n",
              "      <td>-0.003142</td>\n",
              "      <td>-0.961752</td>\n",
              "      <td>-0.908764</td>\n",
              "      <td>...</td>\n",
              "      <td>-0.614049</td>\n",
              "      <td>-0.799267</td>\n",
              "      <td>-0.074474</td>\n",
              "      <td>-0.970084</td>\n",
              "      <td>0.597304</td>\n",
              "      <td>0.860665</td>\n",
              "      <td>-0.903489</td>\n",
              "      <td>-0.562580</td>\n",
              "      <td>-0.197983</td>\n",
              "      <td>-0.558860</td>\n",
              "    </tr>\n",
              "    <tr>\n",
              "      <th>14</th>\n",
              "      <td>0</td>\n",
              "      <td>Prototype10</td>\n",
              "      <td>0.625474</td>\n",
              "      <td>-0.252770</td>\n",
              "      <td>-0.147482</td>\n",
              "      <td>0.630100</td>\n",
              "      <td>0.284709</td>\n",
              "      <td>0.265555</td>\n",
              "      <td>-0.788872</td>\n",
              "      <td>-0.049969</td>\n",
              "      <td>...</td>\n",
              "      <td>-0.230378</td>\n",
              "      <td>0.285560</td>\n",
              "      <td>-0.392617</td>\n",
              "      <td>0.552917</td>\n",
              "      <td>-0.656213</td>\n",
              "      <td>0.651859</td>\n",
              "      <td>0.638950</td>\n",
              "      <td>-0.883032</td>\n",
              "      <td>-0.955031</td>\n",
              "      <td>-0.979972</td>\n",
              "    </tr>\n",
              "    <tr>\n",
              "      <th>15</th>\n",
              "      <td>1</td>\n",
              "      <td>Singleton1</td>\n",
              "      <td>-0.319941</td>\n",
              "      <td>0.281228</td>\n",
              "      <td>-0.044690</td>\n",
              "      <td>0.685934</td>\n",
              "      <td>-0.528511</td>\n",
              "      <td>0.723372</td>\n",
              "      <td>-0.861314</td>\n",
              "      <td>0.240098</td>\n",
              "      <td>...</td>\n",
              "      <td>0.632662</td>\n",
              "      <td>-0.613115</td>\n",
              "      <td>-0.310610</td>\n",
              "      <td>-0.351623</td>\n",
              "      <td>-0.133867</td>\n",
              "      <td>0.030802</td>\n",
              "      <td>-0.198604</td>\n",
              "      <td>-0.855769</td>\n",
              "      <td>-0.045055</td>\n",
              "      <td>-0.704205</td>\n",
              "    </tr>\n",
              "    <tr>\n",
              "      <th>16</th>\n",
              "      <td>1</td>\n",
              "      <td>Singleton2</td>\n",
              "      <td>-0.706132</td>\n",
              "      <td>-0.590105</td>\n",
              "      <td>0.944595</td>\n",
              "      <td>-0.399991</td>\n",
              "      <td>0.253033</td>\n",
              "      <td>-0.108811</td>\n",
              "      <td>-0.959691</td>\n",
              "      <td>-0.537423</td>\n",
              "      <td>...</td>\n",
              "      <td>-0.128099</td>\n",
              "      <td>0.723234</td>\n",
              "      <td>-0.398153</td>\n",
              "      <td>-0.892138</td>\n",
              "      <td>-0.884893</td>\n",
              "      <td>-0.555576</td>\n",
              "      <td>-0.441521</td>\n",
              "      <td>-0.416622</td>\n",
              "      <td>0.639219</td>\n",
              "      <td>-0.995490</td>\n",
              "    </tr>\n",
              "    <tr>\n",
              "      <th>17</th>\n",
              "      <td>1</td>\n",
              "      <td>Singleton3</td>\n",
              "      <td>-0.955321</td>\n",
              "      <td>0.333174</td>\n",
              "      <td>-0.936010</td>\n",
              "      <td>-0.987373</td>\n",
              "      <td>0.859827</td>\n",
              "      <td>-0.910322</td>\n",
              "      <td>0.333821</td>\n",
              "      <td>0.928628</td>\n",
              "      <td>...</td>\n",
              "      <td>0.220022</td>\n",
              "      <td>0.449938</td>\n",
              "      <td>0.659717</td>\n",
              "      <td>0.784587</td>\n",
              "      <td>0.889740</td>\n",
              "      <td>0.966117</td>\n",
              "      <td>-0.480231</td>\n",
              "      <td>-0.192466</td>\n",
              "      <td>-0.876239</td>\n",
              "      <td>0.907594</td>\n",
              "    </tr>\n",
              "    <tr>\n",
              "      <th>18</th>\n",
              "      <td>1</td>\n",
              "      <td>Singleton4</td>\n",
              "      <td>-0.651373</td>\n",
              "      <td>-0.379931</td>\n",
              "      <td>0.389796</td>\n",
              "      <td>-0.812790</td>\n",
              "      <td>0.634708</td>\n",
              "      <td>0.159942</td>\n",
              "      <td>-0.902610</td>\n",
              "      <td>-0.906585</td>\n",
              "      <td>...</td>\n",
              "      <td>-0.136949</td>\n",
              "      <td>-0.577184</td>\n",
              "      <td>-0.031347</td>\n",
              "      <td>-0.985985</td>\n",
              "      <td>0.331528</td>\n",
              "      <td>0.644108</td>\n",
              "      <td>-0.912466</td>\n",
              "      <td>0.151326</td>\n",
              "      <td>0.852380</td>\n",
              "      <td>-0.427615</td>\n",
              "    </tr>\n",
              "    <tr>\n",
              "      <th>19</th>\n",
              "      <td>1</td>\n",
              "      <td>Singleton5</td>\n",
              "      <td>0.762851</td>\n",
              "      <td>0.827451</td>\n",
              "      <td>-0.928271</td>\n",
              "      <td>0.179665</td>\n",
              "      <td>0.042566</td>\n",
              "      <td>0.297119</td>\n",
              "      <td>-0.208889</td>\n",
              "      <td>-0.755366</td>\n",
              "      <td>...</td>\n",
              "      <td>0.306808</td>\n",
              "      <td>-0.088061</td>\n",
              "      <td>0.365087</td>\n",
              "      <td>-0.673839</td>\n",
              "      <td>0.326261</td>\n",
              "      <td>0.662694</td>\n",
              "      <td>-0.635498</td>\n",
              "      <td>-0.455372</td>\n",
              "      <td>0.050711</td>\n",
              "      <td>-0.484391</td>\n",
              "    </tr>\n",
              "    <tr>\n",
              "      <th>20</th>\n",
              "      <td>2</td>\n",
              "      <td>Builder1</td>\n",
              "      <td>-0.357403</td>\n",
              "      <td>-0.803106</td>\n",
              "      <td>-0.061838</td>\n",
              "      <td>-0.490964</td>\n",
              "      <td>0.211970</td>\n",
              "      <td>-0.400165</td>\n",
              "      <td>-0.800115</td>\n",
              "      <td>-0.826143</td>\n",
              "      <td>...</td>\n",
              "      <td>-0.361461</td>\n",
              "      <td>-0.057401</td>\n",
              "      <td>0.491733</td>\n",
              "      <td>-0.546297</td>\n",
              "      <td>0.048640</td>\n",
              "      <td>0.355590</td>\n",
              "      <td>-0.559976</td>\n",
              "      <td>-0.535091</td>\n",
              "      <td>0.222065</td>\n",
              "      <td>0.645734</td>\n",
              "    </tr>\n",
              "    <tr>\n",
              "      <th>21</th>\n",
              "      <td>2</td>\n",
              "      <td>Builder2</td>\n",
              "      <td>-0.357403</td>\n",
              "      <td>-0.803106</td>\n",
              "      <td>-0.061838</td>\n",
              "      <td>-0.490964</td>\n",
              "      <td>0.211970</td>\n",
              "      <td>-0.400165</td>\n",
              "      <td>-0.800115</td>\n",
              "      <td>-0.826143</td>\n",
              "      <td>...</td>\n",
              "      <td>-0.361461</td>\n",
              "      <td>-0.057401</td>\n",
              "      <td>0.491733</td>\n",
              "      <td>-0.546297</td>\n",
              "      <td>0.048640</td>\n",
              "      <td>0.355590</td>\n",
              "      <td>-0.559976</td>\n",
              "      <td>-0.535091</td>\n",
              "      <td>0.222065</td>\n",
              "      <td>0.645734</td>\n",
              "    </tr>\n",
              "    <tr>\n",
              "      <th>22</th>\n",
              "      <td>2</td>\n",
              "      <td>Builder3</td>\n",
              "      <td>-0.247349</td>\n",
              "      <td>-0.768843</td>\n",
              "      <td>0.829535</td>\n",
              "      <td>-0.879139</td>\n",
              "      <td>-0.155249</td>\n",
              "      <td>-0.127082</td>\n",
              "      <td>0.437997</td>\n",
              "      <td>-0.313149</td>\n",
              "      <td>...</td>\n",
              "      <td>-0.795951</td>\n",
              "      <td>0.215179</td>\n",
              "      <td>0.231953</td>\n",
              "      <td>-0.574112</td>\n",
              "      <td>-0.939844</td>\n",
              "      <td>-0.621740</td>\n",
              "      <td>-0.697692</td>\n",
              "      <td>-0.939358</td>\n",
              "      <td>0.835598</td>\n",
              "      <td>0.890137</td>\n",
              "    </tr>\n",
              "    <tr>\n",
              "      <th>23</th>\n",
              "      <td>2</td>\n",
              "      <td>Builder4</td>\n",
              "      <td>-0.367197</td>\n",
              "      <td>-0.087052</td>\n",
              "      <td>-0.985007</td>\n",
              "      <td>0.354694</td>\n",
              "      <td>0.018197</td>\n",
              "      <td>0.954974</td>\n",
              "      <td>-0.950941</td>\n",
              "      <td>0.952997</td>\n",
              "      <td>...</td>\n",
              "      <td>0.475692</td>\n",
              "      <td>-0.991690</td>\n",
              "      <td>-0.867774</td>\n",
              "      <td>0.435887</td>\n",
              "      <td>0.678527</td>\n",
              "      <td>-0.365653</td>\n",
              "      <td>-0.255835</td>\n",
              "      <td>-0.992506</td>\n",
              "      <td>-0.946215</td>\n",
              "      <td>-0.028751</td>\n",
              "    </tr>\n",
              "    <tr>\n",
              "      <th>24</th>\n",
              "      <td>2</td>\n",
              "      <td>Builder5</td>\n",
              "      <td>-0.357403</td>\n",
              "      <td>-0.803106</td>\n",
              "      <td>-0.061838</td>\n",
              "      <td>-0.490964</td>\n",
              "      <td>0.211970</td>\n",
              "      <td>-0.400165</td>\n",
              "      <td>-0.800115</td>\n",
              "      <td>-0.826143</td>\n",
              "      <td>...</td>\n",
              "      <td>-0.361461</td>\n",
              "      <td>-0.057401</td>\n",
              "      <td>0.491733</td>\n",
              "      <td>-0.546297</td>\n",
              "      <td>0.048640</td>\n",
              "      <td>0.355590</td>\n",
              "      <td>-0.559976</td>\n",
              "      <td>-0.535091</td>\n",
              "      <td>0.222065</td>\n",
              "      <td>0.645734</td>\n",
              "    </tr>\n",
              "    <tr>\n",
              "      <th>25</th>\n",
              "      <td>2</td>\n",
              "      <td>Builder6</td>\n",
              "      <td>-0.357403</td>\n",
              "      <td>-0.803106</td>\n",
              "      <td>-0.061838</td>\n",
              "      <td>-0.490964</td>\n",
              "      <td>0.211970</td>\n",
              "      <td>-0.400165</td>\n",
              "      <td>-0.800115</td>\n",
              "      <td>-0.826143</td>\n",
              "      <td>...</td>\n",
              "      <td>-0.361461</td>\n",
              "      <td>-0.057401</td>\n",
              "      <td>0.491733</td>\n",
              "      <td>-0.546297</td>\n",
              "      <td>0.048640</td>\n",
              "      <td>0.355590</td>\n",
              "      <td>-0.559976</td>\n",
              "      <td>-0.535091</td>\n",
              "      <td>0.222065</td>\n",
              "      <td>0.645734</td>\n",
              "    </tr>\n",
              "    <tr>\n",
              "      <th>26</th>\n",
              "      <td>2</td>\n",
              "      <td>Builder7</td>\n",
              "      <td>-0.919672</td>\n",
              "      <td>0.943099</td>\n",
              "      <td>-0.949504</td>\n",
              "      <td>0.935381</td>\n",
              "      <td>-0.986392</td>\n",
              "      <td>-0.872009</td>\n",
              "      <td>-0.991701</td>\n",
              "      <td>0.981991</td>\n",
              "      <td>...</td>\n",
              "      <td>0.748481</td>\n",
              "      <td>-0.953955</td>\n",
              "      <td>-0.978047</td>\n",
              "      <td>-0.565366</td>\n",
              "      <td>0.958142</td>\n",
              "      <td>-0.266608</td>\n",
              "      <td>-0.923312</td>\n",
              "      <td>-0.973925</td>\n",
              "      <td>-0.940564</td>\n",
              "      <td>-0.967568</td>\n",
              "    </tr>\n",
              "  </tbody>\n",
              "</table>\n",
              "<p>27 rows × 386 columns</p>\n",
              "</div>\n",
              "      <button class=\"colab-df-convert\" onclick=\"convertToInteractive('df-59db3eb1-dfd3-4d64-bb5b-527a8528450e')\"\n",
              "              title=\"Convert this dataframe to an interactive table.\"\n",
              "              style=\"display:none;\">\n",
              "        \n",
              "  <svg xmlns=\"http://www.w3.org/2000/svg\" height=\"24px\"viewBox=\"0 0 24 24\"\n",
              "       width=\"24px\">\n",
              "    <path d=\"M0 0h24v24H0V0z\" fill=\"none\"/>\n",
              "    <path d=\"M18.56 5.44l.94 2.06.94-2.06 2.06-.94-2.06-.94-.94-2.06-.94 2.06-2.06.94zm-11 1L8.5 8.5l.94-2.06 2.06-.94-2.06-.94L8.5 2.5l-.94 2.06-2.06.94zm10 10l.94 2.06.94-2.06 2.06-.94-2.06-.94-.94-2.06-.94 2.06-2.06.94z\"/><path d=\"M17.41 7.96l-1.37-1.37c-.4-.4-.92-.59-1.43-.59-.52 0-1.04.2-1.43.59L10.3 9.45l-7.72 7.72c-.78.78-.78 2.05 0 2.83L4 21.41c.39.39.9.59 1.41.59.51 0 1.02-.2 1.41-.59l7.78-7.78 2.81-2.81c.8-.78.8-2.07 0-2.86zM5.41 20L4 18.59l7.72-7.72 1.47 1.35L5.41 20z\"/>\n",
              "  </svg>\n",
              "      </button>\n",
              "      \n",
              "  <style>\n",
              "    .colab-df-container {\n",
              "      display:flex;\n",
              "      flex-wrap:wrap;\n",
              "      gap: 12px;\n",
              "    }\n",
              "\n",
              "    .colab-df-convert {\n",
              "      background-color: #E8F0FE;\n",
              "      border: none;\n",
              "      border-radius: 50%;\n",
              "      cursor: pointer;\n",
              "      display: none;\n",
              "      fill: #1967D2;\n",
              "      height: 32px;\n",
              "      padding: 0 0 0 0;\n",
              "      width: 32px;\n",
              "    }\n",
              "\n",
              "    .colab-df-convert:hover {\n",
              "      background-color: #E2EBFA;\n",
              "      box-shadow: 0px 1px 2px rgba(60, 64, 67, 0.3), 0px 1px 3px 1px rgba(60, 64, 67, 0.15);\n",
              "      fill: #174EA6;\n",
              "    }\n",
              "\n",
              "    [theme=dark] .colab-df-convert {\n",
              "      background-color: #3B4455;\n",
              "      fill: #D2E3FC;\n",
              "    }\n",
              "\n",
              "    [theme=dark] .colab-df-convert:hover {\n",
              "      background-color: #434B5C;\n",
              "      box-shadow: 0px 1px 3px 1px rgba(0, 0, 0, 0.15);\n",
              "      filter: drop-shadow(0px 1px 2px rgba(0, 0, 0, 0.3));\n",
              "      fill: #FFFFFF;\n",
              "    }\n",
              "  </style>\n",
              "\n",
              "      <script>\n",
              "        const buttonEl =\n",
              "          document.querySelector('#df-59db3eb1-dfd3-4d64-bb5b-527a8528450e button.colab-df-convert');\n",
              "        buttonEl.style.display =\n",
              "          google.colab.kernel.accessAllowed ? 'block' : 'none';\n",
              "\n",
              "        async function convertToInteractive(key) {\n",
              "          const element = document.querySelector('#df-59db3eb1-dfd3-4d64-bb5b-527a8528450e');\n",
              "          const dataTable =\n",
              "            await google.colab.kernel.invokeFunction('convertToInteractive',\n",
              "                                                     [key], {});\n",
              "          if (!dataTable) return;\n",
              "\n",
              "          const docLinkHtml = 'Like what you see? Visit the ' +\n",
              "            '<a target=\"_blank\" href=https://colab.research.google.com/notebooks/data_table.ipynb>data table notebook</a>'\n",
              "            + ' to learn more about interactive tables.';\n",
              "          element.innerHTML = '';\n",
              "          dataTable['output_type'] = 'display_data';\n",
              "          await google.colab.output.renderOutput(dataTable, element);\n",
              "          const docLink = document.createElement('div');\n",
              "          docLink.innerHTML = docLinkHtml;\n",
              "          element.appendChild(docLink);\n",
              "        }\n",
              "      </script>\n",
              "    </div>\n",
              "  </div>\n",
              "  "
            ]
          },
          "metadata": {},
          "execution_count": 5
        }
      ]
    },
    {
      "cell_type": "code",
      "source": [
        "dff=df\n",
        "x=df.drop(columns=[\"Programs\"])\n",
        "x\n",
        "\n",
        "arr=x.to_numpy()\n",
        "arr"
      ],
      "metadata": {
        "colab": {
          "base_uri": "https://localhost:8080/"
        },
        "id": "hOn7GF15pRN8",
        "outputId": "1273e9b8-213d-4fea-e7f9-837b39335223"
      },
      "execution_count": null,
      "outputs": [
        {
          "output_type": "execute_result",
          "data": {
            "text/plain": [
              "array([[ 1.        , -0.0507086 ,  0.05087889, ...,  0.09971674,\n",
              "         0.70517445, -0.12331224],\n",
              "       [ 1.        , -0.6535388 , -0.38107896, ...,  0.14979324,\n",
              "         0.8535993 , -0.42655653],\n",
              "       [ 1.        , -0.6513725 , -0.3799311 , ...,  0.15132613,\n",
              "         0.85237974, -0.42761508],\n",
              "       ...,\n",
              "       [ 2.        , -0.35740307, -0.8031057 , ..., -0.535091  ,\n",
              "         0.22206488,  0.6457337 ],\n",
              "       [ 2.        , -0.35740307, -0.8031057 , ..., -0.535091  ,\n",
              "         0.22206488,  0.6457337 ],\n",
              "       [ 2.        , -0.9196716 ,  0.94309884, ..., -0.9739246 ,\n",
              "        -0.9405638 , -0.9675676 ]])"
            ]
          },
          "metadata": {},
          "execution_count": 6
        }
      ]
    },
    {
      "cell_type": "markdown",
      "source": [
        "TSNE has been used for dimensity reduction and plotting"
      ],
      "metadata": {
        "id": "DYqKf4MsXtLA"
      }
    },
    {
      "cell_type": "code",
      "source": [
        "import pandas as pd\n",
        "from sklearn.manifold import TSNE\n",
        "\n",
        "# Convert to a list of lists of floats\n",
        "\n",
        "\n",
        "# Create a t-SNE model and transform the data\n",
        "tsne = TSNE(n_components=2, \n",
        "            perplexity=15, \n",
        "            random_state=42, \n",
        "            init='random', \n",
        "            learning_rate=200)\n",
        "\n",
        "vis_dims = tsne.fit_transform(arr)\n",
        "vis_dims.shape"
      ],
      "metadata": {
        "colab": {
          "base_uri": "https://localhost:8080/"
        },
        "id": "WYSVHbIyxzFY",
        "outputId": "6e78a02f-a083-4b7e-9c5b-b9ebcc0eb650"
      },
      "execution_count": null,
      "outputs": [
        {
          "output_type": "execute_result",
          "data": {
            "text/plain": [
              "(27, 2)"
            ]
          },
          "metadata": {},
          "execution_count": 7
        }
      ]
    },
    {
      "cell_type": "code",
      "source": [
        "import matplotlib.pyplot as plt\n",
        "import matplotlib\n",
        "import numpy as np\n",
        "\n",
        "colors = [\"red\", \"darkgreen\", \"grey\"]\n",
        "x = [x for x,y in vis_dims]\n",
        "y = [y for x,y in vis_dims]\n",
        "rndperm = np.random.permutation(df.shape[0])\n",
        "color_indices = df['Programs']\n",
        "colormap = matplotlib.colors.ListedColormap(colors)\n",
        "plt.scatter(x, y,c=df[\"Singleton\"], cmap=colormap, alpha=0.3)\n",
        "for score in [0,1]:\n",
        "  color = colors[score]\n",
        "plt.title(\"Code framents embeddings\")\n",
        "\n",
        "# zip joins x and y coordinates in pairs\n",
        "iIndex = 0\n",
        "for x,y in vis_dims:\n",
        "\n",
        "    label = df.iloc[iIndex].Programs\n",
        "    iIndex +=1\n",
        "\n",
        "    plt.annotate(label, # this is the text\n",
        "                 (x,y), # these are the coordinates to position the label\n",
        "                 textcoords=\"offset points\", # how to position the text\n",
        "                 xytext=(0,-10), # distance from text to points (x,y)\n",
        "                 ha='center') # horizontal align"
      ],
      "metadata": {
        "colab": {
          "base_uri": "https://localhost:8080/",
          "height": 452
        },
        "id": "Rx_DjymID_aV",
        "outputId": "cfbee707-d118-4503-f7d0-a09ad4f076c6"
      },
      "execution_count": null,
      "outputs": [
        {
          "output_type": "display_data",
          "data": {
            "text/plain": [
              "<Figure size 640x480 with 1 Axes>"
            ],
            "image/png": "[encoded data removed]"
          },
          "metadata": {}
        }
      ]
    },
    {
      "cell_type": "markdown",
      "source": [
        "The reduced dimention has been stored in a dataframe along with their classes Prototype, singelton or builder."
      ],
      "metadata": {
        "id": "-H4jsSPQX5qH"
      }
    },
    {
      "cell_type": "code",
      "source": [
        "d_array=pd.DataFrame(vis_dims, columns=['x','y'])\n",
        "d_array['class'] =df['Singleton']\n",
        "d_array"
      ],
      "metadata": {
        "colab": {
          "base_uri": "https://localhost:8080/",
          "height": 896
        },
        "id": "-w7TyxNLDzKm",
        "outputId": "97b39128-b246-4f8c-db85-2b19989a9e16"
      },
      "execution_count": null,
      "outputs": [
        {
          "output_type": "execute_result",
          "data": {
            "text/plain": [
              "             x           y  class\n",
              "0   -63.487869    6.783299      1\n",
              "1  -193.787552  139.868408      1\n",
              "2  -293.146301    0.768381      1\n",
              "3  -191.852341   36.748978      1\n",
              "4   235.334412 -378.661530      0\n",
              "5   334.904236 -458.779724      0\n",
              "6   366.929657 -332.671906      0\n",
              "7  -283.597504  210.706497      1\n",
              "8   153.087204 -268.824493      0\n",
              "9   278.461639 -288.233917      0\n",
              "10   27.730843 -141.440491      0\n",
              "11 -209.461685 -178.954330      0\n",
              "12  347.676117   11.735910      0\n",
              "13  191.507004  277.919739      0\n",
              "14  144.126846 -478.915985      0\n",
              "15  198.449539 -183.797684      1\n",
              "16   62.573933 -356.976807      1\n",
              "17 -172.374207 -255.311081      1\n",
              "18 -314.257812  106.451897      1\n",
              "19 -145.328796  274.426178      1\n",
              "20   45.864361  245.711914      2\n",
              "21   36.758862   94.305534      2\n",
              "22  -21.916729  368.826263      2\n",
              "23  333.153168 -133.407166      2\n",
              "24  111.939606  161.741180      2\n",
              "25  -29.716274  175.366989      2\n",
              "26  260.551910  -18.413786      2"
            ],
            "text/html": [
              "\n",
              "  <div id=\"df-842092a4-e35b-4a86-8a67-615c626d7eaf\">\n",
              "    <div class=\"colab-df-container\">\n",
              "      <div>\n",
              "<style scoped>\n",
              "    .dataframe tbody tr th:only-of-type {\n",
              "        vertical-align: middle;\n",
              "    }\n",
              "\n",
              "    .dataframe tbody tr th {\n",
              "        vertical-align: top;\n",
              "    }\n",
              "\n",
              "    .dataframe thead th {\n",
              "        text-align: right;\n",
              "    }\n",
              "</style>\n",
              "<table border=\"1\" class=\"dataframe\">\n",
              "  <thead>\n",
              "    <tr style=\"text-align: right;\">\n",
              "      <th></th>\n",
              "      <th>x</th>\n",
              "      <th>y</th>\n",
              "      <th>class</th>\n",
              "    </tr>\n",
              "  </thead>\n",
              "  <tbody>\n",
              "    <tr>\n",
              "      <th>0</th>\n",
              "      <td>-63.487869</td>\n",
              "      <td>6.783299</td>\n",
              "      <td>1</td>\n",
              "    </tr>\n",
              "    <tr>\n",
              "      <th>1</th>\n",
              "      <td>-193.787552</td>\n",
              "      <td>139.868408</td>\n",
              "      <td>1</td>\n",
              "    </tr>\n",
              "    <tr>\n",
              "      <th>2</th>\n",
              "      <td>-293.146301</td>\n",
              "      <td>0.768381</td>\n",
              "      <td>1</td>\n",
              "    </tr>\n",
              "    <tr>\n",
              "      <th>3</th>\n",
              "      <td>-191.852341</td>\n",
              "      <td>36.748978</td>\n",
              "      <td>1</td>\n",
              "    </tr>\n",
              "    <tr>\n",
              "      <th>4</th>\n",
              "      <td>235.334412</td>\n",
              "      <td>-378.661530</td>\n",
              "      <td>0</td>\n",
              "    </tr>\n",
              "    <tr>\n",
              "      <th>5</th>\n",
              "      <td>334.904236</td>\n",
              "      <td>-458.779724</td>\n",
              "      <td>0</td>\n",
              "    </tr>\n",
              "    <tr>\n",
              "      <th>6</th>\n",
              "      <td>366.929657</td>\n",
              "      <td>-332.671906</td>\n",
              "      <td>0</td>\n",
              "    </tr>\n",
              "    <tr>\n",
              "      <th>7</th>\n",
              "      <td>-283.597504</td>\n",
              "      <td>210.706497</td>\n",
              "      <td>1</td>\n",
              "    </tr>\n",
              "    <tr>\n",
              "      <th>8</th>\n",
              "      <td>153.087204</td>\n",
              "      <td>-268.824493</td>\n",
              "      <td>0</td>\n",
              "    </tr>\n",
              "    <tr>\n",
              "      <th>9</th>\n",
              "      <td>278.461639</td>\n",
              "      <td>-288.233917</td>\n",
              "      <td>0</td>\n",
              "    </tr>\n",
              "    <tr>\n",
              "      <th>10</th>\n",
              "      <td>27.730843</td>\n",
              "      <td>-141.440491</td>\n",
              "      <td>0</td>\n",
              "    </tr>\n",
              "    <tr>\n",
              "      <th>11</th>\n",
              "      <td>-209.461685</td>\n",
              "      <td>-178.954330</td>\n",
              "      <td>0</td>\n",
              "    </tr>\n",
              "    <tr>\n",
              "      <th>12</th>\n",
              "      <td>347.676117</td>\n",
              "      <td>11.735910</td>\n",
              "      <td>0</td>\n",
              "    </tr>\n",
              "    <tr>\n",
              "      <th>13</th>\n",
              "      <td>191.507004</td>\n",
              "      <td>277.919739</td>\n",
              "      <td>0</td>\n",
              "    </tr>\n",
              "    <tr>\n",
              "      <th>14</th>\n",
              "      <td>144.126846</td>\n",
              "      <td>-478.915985</td>\n",
              "      <td>0</td>\n",
              "    </tr>\n",
              "    <tr>\n",
              "      <th>15</th>\n",
              "      <td>198.449539</td>\n",
              "      <td>-183.797684</td>\n",
              "      <td>1</td>\n",
              "    </tr>\n",
              "    <tr>\n",
              "      <th>16</th>\n",
              "      <td>62.573933</td>\n",
              "      <td>-356.976807</td>\n",
              "      <td>1</td>\n",
              "    </tr>\n",
              "    <tr>\n",
              "      <th>17</th>\n",
              "      <td>-172.374207</td>\n",
              "      <td>-255.311081</td>\n",
              "      <td>1</td>\n",
              "    </tr>\n",
              "    <tr>\n",
              "      <th>18</th>\n",
              "      <td>-314.257812</td>\n",
              "      <td>106.451897</td>\n",
              "      <td>1</td>\n",
              "    </tr>\n",
              "    <tr>\n",
              "      <th>19</th>\n",
              "      <td>-145.328796</td>\n",
              "      <td>274.426178</td>\n",
              "      <td>1</td>\n",
              "    </tr>\n",
              "    <tr>\n",
              "      <th>20</th>\n",
              "      <td>45.864361</td>\n",
              "      <td>245.711914</td>\n",
              "      <td>2</td>\n",
              "    </tr>\n",
              "    <tr>\n",
              "      <th>21</th>\n",
              "      <td>36.758862</td>\n",
              "      <td>94.305534</td>\n",
              "      <td>2</td>\n",
              "    </tr>\n",
              "    <tr>\n",
              "      <th>22</th>\n",
              "      <td>-21.916729</td>\n",
              "      <td>368.826263</td>\n",
              "      <td>2</td>\n",
              "    </tr>\n",
              "    <tr>\n",
              "      <th>23</th>\n",
              "      <td>333.153168</td>\n",
              "      <td>-133.407166</td>\n",
              "      <td>2</td>\n",
              "    </tr>\n",
              "    <tr>\n",
              "      <th>24</th>\n",
              "      <td>111.939606</td>\n",
              "      <td>161.741180</td>\n",
              "      <td>2</td>\n",
              "    </tr>\n",
              "    <tr>\n",
              "      <th>25</th>\n",
              "      <td>-29.716274</td>\n",
              "      <td>175.366989</td>\n",
              "      <td>2</td>\n",
              "    </tr>\n",
              "    <tr>\n",
              "      <th>26</th>\n",
              "      <td>260.551910</td>\n",
              "      <td>-18.413786</td>\n",
              "      <td>2</td>\n",
              "    </tr>\n",
              "  </tbody>\n",
              "</table>\n",
              "</div>\n",
              "      <button class=\"colab-df-convert\" onclick=\"convertToInteractive('df-842092a4-e35b-4a86-8a67-615c626d7eaf')\"\n",
              "              title=\"Convert this dataframe to an interactive table.\"\n",
              "              style=\"display:none;\">\n",
              "        \n",
              "  <svg xmlns=\"http://www.w3.org/2000/svg\" height=\"24px\"viewBox=\"0 0 24 24\"\n",
              "       width=\"24px\">\n",
              "    <path d=\"M0 0h24v24H0V0z\" fill=\"none\"/>\n",
              "    <path d=\"M18.56 5.44l.94 2.06.94-2.06 2.06-.94-2.06-.94-.94-2.06-.94 2.06-2.06.94zm-11 1L8.5 8.5l.94-2.06 2.06-.94-2.06-.94L8.5 2.5l-.94 2.06-2.06.94zm10 10l.94 2.06.94-2.06 2.06-.94-2.06-.94-.94-2.06-.94 2.06-2.06.94z\"/><path d=\"M17.41 7.96l-1.37-1.37c-.4-.4-.92-.59-1.43-.59-.52 0-1.04.2-1.43.59L10.3 9.45l-7.72 7.72c-.78.78-.78 2.05 0 2.83L4 21.41c.39.39.9.59 1.41.59.51 0 1.02-.2 1.41-.59l7.78-7.78 2.81-2.81c.8-.78.8-2.07 0-2.86zM5.41 20L4 18.59l7.72-7.72 1.47 1.35L5.41 20z\"/>\n",
              "  </svg>\n",
              "      </button>\n",
              "      \n",
              "  <style>\n",
              "    .colab-df-container {\n",
              "      display:flex;\n",
              "      flex-wrap:wrap;\n",
              "      gap: 12px;\n",
              "    }\n",
              "\n",
              "    .colab-df-convert {\n",
              "      background-color: #E8F0FE;\n",
              "      border: none;\n",
              "      border-radius: 50%;\n",
              "      cursor: pointer;\n",
              "      display: none;\n",
              "      fill: #1967D2;\n",
              "      height: 32px;\n",
              "      padding: 0 0 0 0;\n",
              "      width: 32px;\n",
              "    }\n",
              "\n",
              "    .colab-df-convert:hover {\n",
              "      background-color: #E2EBFA;\n",
              "      box-shadow: 0px 1px 2px rgba(60, 64, 67, 0.3), 0px 1px 3px 1px rgba(60, 64, 67, 0.15);\n",
              "      fill: #174EA6;\n",
              "    }\n",
              "\n",
              "    [theme=dark] .colab-df-convert {\n",
              "      background-color: #3B4455;\n",
              "      fill: #D2E3FC;\n",
              "    }\n",
              "\n",
              "    [theme=dark] .colab-df-convert:hover {\n",
              "      background-color: #434B5C;\n",
              "      box-shadow: 0px 1px 3px 1px rgba(0, 0, 0, 0.15);\n",
              "      filter: drop-shadow(0px 1px 2px rgba(0, 0, 0, 0.3));\n",
              "      fill: #FFFFFF;\n",
              "    }\n",
              "  </style>\n",
              "\n",
              "      <script>\n",
              "        const buttonEl =\n",
              "          document.querySelector('#df-842092a4-e35b-4a86-8a67-615c626d7eaf button.colab-df-convert');\n",
              "        buttonEl.style.display =\n",
              "          google.colab.kernel.accessAllowed ? 'block' : 'none';\n",
              "\n",
              "        async function convertToInteractive(key) {\n",
              "          const element = document.querySelector('#df-842092a4-e35b-4a86-8a67-615c626d7eaf');\n",
              "          const dataTable =\n",
              "            await google.colab.kernel.invokeFunction('convertToInteractive',\n",
              "                                                     [key], {});\n",
              "          if (!dataTable) return;\n",
              "\n",
              "          const docLinkHtml = 'Like what you see? Visit the ' +\n",
              "            '<a target=\"_blank\" href=https://colab.research.google.com/notebooks/data_table.ipynb>data table notebook</a>'\n",
              "            + ' to learn more about interactive tables.';\n",
              "          element.innerHTML = '';\n",
              "          dataTable['output_type'] = 'display_data';\n",
              "          await google.colab.output.renderOutput(dataTable, element);\n",
              "          const docLink = document.createElement('div');\n",
              "          docLink.innerHTML = docLinkHtml;\n",
              "          element.appendChild(docLink);\n",
              "        }\n",
              "      </script>\n",
              "    </div>\n",
              "  </div>\n",
              "  "
            ]
          },
          "metadata": {},
          "execution_count": 9
        }
      ]
    },
    {
      "cell_type": "markdown",
      "source": [
        "This chunk of code has been used to perform clustering. Code snippets below are similar but have been used to show the clusters in different forms."
      ],
      "metadata": {
        "id": "218BFxsxYIe0"
      }
    },
    {
      "cell_type": "code",
      "source": [
        "\n",
        "from copy import deepcopy\n",
        "# Getting the values and plotting it\n",
        "f1 = d_array['x'].values\n",
        "f2 = d_array['y'].values\n",
        "X = np.array(list(zip(f1, f2)))\n",
        "#plt.figure(8,5)\n",
        "plt.scatter(f1, f2, c='black', s=7)\n",
        "plt.show()\n",
        "def dist(a, b, ax=1):\n",
        "    return np.linalg.norm(a - b, axis=ax)\n",
        "\n",
        "k = 3\n",
        "# X coordinates of random centroids\n",
        "C_x = np.random.randint(0, np.max(X)-20, size=k)\n",
        "# Y coordinates of random centroids\n",
        "C_y = np.random.randint(0, np.max(X)-20, size=k)\n",
        "C = np.array(list(zip(C_x, C_y)), dtype=np.float32)\n",
        "print(C)\n",
        "\n",
        "# To store the value of centroids when it updates\n",
        "C_old = np.zeros(C.shape)\n",
        "# Cluster Lables(0, 1, 2)\n",
        "clusters = np.zeros(len(X))\n",
        "# Error func. - Distance between new centroids and old centroids\n",
        "error = dist(C, C_old, None)\n",
        "# Loop will run till the error becomes zero\n",
        "while error != 0:\n",
        "    # Assigning each value to its closest cluster\n",
        "    for i in range(len(X)):\n",
        "        distances = dist(X[i], C)\n",
        "        cluster = np.argmin(distances)\n",
        "        clusters[i] = cluster\n",
        "    # Storing the old centroid values\n",
        "    C_old = deepcopy(C)\n",
        "    # Finding the new centroids by taking the average value\n",
        "    for i in range(k):\n",
        "        points = [X[j] for j in range(len(X)) if clusters[j] == i]\n",
        "        C[i] = np.mean(points, axis=0)\n",
        "    error = dist(C, C_old, None)\n",
        "\n",
        "colors = ['r', 'g', 'b', 'y', 'c', 'm']\n",
        "fig, ax = plt.subplots()\n",
        "for i in range(k):\n",
        "        points = np.array([X[j] for j in range(len(X)) if clusters[j] == i])\n",
        "        ax.scatter(points[:, 0], points[:, 1], s=20, c=colors[i])\n",
        "ax.scatter(C[:, 0], C[:, 1], s=100, c='#050505')\n",
        "\n"
      ],
      "metadata": {
        "colab": {
          "base_uri": "https://localhost:8080/",
          "height": 916
        },
        "id": "1SRsCFTOHTI3",
        "outputId": "d3353129-694e-4f55-ef32-65f9d592b07c"
      },
      "execution_count": null,
      "outputs": [
        {
          "output_type": "display_data",
          "data": {
            "text/plain": [
              "<Figure size 640x480 with 1 Axes>"
            ],
            "image/png": "[encoded data removed]"
          },
          "metadata": {}
        },
        {
          "output_type": "stream",
          "name": "stdout",
          "text": [
            "[[222.  26.]\n",
            " [225. 115.]\n",
            " [131.  14.]]\n"
          ]
        },
        {
          "output_type": "execute_result",
          "data": {
            "text/plain": [
              "<matplotlib.collections.PathCollection at 0x7f5d361276d0>"
            ]
          },
          "metadata": {},
          "execution_count": 10
        },
        {
          "output_type": "display_data",
          "data": {
            "text/plain": [
              "<Figure size 640x480 with 1 Axes>"
            ],
            "image/png": "[encoded data removed]"
          },
          "metadata": {}
        }
      ]
    },
    {
      "cell_type": "code",
      "source": [
        "from scipy.spatial import ConvexHull\n",
        "\n",
        "# Getting the values and plotting it\n",
        "f1 = d_array['x'].values\n",
        "f2 = d_array['y'].values\n",
        "X = np.array(list(zip(f1, f2)))\n",
        "plt.scatter(f1, f2, c='black', s=7)\n",
        "\n",
        "k = 3\n",
        "# X coordinates of random centroids\n",
        "C_x = np.random.randint(0, np.max(X)-20, size=k)\n",
        "# Y coordinates of random centroids\n",
        "C_y = np.random.randint(0, np.max(X)-20, size=k)\n",
        "C = np.array(list(zip(C_x, C_y)), dtype=np.float32)\n",
        "\n",
        "# To store the value of centroids when it updates\n",
        "C_old = np.zeros(C.shape)\n",
        "# Cluster Lables(0, 1, 2)\n",
        "clusters = np.zeros(len(X))\n",
        "# Error func. - Distance between new centroids and old centroids\n",
        "error = dist(C, C_old, None)\n",
        "# Loop will run till the error becomes zero\n",
        "while error != 0:\n",
        "    # Assigning each value to its closest cluster\n",
        "    for i in range(len(X)):\n",
        "        distances = dist(X[i], C)\n",
        "        cluster = np.argmin(distances)\n",
        "        clusters[i] = cluster\n",
        "    # Storing the old centroid values\n",
        "    C_old = deepcopy(C)\n",
        "    # Finding the new centroids by taking the average value\n",
        "    for i in range(k):\n",
        "        points = [X[j] for j in range(len(X)) if clusters[j] == i]\n",
        "        C[i] = np.mean(points, axis=0)\n",
        "    error = dist(C, C_old, None)\n",
        "\n",
        "colors = ['r', 'g', 'b', 'y', 'c', 'm']\n",
        "fig, ax = plt.subplots()\n",
        "for i in range(k):\n",
        "    points = np.array([X[j] for j in range(len(X)) if clusters[j] == i])\n",
        "    hull = ConvexHull(points)\n",
        "    ax.scatter(points[:, 0], points[:, 1], s=30, c=colors[i])\n",
        "    for simplex in hull.simplices:\n",
        "        ax.plot(points[simplex, 0], points[simplex, 1], colors[i])\n",
        "\n",
        "ax.scatter(C[:, 0], C[:, 1], s=100, c='#050505')\n",
        "plt.show()\n"
      ],
      "metadata": {
        "colab": {
          "base_uri": "https://localhost:8080/",
          "height": 845
        },
        "id": "l7aNLAWQflnk",
        "outputId": "36c6d5dd-5a94-46e4-f1c0-6945754843ba"
      },
      "execution_count": null,
      "outputs": [
        {
          "output_type": "display_data",
          "data": {
            "text/plain": [
              "<Figure size 640x480 with 1 Axes>"
            ],
            "image/png": "[encoded data removed]"
          },
          "metadata": {}
        },
        {
          "output_type": "display_data",
          "data": {
            "text/plain": [
              "<Figure size 640x480 with 1 Axes>"
            ],
            "image/png": "[encoded data removed]"
          },
          "metadata": {}
        }
      ]
    },
    {
      "cell_type": "code",
      "source": [
        "from copy import deepcopy\n",
        "import matplotlib.pyplot as plt\n",
        "import numpy as np\n",
        "\n",
        "# Getting the values and plotting it\n",
        "f1 = d_array['x'].values\n",
        "f2 = d_array['y'].values\n",
        "X = np.array(list(zip(f1, f2)))\n",
        "\n",
        "plt.scatter(f1, f2, c='black', s=7)\n",
        "\n",
        "def dist(a, b, ax=1):\n",
        "    return np.linalg.norm(a - b, axis=ax)\n",
        "\n",
        "k = 3\n",
        "# X coordinates of random centroids\n",
        "C_x = np.random.randint(0, np.max(X)-20, size=k)\n",
        "# Y coordinates of random centroids\n",
        "C_y = np.random.randint(0, np.max(X)-20, size=k)\n",
        "C = np.array(list(zip(C_x, C_y)), dtype=np.float32)\n",
        "\n",
        "# To store the value of centroids when it updates\n",
        "C_old = np.zeros(C.shape)\n",
        "# Cluster Lables(0, 1, 2)\n",
        "clusters = np.zeros(len(X))\n",
        "# Error func. - Distance between new centroids and old centroids\n",
        "error = dist(C, C_old, None)\n",
        "# Loop will run till the error becomes zero\n",
        "while error != 0:\n",
        "    # Assigning each value to its closest cluster\n",
        "    for i in range(len(X)):\n",
        "        distances = dist(X[i], C)\n",
        "        cluster = np.argmin(distances)\n",
        "        clusters[i] = cluster\n",
        "    # Storing the old centroid values\n",
        "    C_old = deepcopy(C)\n",
        "    # Finding the new centroids by taking the average value\n",
        "    for i in range(k):\n",
        "        points = [X[j] for j in range(len(X)) if clusters[j] == i]\n",
        "        C[i] = np.mean(points, axis=0)\n",
        "    error = dist(C, C_old, None)\n",
        "\n",
        "colors = ['r', 'g', 'b', 'y', 'c', 'm']\n",
        "fig, ax = plt.subplots()\n",
        "\n",
        "for i in range(k):\n",
        "    points = np.array([X[j] for j in range(len(X)) if clusters[j] == i])\n",
        "    circle_radius = np.max(dist(points, C[i]))\n",
        "    circle = plt.Circle((C[i][0], C[i][1]), circle_radius, color=colors[i], alpha=0.1)\n",
        "    ax.add_artist(circle)\n",
        "    ax.scatter(points[:, 0], points[:, 1], s=20, c=colors[i])\n",
        "\n",
        "ax.scatter(C[:, 0], C[:, 1], s=100, c='#050505')\n",
        "ax.set_aspect('equal', adjustable='box')\n",
        "plt.show()\n"
      ],
      "metadata": {
        "id": "y3qh_zIRvJq4",
        "outputId": "b9eb21fd-f12a-46c3-b85b-bfd449215504",
        "colab": {
          "base_uri": "https://localhost:8080/",
          "height": 845
        }
      },
      "execution_count": null,
      "outputs": [
        {
          "output_type": "display_data",
          "data": {
            "text/plain": [
              "<Figure size 640x480 with 1 Axes>"
            ],
            "image/png": "[encoded data removed]"
          },
          "metadata": {}
        },
        {
          "output_type": "display_data",
          "data": {
            "text/plain": [
              "<Figure size 640x480 with 1 Axes>"
            ],
            "image/png": "[encoded data removed]"
          },
          "metadata": {}
        }
      ]
    },
    {
      "cell_type": "code",
      "source": [
        "clusters"
      ],
      "metadata": {
        "colab": {
          "base_uri": "https://localhost:8080/"
        },
        "id": "xoRAUQBdu0xM",
        "outputId": "ddabad33-13ef-4c49-aee8-c46454c9d251"
      },
      "execution_count": null,
      "outputs": [
        {
          "output_type": "execute_result",
          "data": {
            "text/plain": [
              "array([2., 2., 2., 2., 1., 1., 1., 2., 1., 1., 1., 2., 1., 0., 1., 1., 1.,\n",
              "       2., 2., 0., 0., 0., 0., 1., 0., 0., 1.])"
            ]
          },
          "metadata": {},
          "execution_count": 12
        }
      ]
    },
    {
      "cell_type": "markdown",
      "source": [
        "PCA dimensity reduction of the code vectors."
      ],
      "metadata": {
        "id": "r4m3RiTbYm87"
      }
    },
    {
      "cell_type": "code",
      "source": [
        "from sklearn.decomposition import PCA\n",
        "\n",
        "pcaComp = PCA(n_components=2,\n",
        "              random_state=42)\n",
        "\n",
        "vis_dims = pcaComp.fit_transform(arr)\n",
        "vis_dims.shape"
      ],
      "metadata": {
        "colab": {
          "base_uri": "https://localhost:8080/"
        },
        "id": "e8iDEamPHBpD",
        "outputId": "4148f665-371c-4f8e-90a0-60d9fd23fd2c"
      },
      "execution_count": null,
      "outputs": [
        {
          "output_type": "execute_result",
          "data": {
            "text/plain": [
              "(27, 2)"
            ]
          },
          "metadata": {},
          "execution_count": 13
        }
      ]
    },
    {
      "cell_type": "code",
      "source": [
        "import matplotlib.pyplot as plt\n",
        "import matplotlib\n",
        "import numpy as np\n",
        "\n",
        "colors = [\"red\", \"darkgreen\",\"blue\"]\n",
        "x = [x for x,y in vis_dims]\n",
        "y = [y for x,y in vis_dims]\n",
        "\n",
        "\n",
        "colormap = matplotlib.colors.ListedColormap(colors)\n",
        "plt.scatter(x, y,c=df[\"Singleton\"], cmap=colormap, alpha=0.3)\n",
        "for score in [0,1]:\n",
        "    color = colors[score]\n",
        "plt.title(\"Code fragments embeddings\")\n",
        "plt.rcParams['figure.figsize'] = (5,5)\n",
        "\n",
        "# zip joins x and y coordinates in pairs\n",
        "iIndex = 0\n",
        "for x,y in vis_dims:\n",
        "  label = df.iloc[iIndex].Programs\n",
        "  iIndex +=1\n",
        "\n",
        "  plt.annotate(label, # this is the text\n",
        "                (x,y), # these are the coordinates to position the label\n",
        "                textcoords=\"offset points\", # how to position the text\n",
        "                xytext=(0,-10), # distance from text to points (x,y)\n",
        "                ha='center') "
      ],
      "metadata": {
        "colab": {
          "base_uri": "https://localhost:8080/",
          "height": 452
        },
        "id": "uv2K7LYOILAn",
        "outputId": "880e8012-5cb5-4afd-957f-9282ac30efdd"
      },
      "execution_count": null,
      "outputs": [
        {
          "output_type": "display_data",
          "data": {
            "text/plain": [
              "<Figure size 640x480 with 1 Axes>"
            ],
            "image/png": "[encoded data removed]"
          },
          "metadata": {}
        }
      ]
    }
  ]
}